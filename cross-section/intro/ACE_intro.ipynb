{
 "cells": [
  {
   "cell_type": "markdown",
   "source": [
    "XS plotting\n",
    "===========\n",
    "\n",
    "This notebook uses the ``pyne.ace`` module to plot cross-sections.\n",
    "ACE (A Compact ENDF) files are a point-wise representation of cross-section,\n",
    "considered to be \"continuous energy\" (as in not discrete) for all practical\n",
    "purposes.\n",
    "\n",
    "ACE files originate from processing ENDFs (Evaluated Nuclear Data File) with\n",
    "some cross section preparation code, such as NJOY.\n",
    "ACE files already contain some form of approximation compared to ENDFs\n",
    "(at least some form of doppler broadening, since ACE libraries are for a certain\n",
    "temperature, and most likely assumptions regarding unresolved resonances and\n",
    "how to represent them as points, but I would have to check more precisely to\n",
    "make a strong statement), so in the future I would like to change this to using\n",
    "ENDF for the plotting and making these assumptions explicit here."
   ],
   "metadata": {
    "collapsed": false
   }
  },
  {
   "cell_type": "code",
   "execution_count": null,
   "outputs": [],
   "source": [
    "%matplotlib inline\n",
    "\n",
    "latex = False\n",
    "\n",
    "if latex:\n",
    "    import matplotlib as mpl\n",
    "    mpl.use(\"pgf\")\n",
    "    pgf_with_rc_fonts = {\n",
    "        \"font.family\": \"serif\",\n",
    "        \"font.serif\": [],                   # use latex default serif font\n",
    "        \"font.sans-serif\": [\"DejaVu Sans\"], # use a specific sans-serif font\n",
    "    }\n",
    "    mpl.rcParams.update(pgf_with_rc_fonts)\n",
    "\n",
    "import os\n",
    "import numpy as np\n",
    "import matplotlib as mpl\n",
    "import matplotlib.pyplot as plt\n",
    "import pyne\n",
    "from pyne import ace\n",
    "\n",
    "mpl.style.use('seaborn')\n",
    "\n",
    "#if not os.path.isfile(\"54135JEF311.ace\"):\n",
    "#    from urllib import urlretrieve\n",
    "#    urlretrieve(\"https://www-nds.iaea.org/wolfram/w180/beta3/W180.ace\", \"W180.ace\")\n",
    "\n",
    "ene = 'Neutron energy (MeV)'\n",
    "\n",
    "xs = '$ \\sigma $ (barn)'\n",
    "xs_t = '$ \\sigma_{\\mathrm{t}} $ (barn)'\n",
    "xs_e = '$ \\sigma_{\\mathrm{e}} $ (barn)'\n",
    "xs_a = '$ \\sigma_{\\mathrm{a}} $ (barn)'\n",
    "xs_f = '$ \\sigma_{\\mathrm{f}} $ (barn)'\n",
    "xs_gamma = '$ \\sigma_{\\gamma} $ (barn)'\n",
    "xs_alpha = '$ \\sigma_{\\\\alpha} $ (barn)'\n",
    "\n",
    "nut = '$ \\\\nu_{\\mathrm{t}}$'\n",
    "eta = '$ \\eta $ '"
   ],
   "metadata": {
    "collapsed": false,
    "pycharm": {
     "name": "#%%\n"
    }
   }
  },
  {
   "cell_type": "markdown",
   "source": [
    "The main class in ``pyne.ace`` is called ``Library``. It is instantiated using the name of an ACE file, in this case one distributed with Serpent."
   ],
   "metadata": {
    "collapsed": false
   }
  },
  {
   "cell_type": "code",
   "execution_count": null,
   "outputs": [],
   "source": [
    "U235 = ace.Library(\"/Users/rodrigo/opt/Serpent2/xsdata/jeff311/acedata/92235JEF311.ace\")"
   ],
   "metadata": {
    "collapsed": false,
    "pycharm": {
     "name": "#%%\n"
    }
   }
  },
  {
   "cell_type": "markdown",
   "source": [
    "One can choose to read all tables in the file or selectively read a subset by specifying an argument to the ``read`` method."
   ],
   "metadata": {
    "collapsed": false
   }
  },
  {
   "cell_type": "code",
   "execution_count": null,
   "outputs": [],
   "source": [
    "U235.read()"
   ],
   "metadata": {
    "collapsed": false,
    "pycharm": {
     "name": "#%%\n"
    }
   }
  },
  {
   "cell_type": "markdown",
   "source": [
    "After the call to ``read()``, the Library instance will have a dictionary called ``tables``."
   ],
   "metadata": {
    "collapsed": false
   }
  },
  {
   "cell_type": "code",
   "execution_count": null,
   "outputs": [],
   "source": [
    "U235.tables"
   ],
   "metadata": {
    "collapsed": false,
    "pycharm": {
     "name": "#%%\n"
    }
   }
  },
  {
   "cell_type": "markdown",
   "source": [
    "Each entry in the table corresponds to a temperature.\n",
    "For example, 06c is 600 K and 12c is 1200 K.\n",
    "\n",
    "We'll use Uranium at 1200 K, which is a reasonable temperature somewhere in the fuel pellet."
   ],
   "metadata": {
    "collapsed": false
   }
  },
  {
   "cell_type": "code",
   "execution_count": null,
   "outputs": [],
   "source": [
    "U235_12 = U235.tables['92235.12c']"
   ],
   "metadata": {
    "collapsed": false,
    "pycharm": {
     "name": "#%%\n"
    }
   }
  },
  {
   "cell_type": "markdown",
   "source": [
    "Once a table is selected, we can inspect the energy grid."
   ],
   "metadata": {
    "collapsed": false
   }
  },
  {
   "cell_type": "code",
   "execution_count": null,
   "outputs": [],
   "source": [
    "U235_12.energy"
   ],
   "metadata": {
    "collapsed": false,
    "pycharm": {
     "name": "#%%\n"
    }
   }
  },
  {
   "cell_type": "markdown",
   "source": [
    "We can also inspect the total cross section."
   ],
   "metadata": {
    "collapsed": false
   }
  },
  {
   "cell_type": "code",
   "execution_count": null,
   "outputs": [],
   "source": [
    "U235_12.sigma_t\n"
   ],
   "metadata": {
    "collapsed": false,
    "pycharm": {
     "name": "#%%\n"
    }
   }
  },
  {
   "cell_type": "markdown",
   "source": [
    "With the energy grid, and the total cross section stored on the\n",
    "table, we already have basic plotting capability."
   ],
   "metadata": {
    "collapsed": false
   }
  },
  {
   "cell_type": "code",
   "execution_count": null,
   "outputs": [],
   "source": [
    "fig, ax = plt.subplots()\n",
    "ax.plot(U235_12.energy, U235_12.sigma_t,\n",
    "        linewidth=0.5)\n",
    "\n",
    "ax.set(xlabel=ene,ylabel=xs_t,\n",
    "       title='U-235 total XS at 1200 K')\n",
    "ax.set_ylim(ymin=0.3)\n",
    "\n",
    "plt.savefig('U235_1200K_lin.pdf', bbox_inches='tight')\n",
    "\n",
    "fig, ax = plt.subplots()\n",
    "ax.semilogx(U235_12.energy, U235_12.sigma_t,\n",
    "            linewidth=0.5)\n",
    "\n",
    "ax.set(xlabel=ene,ylabel=xs_t,\n",
    "       title='U-235 total XS at 1200 K')\n",
    "ax.set_ylim(ymin=0.3)\n",
    "\n",
    "plt.savefig('U235_1200K_logx.pdf', bbox_inches='tight')\n",
    "\n",
    "fig, ax = plt.subplots()\n",
    "ax.semilogy(U235_12.energy, U235_12.sigma_t,\n",
    "            linewidth=0.5)\n",
    "\n",
    "ax.set(xlabel=ene,ylabel=xs_t,\n",
    "       title='U-235 total XS at 1200 K')\n",
    "ax.set_ylim(ymin=0.3)\n",
    "\n",
    "plt.savefig('U235_1200K_logy.pdf', bbox_inches='tight')"
   ],
   "metadata": {
    "collapsed": false,
    "pycharm": {
     "name": "#%%\n"
    }
   }
  },
  {
   "cell_type": "code",
   "execution_count": null,
   "outputs": [],
   "source": [
    "fig, ax = plt.subplots()\n",
    "ax.loglog(U235_12.energy, U235_12.sigma_t,\n",
    "          linewidth=0.5)\n",
    "\n",
    "ax.set(xlabel=ene,ylabel=xs_t,\n",
    "       title='U-235 total XS at 1200 K')\n",
    "ax.set_ylim(ymin=0.3)\n",
    "\n",
    "plt.savefig('U235_1200K.pdf', bbox_inches='tight')"
   ],
   "metadata": {
    "collapsed": false,
    "pycharm": {
     "name": "#%%\n"
    }
   }
  },
  {
   "cell_type": "markdown",
   "source": [
    "Here, I was going to show that the absorption cross section is also available\n",
    "in the tables, but it seems like there is a bug in the absorption\n",
    "cross section, since it is showing the same as the radiative capture\n",
    "cross section (MT 102).\n",
    "\n",
    "So here I will use some functionality I haven't shown yet, just to document\n",
    "this bug for future reference.\n",
    "Also, when the bug is eliminated, I will be aware of it.\n",
    "\n",
    "Before making a bug report, I have to check if this is consistent in other\n",
    "ACE files or if it's an isolated bug.\n",
    "\n",
    "We'll talk about absorption cross section later then, since we can dodge the\n",
    "bug and calculate it ourselves."
   ],
   "metadata": {
    "collapsed": false
   }
  },
  {
   "cell_type": "code",
   "execution_count": null,
   "outputs": [],
   "source": [
    "U235_12.sigma_a\n",
    "\n",
    "fig, ax = plt.subplots()\n",
    "ax.loglog(U235_12.energy, U235_12.sigma_a,\n",
    "          label='absorption',\n",
    "          linewidth=0.9)\n",
    "ax.loglog(U235_12.energy, U235_12.reactions[102].sigma,\n",
    "          label='capture',\n",
    "          linewidth=0.5)\n",
    "\n",
    "ax.legend()\n",
    "ax.set(xlabel=ene,ylabel=xs,\n",
    "       title='U-235 absorption bug at 1200 K')\n",
    "\n",
    "plt.savefig('U235_1200K_absorption_bug.pdf', bbox_inches='tight')"
   ],
   "metadata": {
    "collapsed": false,
    "pycharm": {
     "name": "#%%\n"
    }
   }
  },
  {
   "cell_type": "code",
   "execution_count": null,
   "outputs": [],
   "source": [
    "bug = np.array_equal(U235_12.sigma_a, U235_12.reactions[102].sigma)\n",
    "\n",
    "if bug:\n",
    "    print('The bug is present, so avoid sigma_a')\n",
    "else:\n",
    "    print('The bug is gone. The script need to be updated')\n",
    "\n",
    "print(pyne.__version__)"
   ],
   "metadata": {
    "collapsed": false,
    "pycharm": {
     "name": "#%%\n"
    }
   }
  },
  {
   "cell_type": "markdown",
   "source": [
    "The quantity $ \\nu $, which is the amount of neutrons released in a fission\n",
    "event is also available in the table.\n",
    "\n",
    "Notice that $ \\nu $ has its own energy grid, which is different (smaller) than\n",
    "the cross section energy grid.\n",
    "This is because $ \\nu $ varies relatively little, so there is no need to have\n",
    "such a detailed energy grid compared to cross sections showing resonances."
   ],
   "metadata": {
    "collapsed": false
   }
  },
  {
   "cell_type": "code",
   "execution_count": null,
   "outputs": [],
   "source": [
    "fig, ax = plt.subplots()\n",
    "ax.semilogx(U235_12.nu_t_energy, U235_12.nu_t_value,\n",
    "            linewidth=0.5)\n",
    "\n",
    "ax.set(xlabel=ene,ylabel=nut,\n",
    "       title='U-235 neutron production at 1200 K')\n",
    "\n",
    "plt.savefig('U235_1200K_nu.pdf', bbox_inches='tight')"
   ],
   "metadata": {
    "collapsed": false,
    "pycharm": {
     "name": "#%%\n"
    }
   }
  },
  {
   "cell_type": "markdown",
   "source": [
    "To get data on a reaction, such as fission or $(n,2n)$, there is an attribute called ``reactions``."
   ],
   "metadata": {
    "collapsed": false
   }
  },
  {
   "cell_type": "code",
   "execution_count": null,
   "outputs": [],
   "source": [
    "U235_12.reactions"
   ],
   "metadata": {
    "collapsed": false,
    "pycharm": {
     "name": "#%%\n"
    }
   }
  },
  {
   "cell_type": "markdown",
   "source": [
    "Some important MT number for reactions are:\n",
    "\n",
    "| MT  | reaction   | details |\n",
    "| --- | ---------- | ----------- |\n",
    "| 1   | n, total   | total cross |\n",
    "| 2   | n0, n0'    | elastic scattering, <br />conserves kinetic energy,<br />same neutron,<br />surface interaction |\n",
    "| 4   | n, n'      | inelastic scattering,<br />conserves momentum (not kinetic energy), <br />not same neutron?,<br />bulk interaction with compound nucleus formation? |\n",
    "| 18  | n, fission |\n",
    "| 102 | n, gamma   | AKA radiative capture |\n",
    "\n",
    "For example, let's check the fission of U-235 at 1200 K."
   ],
   "metadata": {
    "collapsed": false
   }
  },
  {
   "cell_type": "code",
   "execution_count": null,
   "outputs": [],
   "source": [
    "U235_12.reactions[18]"
   ],
   "metadata": {
    "collapsed": false,
    "pycharm": {
     "name": "#%%\n"
    }
   }
  },
  {
   "cell_type": "markdown",
   "source": [
    "An instance of a Reaction contains the reaction cross section and any angular or energy distributions that may be present."
   ],
   "metadata": {
    "collapsed": false
   }
  },
  {
   "cell_type": "code",
   "execution_count": null,
   "outputs": [],
   "source": [
    "U235_12_fission = U235_12.reactions[18].sigma"
   ],
   "metadata": {
    "collapsed": false,
    "pycharm": {
     "name": "#%%\n"
    }
   }
  },
  {
   "cell_type": "markdown",
   "source": [
    "With the energy grid (stored on the table), and the cross section (stored on the reaction), one can generate reaction-specific plots."
   ],
   "metadata": {
    "collapsed": false
   }
  },
  {
   "cell_type": "code",
   "execution_count": null,
   "outputs": [],
   "source": [
    "fig, ax = plt.subplots()\n",
    "ax.loglog(U235_12.energy, U235_12_fission,\n",
    "          linewidth=0.5)\n",
    "\n",
    "ax.set(xlabel=ene,ylabel=xs_f,\n",
    "       title='U-235 fission XS at 1200 K')\n",
    "ax.set_ylim(ymin=0.3)\n",
    "\n",
    "plt.savefig('U235_1200K_MT18.pdf', bbox_inches='tight')"
   ],
   "metadata": {
    "collapsed": false,
    "pycharm": {
     "name": "#%%\n"
    }
   }
  },
  {
   "cell_type": "markdown",
   "source": [
    "I can also do a plot to project a few points of interest onto the axis.\n",
    "In this plot, I marked the points at 2 MeV (neutron energy at fission),\n",
    "0.065 eV (neutron energy in thermal equilibrium with a medium at aproximately 600 K),\n",
    "and 0.025 eV (neutron energy in thermal equilibrium with ambient temperature).\n",
    "\n",
    "The increase in cross section from 0.065 to 0.025 eV is very high, due to the\n",
    "logarithmic nature of the plot.\n",
    "This will naturally have consequences for criticality and points out to the importance\n",
    "of keeping neutron absorbers when the reactor is shut down for refueling."
   ],
   "metadata": {
    "collapsed": false
   }
  },
  {
   "cell_type": "code",
   "execution_count": null,
   "outputs": [],
   "source": [
    "fig, ax = plt.subplots()\n",
    "ax.loglog(U235_12.energy, U235_12_fission,\n",
    "          linewidth=0.5)\n",
    "\n",
    "ax.set(xlabel=ene,ylabel=xs_f,\n",
    "       title='Fission XS of U-235 at 1200 K with different neutron energies')\n",
    "ax.set_ylim(ymin=0.3)\n",
    "\n",
    "ax.axvline(0.025E-6, ymax=0.625,\n",
    "           color='red',\n",
    "           linewidth='0.5',\n",
    "           linestyle='--')\n",
    "ax.axhline(585, xmax=0.297,\n",
    "           color='red',\n",
    "           linewidth='0.5',\n",
    "           linestyle='--')\n",
    "ax.annotate('(0.025 eV, 585 barn)', (2.5E-8, 585),\n",
    "            xytext=(2.9E-8, 750),\n",
    "            color='red')\n",
    "\n",
    "ax.axvline(0.065E-6, ymax=0.582,\n",
    "           color='orange',\n",
    "           linewidth='0.5',\n",
    "           linestyle='--')\n",
    "ax.axhline(335, xmax=0.327,\n",
    "           color='orange',\n",
    "           linewidth='0.5',\n",
    "           linestyle='--')\n",
    "ax.annotate('(0.065 eV, 335 barn)', (6.5E-8, 335),\n",
    "            xytext=(7.1E-8, 440),\n",
    "            color='orange')\n",
    "\n",
    "ax.axvline(2, ymax=0.12,\n",
    "           color='green',\n",
    "           linewidth='0.5',\n",
    "           linestyle='--')\n",
    "ax.axhline(1.27, xmax=0.88,\n",
    "           color='green',\n",
    "           linewidth='0.5',\n",
    "           linestyle='--')\n",
    "ax.annotate('(2 MeV, 1.27 barn)', (2, 1.27),\n",
    "            xytext=(0.2,2.6),\n",
    "            color='green')\n",
    "\n",
    "plt.savefig('U235_1200K_MT18_annotated.pdf', bbox_inches='tight')"
   ],
   "metadata": {
    "collapsed": false,
    "pycharm": {
     "name": "#%%\n"
    }
   }
  },
  {
   "cell_type": "markdown",
   "source": [
    "It is also interesting to plot the fission cross section at different energies,\n",
    "showing how doppler effect affects the fission cross section.\n",
    "The integral under the curves at different energies should be the same."
   ],
   "metadata": {
    "collapsed": false
   }
  },
  {
   "cell_type": "code",
   "execution_count": null,
   "outputs": [],
   "source": [
    "temperatures = [300, 600, 900, 1200, 1500, 1800]\n",
    "entries = sorted(U235.tables.keys())\n",
    "\n",
    "fig, ax = plt.subplots()\n",
    "for entry, temperature in zip(entries, temperatures):\n",
    "    ax.loglog(U235.tables[entry].energy, U235.tables[entry].reactions[18].sigma,\n",
    "              label=f'{temperature} K',\n",
    "              linewidth=0.5)\n",
    "\n",
    "ax.legend()\n",
    "ax.set_ylim(ymin=0.3)\n",
    "ax.set(xlabel=ene,ylabel=xs_f,\n",
    "       title='Doppler effect on U-235 fission XS')\n",
    "\n",
    "axins = ax.inset_axes([0.05, 0.05, 0.3, 0.3])\n",
    "for entry, temperature in zip(entries, temperatures):\n",
    "    axins.loglog(U235.tables[entry].energy, U235.tables[entry].reactions[18].sigma,\n",
    "                 linewidth=0.3)\n",
    "\n",
    "axins.set_xlim(1.85E-6, 2.25E-6)\n",
    "axins.set_ylim(1.1E1, 3E1)\n",
    "for spine in axins.spines.values():\n",
    "    spine.set_color('black')\n",
    "    spine.set_linewidth(0.3)\n",
    "axins.tick_params(axis='both',\n",
    "                  which='both',\n",
    "                  direction='in',\n",
    "                  color='black',\n",
    "                  length=2,\n",
    "                  labelsize=5)\n",
    "axins.tick_params(axis='x',\n",
    "                  which='both',\n",
    "                  labelrotation=45)\n",
    "\n",
    "axins.set_xticklabels([1.85,1.90,1.95,2.00,2.05,2.10,2.15,2.20,2.25],minor=True)\n",
    "ax.text(1.05, 0, 'x$ 10^{-6} $',\n",
    "        fontsize=5,\n",
    "        transform=axins.transAxes,\n",
    "        horizontalalignment='left',\n",
    "        verticalalignment='center')\n",
    "\n",
    "ax.indicate_inset_zoom(axins, edgecolor=\"black\")\n",
    "\n",
    "plt.savefig('U235_MT18.pdf')"
   ],
   "metadata": {
    "collapsed": false,
    "pycharm": {
     "name": "#%%\n"
    }
   }
  },
  {
   "cell_type": "code",
   "execution_count": null,
   "outputs": [],
   "source": [
    "fig, ax = plt.subplots()\n",
    "for entry, temperature in zip(entries, temperatures):\n",
    "    ax.loglog(U235.tables[entry].energy, U235.tables[entry].sigma_t,\n",
    "              label=f'{temperature} K',\n",
    "              linewidth=0.5)\n",
    "\n",
    "ax.legend()\n",
    "ax.set_ylim(ymin=0.3)\n",
    "ax.set(xlabel=ene,ylabel=xs_t,\n",
    "       title='Doppler effect on U-235 total XS')\n",
    "\n",
    "axins = ax.inset_axes([0.05, 0.05, 0.3, 0.3])\n",
    "for entry, temperature in zip(entries, temperatures):\n",
    "    axins.loglog(U235.tables[entry].energy, U235.tables[entry].sigma_t,\n",
    "                 linewidth=0.3)\n",
    "\n",
    "axins.set_xlim(1.85E-6, 2.25E-6)\n",
    "axins.set_ylim(2.7E1, 1.1E2)\n",
    "for spine in axins.spines.values():\n",
    "    spine.set_color('black')\n",
    "    spine.set_linewidth(0.3)\n",
    "axins.tick_params(axis='both',\n",
    "                  which='both',\n",
    "                  direction='in',\n",
    "                  color='black',\n",
    "                  length=2,\n",
    "                  labelsize=5)\n",
    "axins.tick_params(axis='x',\n",
    "                  which='both',\n",
    "                  labelrotation=45)\n",
    "\n",
    "axins.set_xticklabels([1.85,1.90,1.95,2.00,2.05,2.10,2.15,2.20,2.25],minor=True)\n",
    "ax.text(1.05, 0, 'x$ 10^{-6} $',\n",
    "        fontsize=5,\n",
    "        transform=axins.transAxes,\n",
    "        horizontalalignment='left',\n",
    "        verticalalignment='center')\n",
    "\n",
    "ax.indicate_inset_zoom(axins, edgecolor=\"black\")\n",
    "\n",
    "plt.savefig('U235_MT1.pdf')"
   ],
   "metadata": {
    "collapsed": false,
    "pycharm": {
     "name": "#%%\n"
    }
   }
  },
  {
   "cell_type": "markdown",
   "source": [
    "Regardless of the bug, we can make the absorption cross section roughly by\n",
    "adding fission and capture cross sections.\n",
    "\n",
    "We can also plot an insightful quantity such as the ratio of absorption to\n",
    "total cross section.\n",
    "Since $ \\sigma_t = \\sigma_a + \\sigma_s $ then the complement is the probability\n",
    "of scattering."
   ],
   "metadata": {
    "collapsed": false
   }
  },
  {
   "cell_type": "code",
   "execution_count": null,
   "outputs": [],
   "source": [
    "U235_12_fission = U235_12.reactions[18].sigma\n",
    "U235_12_capture = U235_12.reactions[102].sigma\n",
    "U235_12_sigma_a = U235_12_fission + U235_12_capture\n",
    "\n",
    "fig, ax = plt.subplots()\n",
    "ax.loglog(U235_12.energy, U235_12_sigma_a,\n",
    "          linewidth=0.5)\n",
    "\n",
    "ax.set(xlabel=ene,ylabel=xs_a,\n",
    "       title='U-235 absorption XS at 1200 K')\n",
    "ax.set_ylim(ymin=0.3)\n",
    "\n",
    "plt.savefig('U235_1200K_abs.pdf', bbox_inches='tight')"
   ],
   "metadata": {
    "collapsed": false,
    "pycharm": {
     "name": "#%%\n"
    }
   }
  },
  {
   "cell_type": "code",
   "execution_count": null,
   "outputs": [],
   "source": [
    "ATR = U235_12_sigma_a / U235_12.sigma_t\n",
    "\n",
    "fig, ax = plt.subplots()\n",
    "ax.semilogx(U235_12.energy, ATR,\n",
    "            linewidth=0.5)\n",
    "\n",
    "ax.set(xlabel=ene,\n",
    "       ylabel='$ \\sigma_{\\mathrm{a}} / \\sigma_{\\mathrm{t}} $',\n",
    "       title='U-235 absorption to total XS ratio at 1200 K')\n",
    "\n",
    "plt.savefig('U235_1200K_ATR.pdf', bbox_inches='tight')"
   ],
   "metadata": {
    "collapsed": false,
    "pycharm": {
     "name": "#%%\n"
    }
   }
  },
  {
   "cell_type": "code",
   "execution_count": null,
   "outputs": [],
   "source": [
    "U235_FAR = U235_12_fission / U235_12_sigma_a\n",
    "\n",
    "fig, ax = plt.subplots()\n",
    "ax.semilogx(U235_12.energy, U235_FAR,\n",
    "            linewidth=0.5)\n",
    "\n",
    "ax.set(xlabel=ene,\n",
    "       ylabel='$ \\sigma_{\\mathrm{f}} / \\sigma_{\\mathrm{a}} $ ',\n",
    "       title='U-235 fission to absorption XS ratio at 1200 K')\n",
    "\n",
    "plt.savefig('U235_1200K_FAR.pdf', bbox_inches='tight')"
   ],
   "metadata": {
    "collapsed": false,
    "pycharm": {
     "name": "#%%\n"
    }
   }
  },
  {
   "cell_type": "code",
   "execution_count": null,
   "outputs": [],
   "source": [
    "U235_FTR = U235_12_fission / U235_12.sigma_t\n",
    "\n",
    "fig, ax = plt.subplots()\n",
    "ax.semilogx(U235_12.energy, U235_FTR,\n",
    "            linewidth=0.5)\n",
    "\n",
    "ax.set(xlabel=ene,\n",
    "       ylabel='$ \\sigma_{\\mathrm{f}} / \\sigma_{\\mathrm{t}} $ ',\n",
    "       title='U-235 fission to total XS ratio at 1200 K')\n",
    "\n",
    "plt.savefig('U235_1200K_FTR.pdf', bbox_inches='tight')"
   ],
   "metadata": {
    "collapsed": false,
    "pycharm": {
     "name": "#%%\n"
    }
   }
  },
  {
   "cell_type": "markdown",
   "source": [
    "We can also plot $ \\eta $, which is a quantity that shows the amount of\n",
    "neutrons produced per neutron absorbed.\n",
    "For this we need to multiply the fission to absorption ration by $ \\nu $.\n",
    "\n",
    "Since $ \\nu $ has a different energy grid, to multiply we need to\n",
    "interpolate it to the cross section energy grid first."
   ],
   "metadata": {
    "collapsed": false
   }
  },
  {
   "cell_type": "code",
   "execution_count": null,
   "outputs": [],
   "source": [
    "U235_nu = np.interp(U235_12.energy, U235_12.nu_t_energy, U235_12.nu_t_value)\n",
    "U235_eta = U235_nu * U235_FAR\n",
    "\n",
    "fig, ax = plt.subplots()\n",
    "ax.semilogx(U235_12.energy, U235_eta,\n",
    "            linewidth=0.5)\n",
    "\n",
    "ax.set(xlabel=ene,ylabel=eta,\n",
    "       title='U-235 eta at 1200 K')\n",
    "\n",
    "plt.savefig('U235_1200K_eta.pdf', bbox_inches='tight')"
   ],
   "metadata": {
    "collapsed": false,
    "pycharm": {
     "name": "#%%\n"
    }
   }
  }
 ],
 "metadata": {
  "kernelspec": {
   "name": "pycharm-43c23681",
   "language": "python",
   "display_name": "PyCharm (course_reactor_physics)"
  },
  "language_info": {
   "codemirror_mode": {
    "name": "ipython",
    "version": 3
   },
   "file_extension": ".py",
   "mimetype": "text/x-python",
   "name": "python",
   "nbconvert_exporter": "python",
   "pygments_lexer": "ipython3",
   "version": "3.7.12"
  }
 },
 "nbformat": 4,
 "nbformat_minor": 1
}