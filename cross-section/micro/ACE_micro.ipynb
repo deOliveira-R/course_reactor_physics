{
 "cells": [
  {
   "cell_type": "markdown",
   "metadata": {},
   "source": [
    "XS plotting\n",
    "===========\n",
    "\n",
    "This notebook uses the ``pyne.ace`` module to plot cross-sections.\n",
    "ACE (A Compact ENDF) files are a point-wise representation of cross-section,\n",
    "considered to be \"continuous energy\" (as in not discrete) for all practical\n",
    "purposes.\n",
    "\n",
    "ACE files originate from processing ENDFs (Evaluated Nuclear Data File) with\n",
    "some cross section preparation code, such as NJOY.\n",
    "ACE files already contain some form of approximation compared to ENDFs\n",
    "(at least some form of doppler broadening, since ACE libraries are for a certain\n",
    "temperature, and most likely assumptions regarding unresolved resonances and\n",
    "how to represent them as points, but I would have to check more precisely to\n",
    "make a strong statement), so in the future I would like to change this to using\n",
    "ENDF for the plotting and making these assumptions explicit here."
   ]
  },
  {
   "cell_type": "code",
   "execution_count": 489,
   "metadata": {},
   "outputs": [],
   "source": [
    "%matplotlib inline\n",
    "\n",
    "latex = False\n",
    "\n",
    "if latex:\n",
    "    import matplotlib as mpl\n",
    "    mpl.use(\"pgf\")\n",
    "    pgf_with_rc_fonts = {\n",
    "        \"font.family\": \"serif\",\n",
    "        \"font.serif\": [],                   # use latex default serif font\n",
    "        \"font.sans-serif\": [\"DejaVu Sans\"], # use a specific sans-serif font\n",
    "    }\n",
    "    mpl.rcParams.update(pgf_with_rc_fonts)\n",
    "\n",
    "import os\n",
    "import numpy as np\n",
    "import matplotlib as mpl\n",
    "import matplotlib.pyplot as plt\n",
    "import pyne\n",
    "from pyne import ace\n",
    "from pyne.data import atomic_mass\n",
    "\n",
    "mpl.style.use('seaborn')\n",
    "\n",
    "#if not os.path.isfile(\"/Users/rodrigo/opt/Serpent2/xsdata/XSdata_jeff311/acedata/54135JEF311.ace\"):\n",
    "#    from urllib import urlretrieve\n",
    "#    urlretrieve(\"https://www-nds.iaea.org/wolfram/w180/beta3/W180.ace\", \"W180.ace\")\n",
    "\n",
    "n_mass = 1.00866491588\n",
    "\n",
    "ene = 'Neutron energy (MeV)'\n",
    "\n",
    "xs = '$ \\sigma $ (barn)'\n",
    "xs_t = '$ \\sigma_{\\mathrm{t}} $ (barn)'\n",
    "xs_e = '$ \\sigma_{\\mathrm{e}} $ (barn)'\n",
    "xs_a = '$ \\sigma_{\\mathrm{a}} $ (barn)'\n",
    "xs_f = '$ \\sigma_{\\mathrm{f}} $ (barn)'\n",
    "xs_gamma = '$ \\sigma_{\\gamma} $ (barn)'\n",
    "xs_alpha = '$ \\sigma_{\\\\alpha} $ (barn)'\n",
    "\n",
    "nut = '$ \\\\nu_{\\mathrm{t}}$'\n",
    "eta = '$ \\eta $ '\n",
    "\n",
    "ace_path = \"/Users/rodrigo/opt/Serpent2/xsdata/jeff311/acedata/\"\n",
    "ace_end = \"JEF311.ace\"\n",
    "\n",
    "\n",
    "def load_ace(nuclide, suffix=ace_end):\n",
    "    \"\"\"\n",
    "    The main class in ``pyne.ace`` is called ``Library``.\n",
    "    It is instantiated using the name of an ACE file.\n",
    "    Here we use the files distributed with Serpent.\n",
    "    \"\"\"\n",
    "    lib = ace.Library(ace_path + str(nuclide) + suffix)\n",
    "    lib.read()\n",
    "    return lib\n",
    "\n",
    "\n",
    "def co_alpha(mass):\n",
    "    return ((mass - n_mass)/(mass + n_mass))**2\n",
    "\n",
    "\n",
    "def min_collisions(mass, initial_energy=2, final_energy=2.5E-8):\n",
    "    alpha = co_alpha(mass)\n",
    "    return np.log(final_energy/initial_energy) / np.log(alpha)\n",
    "\n",
    "\n",
    "def ln_energy_decrement(mass):\n",
    "    alpha = co_alpha(mass)\n",
    "    return 1 + (alpha/(1 - alpha))*np.log(alpha)\n",
    "\n",
    "\n",
    "def ave_collisions(mass, initial_energy=2, final_energy=2.5E-8):\n",
    "    xi = ln_energy_decrement(mass)\n",
    "    return (1/xi) * np.log(initial_energy/final_energy)\n",
    "\n",
    "\n",
    "def moderating_power(mass, nuclide):\n",
    "    xi = ln_energy_decrement(mass)\n",
    "    xse = nuclide.reactions[2].sigma\n",
    "    return xi * xse\n",
    "\n",
    "\n",
    "def moderating_ratio(mass, nuclide):\n",
    "    mod_pow = moderating_power(mass, nuclide)\n",
    "    xsa = nuclide.reactions[102].sigma\n",
    "    return mod_pow / xsa\n",
    "\n",
    "\n",
    "def nu_unionized(nuclide):\n",
    "    nuclide_nu = np.interp(nuclide.energy, nuclide.nu_t_energy, nuclide.nu_t_value)\n",
    "    return nuclide_nu\n",
    "\n",
    "\n",
    "def eta_micro(nuclide):\n",
    "    nuclide_fission = nuclide.reactions[18].sigma\n",
    "    nuclide_capture = nuclide.reactions[102].sigma\n",
    "    nuclide_sigma_a = nuclide_fission + nuclide_capture\n",
    "\n",
    "    nuclide_FAR = nuclide_fission / nuclide_sigma_a\n",
    "    nuclide_nu = np.interp(nuclide.energy, nuclide.nu_t_energy, nuclide.nu_t_value)\n",
    "    nuclide_eta = nuclide_nu * nuclide_FAR\n",
    "    return nuclide_eta\n",
    "\n",
    "\n",
    "def save_plot(save):\n",
    "    if save:\n",
    "        plt.savefig(f'{save}.pdf', bbox_inches='tight')\n",
    "\n",
    "\n",
    "def plot_xs(energy, xs, xs_label, lw=0.5, title=None, save=None, ymin=None):\n",
    "    fig, ax = plt.subplots()\n",
    "    ax.loglog(energy, xs,linewidth=lw)\n",
    "    ax.set(xlabel=ene,ylabel=xs_label,title=title)\n",
    "    ax.set_ylim(ymin=ymin)\n",
    "    save_plot(save)\n",
    "    return fig, ax\n",
    "\n",
    "\n",
    "def plot_semi(energy, semi, semi_label, lw, title):\n",
    "    fig, ax = plt.subplots()\n",
    "    ax.semilogx(energy, semi,linewidth=lw)\n",
    "    ax.set(xlabel=ene,ylabel=semi_label,title=title)\n",
    "    return fig, ax\n",
    "\n",
    "\n",
    "def plot_nueta(energy, nueta, ne_label, lw=0.5, title=None, save=None, ymin=None):\n",
    "    fig, ax = plot_semi(energy, nueta, ne_label, lw, title)\n",
    "    save_plot(save)\n",
    "    return fig, ax\n",
    "\n",
    "\n",
    "def plot_eta(nuclide, lw=0.5, title=None, save=None):\n",
    "    nuclide_fission = nuclide.reactions[18].sigma\n",
    "    nuclide_capture = nuclide.reactions[102].sigma\n",
    "    nuclide_sigma_a = nuclide_fission + nuclide_capture\n",
    "\n",
    "    nuclide_FAR = nuclide_fission / nuclide_sigma_a\n",
    "    nuclide_nu = np.interp(nuclide.energy, nuclide.nu_t_energy, nuclide.nu_t_value)\n",
    "    nuclide_eta = nuclide_nu * nuclide_FAR\n",
    "\n",
    "    fig, ax = plot_nueta(nuclide.energy, nuclide_eta, eta,\n",
    "                         lw=lw, title=title)\n",
    "    save_plot(save)\n",
    "    return fig, ax\n",
    "\n",
    "\n",
    "def plot_ratio(energy, ratio, ratio_label, lw=0.5, title=None, save=None, ylim=(-0.05, 1.05)):\n",
    "    fig, ax = plot_semi(energy, ratio, ratio_label, lw, title)\n",
    "    ax.set_ylim(ylim)\n",
    "    save_plot(save)\n",
    "    return fig, ax\n",
    "\n",
    "\n",
    "def plot_temperatures(lib, mt, mt_label, lw=0.5, title=None, save=None):\n",
    "    entries = sorted(lib.tables.keys())\n",
    "    temperatures = [300, 600, 900, 1200, 1500, 1800]\n",
    "    fig, ax = plt.subplots()\n",
    "    for entry, temperature in zip(entries, temperatures):\n",
    "        if mt == 1:\n",
    "            __xs = lib.tables[entry].sigma_t\n",
    "        else:\n",
    "            __xs = lib.tables[entry].reactions[mt].sigma\n",
    "        ax.loglog(lib.tables[entry].energy, __xs,\n",
    "                  # label=f'{temperature: >4d} K',\n",
    "                  label=f'{temperature} K',\n",
    "                  linewidth=lw)\n",
    "    ax.legend()\n",
    "    ax.set(xlabel=ene,ylabel=mt_label,title=title)\n",
    "    save_plot(save)\n",
    "    return fig, ax\n",
    "\n",
    "\n",
    "def plot_compare_nuclides(nuclides, name_labels, mt, mt_label, lw=0.5, title=None, save=None):\n",
    "    fig, ax = plt.subplots()\n",
    "    for nuclide, label in zip(nuclides, name_labels):\n",
    "        if mt == 1:\n",
    "            __xs = nuclide.sigma_t\n",
    "        else:\n",
    "            __xs = nuclide.reactions[mt].sigma\n",
    "        ax.loglog(nuclide.energy, __xs,\n",
    "                  label=label,\n",
    "                  linewidth=lw)\n",
    "    ax.legend()\n",
    "    ax.set(xlabel=ene,ylabel=mt_label,title=title)\n",
    "    save_plot(save)\n",
    "    return fig, ax\n",
    "\n",
    "\n",
    "def plot_compare_mts(nuclide, mts, mt_labels, lw=0.5, title=None, save=None):\n",
    "    fig, ax = plt.subplots()\n",
    "    for mt, mt_label in zip(mts, mt_labels):\n",
    "        if mt == 1:\n",
    "            __xs = nuclide.sigma_t\n",
    "        else:\n",
    "            __xs = nuclide.reactions[mt].sigma\n",
    "        ax.loglog(nuclide.energy, __xs,\n",
    "                  label=mt_label,\n",
    "                  linewidth=lw)\n",
    "    ax.legend()\n",
    "    ax.set(xlabel=ene,ylabel=xs,title=title)\n",
    "    save_plot(save)\n",
    "    return fig, ax\n"
   ]
  },
  {
   "cell_type": "markdown",
   "metadata": {},
   "source": [
    "The main class in ``pyne.ace`` is called ``Library``. It is instantiated using the name of an ACE file, in this case one distributed with Serpent."
   ]
  },
  {
   "cell_type": "code",
   "execution_count": 490,
   "outputs": [],
   "source": [
    "H1_mass = atomic_mass('1H')\n",
    "print(co_alpha(H1_mass))\n",
    "print(ln_energy_decrement(H1_mass))\n",
    "print(min_collisions(H1_mass))\n",
    "print(ave_collisions(H1_mass))\n",
    "\n",
    "H2_mass = atomic_mass('2H')\n",
    "print(co_alpha(H2_mass))\n",
    "print(ln_energy_decrement(H2_mass))\n",
    "print(min_collisions(H2_mass))\n",
    "print(ave_collisions(H2_mass))\n",
    "\n",
    "Be9_mass = atomic_mass('9Be')\n",
    "print(co_alpha(Be9_mass))\n",
    "print(ln_energy_decrement(Be9_mass))\n",
    "print(min_collisions(Be9_mass))\n",
    "print(ave_collisions(Be9_mass))\n",
    "\n",
    "C12_mass = atomic_mass('12C')\n",
    "print(co_alpha(C12_mass))\n",
    "print(ln_energy_decrement(C12_mass))\n",
    "print(min_collisions(C12_mass))\n",
    "print(ave_collisions(C12_mass))"
   ],
   "metadata": {
    "collapsed": false,
    "pycharm": {
     "name": "#%%\n"
    }
   }
  },
  {
   "cell_type": "code",
   "execution_count": null,
   "outputs": [],
   "source": [
    "U235 = load_ace(92235)\n",
    "U235_12 = U235.tables['92235.12c']\n",
    "\n",
    "plot_xs(U235_12.energy, U235_12.sigma_t, xs_t,\n",
    "        title='U-235 total XS at 1200 K', save='U235_1200K')\n",
    "\n",
    "U235_12_fission = U235_12.reactions[18].sigma\n",
    "\n",
    "plot_xs(U235_12.energy, U235_12_fission, xs_f,\n",
    "        title='U-235 fission XS at 1200 K', save='U235_1200K_MT18')\n",
    "\n",
    "U235_12_capture = U235_12.reactions[102].sigma\n",
    "U235_12_sigma_a = U235_12_fission + U235_12_capture\n",
    "\n",
    "plot_xs(U235_12.energy, U235_12_sigma_a, xs_a,\n",
    "        title='U-235 absorption XS at 1200 K', save='U235_1200K_abs')\n",
    "\n",
    "plot_nueta(U235_12.nu_t_energy, U235_12.nu_t_value, nut,\n",
    "           title='U-235 neutron production at 1200 K',\n",
    "           save='U235_1200K_nu')"
   ],
   "metadata": {
    "collapsed": false,
    "pycharm": {
     "name": "#%%\n"
    }
   }
  },
  {
   "cell_type": "code",
   "execution_count": null,
   "outputs": [],
   "source": [
    "# plot_temperatures(U235, 18, xs_f,\n",
    "#                   title='Doppler effect on U-235 fission XS')\n",
    "\n",
    "temperatures = [300, 600, 900, 1200, 1500, 1800]\n",
    "entries = sorted(U235.tables.keys())\n",
    "\n",
    "fig, ax = plt.subplots()\n",
    "for entry, temperature in zip(entries, temperatures):\n",
    "    ax.loglog(U235.tables[entry].energy, U235.tables[entry].reactions[18].sigma,\n",
    "              label=f'{temperature} K',\n",
    "              linewidth=0.5)\n",
    "\n",
    "ax.legend()\n",
    "# ax.set_ylim(ymin=0.3)\n",
    "ax.set(xlabel=ene,ylabel=xs_f,\n",
    "       title='Doppler effect on U-235 fission XS')\n",
    "\n",
    "\n",
    "axins = ax.inset_axes([0.05, 0.05, 0.3, 0.3])\n",
    "for entry, temperature in zip(entries, temperatures):\n",
    "    axins.loglog(U235.tables[entry].energy, U235.tables[entry].reactions[18].sigma,\n",
    "                 linewidth=0.3)\n",
    "\n",
    "axins.set_xlim(1.85E-6, 2.25E-6)\n",
    "axins.set_ylim(1.1E1, 3E1)\n",
    "for spine in axins.spines.values():\n",
    "    spine.set_color('black')\n",
    "    spine.set_linewidth(0.3)\n",
    "axins.tick_params(axis='both',\n",
    "                  which='both',\n",
    "                  direction='in',\n",
    "                  color='black',\n",
    "                  length=2,\n",
    "                  labelsize=5)\n",
    "axins.tick_params(axis='x',\n",
    "                  which='both',\n",
    "                  labelrotation=45)\n",
    "\n",
    "axins.set_xticklabels([1.85,1.90,1.95,2.00,2.05,2.10,2.15,2.20,2.25],minor=True)\n",
    "ax.text(1.05, 0, 'x$ 10^{-6} $',\n",
    "        fontsize=5,\n",
    "        transform=axins.transAxes,\n",
    "        horizontalalignment='left',\n",
    "        verticalalignment='center')\n",
    "\n",
    "ax.indicate_inset_zoom(axins, edgecolor=\"black\")\n",
    "\n",
    "plt.savefig('U235_MT18.pdf')"
   ],
   "metadata": {
    "collapsed": false,
    "pycharm": {
     "name": "#%%\n"
    }
   }
  },
  {
   "cell_type": "code",
   "execution_count": null,
   "outputs": [],
   "source": [
    "fig, ax = plt.subplots()\n",
    "for entry, temperature in zip(entries, temperatures):\n",
    "    ax.loglog(U235.tables[entry].energy, U235.tables[entry].sigma_t,\n",
    "              label=f'{temperature} K',\n",
    "              linewidth=0.5)\n",
    "\n",
    "ax.legend()\n",
    "# ax.set_ylim(ymin=0.3)\n",
    "ax.set(xlabel=ene,ylabel=xs_t,\n",
    "       title='Doppler effect on U-235 total XS')\n",
    "\n",
    "axins = ax.inset_axes([0.05, 0.05, 0.3, 0.3])\n",
    "for entry, temperature in zip(entries, temperatures):\n",
    "    axins.loglog(U235.tables[entry].energy, U235.tables[entry].sigma_t,\n",
    "                 linewidth=0.3)\n",
    "\n",
    "axins.set_xlim(1.85E-6, 2.25E-6)\n",
    "axins.set_ylim(2.7E1, 1.1E2)\n",
    "for spine in axins.spines.values():\n",
    "    spine.set_color('black')\n",
    "    spine.set_linewidth(0.3)\n",
    "axins.tick_params(axis='both',\n",
    "                  which='both',\n",
    "                  direction='in',\n",
    "                  color='black',\n",
    "                  length=2,\n",
    "                  labelsize=5)\n",
    "axins.tick_params(axis='x',\n",
    "                  which='both',\n",
    "                  labelrotation=45)\n",
    "\n",
    "axins.set_xticklabels([1.85,1.90,1.95,2.00,2.05,2.10,2.15,2.20,2.25],minor=True)\n",
    "ax.text(1.05, 0, 'x$ 10^{-6} $',\n",
    "        fontsize=5,\n",
    "        transform=axins.transAxes,\n",
    "        horizontalalignment='left',\n",
    "        verticalalignment='center')\n",
    "\n",
    "ax.indicate_inset_zoom(axins, edgecolor=\"black\")\n",
    "\n",
    "plt.savefig('U235_MT1.pdf')"
   ],
   "metadata": {
    "collapsed": false,
    "pycharm": {
     "name": "#%%\n"
    }
   }
  },
  {
   "cell_type": "code",
   "execution_count": null,
   "outputs": [],
   "source": [
    "ATR = U235_12_sigma_a / U235_12.sigma_t\n",
    "\n",
    "plot_ratio(U235_12.energy, ATR,\n",
    "           '$ \\sigma_{\\mathrm{a}} / \\sigma_{\\mathrm{t}} $',\n",
    "           title='U-235 absorption to total XS ratio at 1200 K',\n",
    "           save='U235_1200K_ATR')"
   ],
   "metadata": {
    "collapsed": false,
    "pycharm": {
     "name": "#%%\n"
    }
   }
  },
  {
   "cell_type": "code",
   "execution_count": null,
   "outputs": [],
   "source": [
    "U235_FAR = U235_12_fission / U235_12_sigma_a\n",
    "\n",
    "plot_ratio(U235_12.energy, U235_FAR,\n",
    "           '$ \\sigma_{\\mathrm{f}} / \\sigma_{\\mathrm{a}} $ ',\n",
    "           title='U-235 fission to absorption XS ratio at 1200 K',\n",
    "           save='U235_1200K_FAR')"
   ],
   "metadata": {
    "collapsed": false,
    "pycharm": {
     "name": "#%%\n"
    }
   }
  },
  {
   "cell_type": "code",
   "execution_count": null,
   "outputs": [],
   "source": [
    "U235_FTR = U235_12_fission / U235_12.sigma_t\n",
    "\n",
    "plot_ratio(U235_12.energy, U235_FTR,\n",
    "           '$ \\sigma_{\\mathrm{f}} / \\sigma_{\\mathrm{t}} $ ',\n",
    "           title='U-235 fission to total XS ratio at 1200 K',\n",
    "           save='U235_1200K_FTR')"
   ],
   "metadata": {
    "collapsed": false,
    "pycharm": {
     "name": "#%%\n"
    }
   }
  },
  {
   "cell_type": "code",
   "execution_count": null,
   "outputs": [],
   "source": [
    "U235_eta = eta_micro(U235_12)\n",
    "plot_nueta(U235_12.energy, U235_eta, eta,\n",
    "           title='U-235 eta at 1200 K',\n",
    "           save='U235_1200K_eta')"
   ],
   "metadata": {
    "collapsed": false,
    "pycharm": {
     "name": "#%%\n"
    }
   }
  },
  {
   "cell_type": "code",
   "execution_count": null,
   "outputs": [],
   "source": [
    "U238 = load_ace(92238, suffix='JF311.ace')\n",
    "\n",
    "plot_temperatures(U238, 102, xs_gamma,\n",
    "                  title='Uranium 238 XS',\n",
    "                  save='U238_MT102')"
   ],
   "metadata": {
    "collapsed": false,
    "pycharm": {
     "name": "#%%\n"
    }
   }
  },
  {
   "cell_type": "code",
   "execution_count": null,
   "outputs": [],
   "source": [
    "U238_12 = U238.tables['92238.12c']\n",
    "\n",
    "plot_compare_nuclides((U235_12, U238_12),\n",
    "                      ('U-235', 'U-238'),\n",
    "                      18, xs_f,\n",
    "                      title='U-235 and 238 fission XS at 1200 K',\n",
    "                      save='U235_U238_1200K_MT18')"
   ],
   "metadata": {
    "collapsed": false,
    "pycharm": {
     "name": "#%%\n"
    }
   }
  },
  {
   "cell_type": "code",
   "execution_count": null,
   "outputs": [],
   "source": [
    "U233 = load_ace(92233)\n",
    "\n",
    "U233_12 = U233.tables['92233.12c']\n",
    "\n",
    "U233_eta = eta_micro(U233_12)\n",
    "plot_nueta(U233_12.energy, U233_eta, eta,\n",
    "           title='U-233 eta at 1200 K',\n",
    "           save='U233_1200K_eta')"
   ],
   "metadata": {
    "collapsed": false,
    "pycharm": {
     "name": "#%%\n"
    }
   }
  },
  {
   "cell_type": "markdown",
   "source": [
    "Plutonium"
   ],
   "metadata": {
    "collapsed": false
   }
  },
  {
   "cell_type": "code",
   "execution_count": null,
   "outputs": [],
   "source": [
    "Pu239 = load_ace(94239)\n",
    "Pu239_12 = Pu239.tables['94239.12c']\n",
    "\n",
    "Pu239_eta = eta_micro(Pu239_12)\n",
    "plot_nueta(Pu239_12.energy, Pu239_eta, eta,\n",
    "           title='Pu-239 eta at 1200 K',\n",
    "           save='Pu239_1200K_eta')"
   ],
   "metadata": {
    "collapsed": false,
    "pycharm": {
     "name": "#%%\n"
    }
   }
  },
  {
   "cell_type": "code",
   "execution_count": null,
   "outputs": [],
   "source": [
    "fig, ax = plt.subplots()\n",
    "ax.semilogx(Pu239_12.energy, Pu239_eta,\n",
    "            label='Pu239',\n",
    "            linewidth=0.5)\n",
    "ax.semilogx(U235_12.energy, U235_eta,\n",
    "            label='U235',\n",
    "            linewidth=0.5)\n",
    "ax.semilogx(U233_12.energy, U233_eta,\n",
    "            label='U233',\n",
    "            linewidth=0.5)\n",
    "\n",
    "ax.legend()\n",
    "ax.set(xlabel=ene,ylabel=eta,\n",
    "       title='Eta for different fissile at 1200 K')\n",
    "\n",
    "plt.savefig('Fissile_1200K_eta.pdf', bbox_inches='tight')"
   ],
   "metadata": {
    "collapsed": false,
    "pycharm": {
     "name": "#%%\n"
    }
   }
  },
  {
   "cell_type": "markdown",
   "metadata": {
    "pycharm": {
     "name": "#%% md\n"
    },
    "scrolled": false
   },
   "source": [
    "Hydrogen"
   ]
  },
  {
   "cell_type": "code",
   "execution_count": 491,
   "outputs": [
    {
     "name": "stdout",
     "output_type": "stream",
     "text": [
      "0.9999972994201658\n",
      "18.197586336672845\n"
     ]
    },
    {
     "data": {
      "text/plain": "(<Figure size 576x396 with 1 Axes>,\n <AxesSubplot:title={'center':'Hydrogen 1 total and elastic scattering XS'}, xlabel='Neutron energy (MeV)', ylabel='$ \\\\sigma $ (barn)'>)"
     },
     "execution_count": 491,
     "metadata": {},
     "output_type": "execute_result"
    },
    {
     "data": {
      "text/plain": "<Figure size 576x396 with 1 Axes>",
      "image/png": "[encoded data removed]"
     },
     "metadata": {},
     "output_type": "display_data"
    }
   ],
   "source": [
    "H1 = load_ace(1001)\n",
    "\n",
    "plot_temperatures(H1, 1, xs_t,\n",
    "                  title='Hydrogen 1 total XS',\n",
    "                  save='H1')\n",
    "\n",
    "plot_temperatures(H1, 2, xs_e,\n",
    "                  title='Hydrogen 1 elastic scattering XS',\n",
    "                  save='H1_MT2')\n",
    "\n",
    "plot_temperatures(H1, 102, xs_gamma,\n",
    "                  title='Hydrogen 1 capture XS',\n",
    "                  save='H1_MT102')"
   ],
   "metadata": {
    "collapsed": false,
    "pycharm": {
     "name": "#%%\n"
    }
   }
  },
  {
   "cell_type": "code",
   "execution_count": null,
   "outputs": [],
   "source": [
    "H1_3 = H1.tables['1001.03c']\n",
    "\n",
    "plot_compare_mts(H1_3, (1,2), ('total','elastic scattering'),\n",
    "                 title='Hydrogen 1 total and elastic scattering XS',\n",
    "                 save='H1_MT1_MT2')"
   ],
   "metadata": {
    "collapsed": false,
    "pycharm": {
     "name": "#%%\n"
    }
   }
  },
  {
   "cell_type": "code",
   "source": [
    "SCR = H1_3.reactions[2].sigma/H1_3.reactions[102].sigma\n",
    "\n",
    "plot_ratio(H1_3.energy, SCR,\n",
    "           '$ \\sigma_{\\mathrm{e}} / \\sigma_{\\mathrm{c}} $ ',\n",
    "           title='Hydrogen 1 elastic scattering to radiative capture ratio',\n",
    "           save='H1_SCR',\n",
    "           ylim=None)\n",
    "\n",
    "mp = moderating_power(H1_mass, H1_3)\n",
    "\n",
    "plot_xs(H1_3.energy, mp, 'Moderating power',\n",
    "        title='Hydrogen 1 moderating power at 300 K',\n",
    "        save='H1_MP')\n",
    "\n",
    "mr = moderating_ratio(H1_mass, H1_3)\n",
    "\n",
    "plot_xs(H1_3.energy, mr, 'Moderating ratio',\n",
    "        title='Hydrogen 1 moderating ratio at 300 K',\n",
    "        save='H1_MR')"
   ],
   "metadata": {
    "collapsed": false,
    "pycharm": {
     "name": "#%%\n"
    }
   },
   "execution_count": null,
   "outputs": []
  },
  {
   "cell_type": "markdown",
   "source": [
    "Beryllium"
   ],
   "metadata": {
    "collapsed": false
   }
  },
  {
   "cell_type": "code",
   "execution_count": null,
   "outputs": [],
   "source": [
    "Be9 = load_ace(4009)\n",
    "Be9_3 = Be9.tables['4009.03c']\n",
    "Be9_3.reactions\n",
    "\n",
    "plot_temperatures(Be9, 1, xs_t,\n",
    "                  title='Beryllium 9 total XS',\n",
    "                  save='Be9')"
   ],
   "metadata": {
    "collapsed": false,
    "pycharm": {
     "name": "#%%\n"
    }
   }
  },
  {
   "cell_type": "code",
   "source": [
    "plot_temperatures(Be9, 2, xs_e,\n",
    "                  title='Beryllium 9 elastic scattering XS',\n",
    "                  save='Be9_MT2')"
   ],
   "metadata": {
    "collapsed": false,
    "pycharm": {
     "name": "#%%\n"
    }
   },
   "execution_count": null,
   "outputs": []
  },
  {
   "cell_type": "code",
   "execution_count": null,
   "outputs": [],
   "source": [
    "SCR = Be9_3.reactions[2].sigma/Be9_3.reactions[102].sigma\n",
    "\n",
    "plot_ratio(Be9_3.energy, SCR,\n",
    "           '$ \\sigma_{\\mathrm{e}} / \\sigma_{\\mathrm{c}} $ ',\n",
    "           title='Beryllium 9 elastic scattering to radiative capture ratio',\n",
    "           save='Be9_SCR',\n",
    "           ylim=None)\n",
    "\n",
    "mp = moderating_power(Be9_mass, Be9_3)\n",
    "\n",
    "plot_xs(Be9_3.energy, mp, 'Moderating power',\n",
    "        title='Beryllium 9 moderating power at 300 K',\n",
    "        save='Be9_MP')\n",
    "\n",
    "mr = moderating_ratio(Be9_mass, Be9_3)\n",
    "\n",
    "plot_xs(Be9_3.energy, mr, 'Moderating ratio',\n",
    "        title='Beryllium 9 moderating ratio at 300 K',\n",
    "        save='Be9_MR')"
   ],
   "metadata": {
    "collapsed": false,
    "pycharm": {
     "name": "#%%\n"
    }
   }
  },
  {
   "cell_type": "markdown",
   "source": [
    "Boron"
   ],
   "metadata": {
    "collapsed": false,
    "pycharm": {
     "name": "#%% md\n"
    }
   }
  },
  {
   "cell_type": "code",
   "source": [
    "B10 = load_ace(5010)\n",
    "\n",
    "plot_temperatures(B10, 1, xs_t,\n",
    "                  title='Boron 10 total XS',\n",
    "                  save='B10')\n",
    "\n",
    "plot_temperatures(B10, 2, xs_e,\n",
    "                  title='Boron 10 elastic scattering XS',\n",
    "                  save='B10_MT2')\n",
    "\n",
    "plot_temperatures(B10, 107, xs_alpha,\n",
    "                  title='Boron 10 alpha production capture XS',\n",
    "                  save='B10_MT107')"
   ],
   "metadata": {
    "collapsed": false,
    "pycharm": {
     "name": "#%%\n"
    }
   },
   "execution_count": null,
   "outputs": []
  },
  {
   "cell_type": "markdown",
   "source": [
    "Carbon"
   ],
   "metadata": {
    "collapsed": false,
    "pycharm": {
     "name": "#%% md\n"
    }
   }
  },
  {
   "cell_type": "code",
   "execution_count": null,
   "outputs": [],
   "source": [
    "C12 = load_ace(6000)\n",
    "C12_3 = C12.tables['6000.03c']\n",
    "C12_3.reactions\n",
    "\n",
    "plot_temperatures(C12, 1, xs_t,\n",
    "                  title='Carbon 12 total XS',\n",
    "                  save='C12')\n",
    "\n",
    "plot_temperatures(C12, 2, xs_e,\n",
    "                  title='Carbon 12 elastic scattering XS',\n",
    "                  save='C12_MT2')\n",
    "\n",
    "plot_temperatures(C12, 102, xs_gamma,\n",
    "                  title='Carbon 12 capture XS',\n",
    "                  save='C12_MT102')"
   ],
   "metadata": {
    "collapsed": false,
    "pycharm": {
     "name": "#%%\n"
    }
   }
  },
  {
   "cell_type": "code",
   "execution_count": null,
   "outputs": [],
   "source": [
    "SCR = C12_3.reactions[2].sigma/C12_3.reactions[102].sigma\n",
    "\n",
    "plot_ratio(C12_3.energy, SCR,\n",
    "           '$ \\sigma_{\\mathrm{e}} / \\sigma_{\\mathrm{c}} $ ',\n",
    "           title='Carbon 12 elastic scattering to radiative capture ratio',\n",
    "           save='C12_SCR',\n",
    "           ylim=None)\n",
    "\n",
    "mp = moderating_power(C12_mass, C12_3)\n",
    "\n",
    "plot_xs(C12_3.energy, mp, 'Moderating power',\n",
    "        title='Carbon 12 moderating power at 300 K',\n",
    "        save='C12_MP')\n",
    "\n",
    "mr = moderating_ratio(C12_mass, C12_3)\n",
    "\n",
    "plot_xs(C12_3.energy, mr, 'Moderating ratio',\n",
    "        title='Carbon 12 moderating ratio at 300 K',\n",
    "        save='C12_MR')"
   ],
   "metadata": {
    "collapsed": false,
    "pycharm": {
     "name": "#%%\n"
    }
   }
  },
  {
   "cell_type": "markdown",
   "source": [
    "Oxygen"
   ],
   "metadata": {
    "collapsed": false
   }
  },
  {
   "cell_type": "code",
   "execution_count": null,
   "outputs": [],
   "source": [
    "O16 = load_ace(8016)\n",
    "\n",
    "plot_temperatures(O16, 1, xs_t,\n",
    "                  title='Oxygen 16 total XS',\n",
    "                  save='O16')\n",
    "\n",
    "plot_temperatures(O16, 2, xs_e,\n",
    "                  title='Oxygen 16 elastic scattering XS',\n",
    "                  save='O16_MT2')\n",
    "\n",
    "plot_temperatures(O16, 102, xs_gamma,\n",
    "                  title='Oxygen 16 capture XS',\n",
    "                  save='O16_MT102')"
   ],
   "metadata": {
    "collapsed": false,
    "pycharm": {
     "name": "#%%\n"
    }
   }
  },
  {
   "cell_type": "code",
   "execution_count": null,
   "outputs": [],
   "source": [
    "O16_3 = O16.tables['8016.03c']\n",
    "\n",
    "plot_compare_mts(O16_3, (1,2), ('total','elastic scattering'),\n",
    "                 title='Oxygen 16 total and elastic scattering XS',\n",
    "                 save='O16_MT1_MT2')\n"
   ],
   "metadata": {
    "collapsed": false,
    "pycharm": {
     "name": "#%%\n"
    }
   }
  }
 ],
 "metadata": {
  "kernelspec": {
   "name": "pycharm-43c23681",
   "language": "python",
   "display_name": "PyCharm (course_reactor_physics)"
  },
  "language_info": {
   "codemirror_mode": {
    "name": "ipython",
    "version": 3
   },
   "file_extension": ".py",
   "mimetype": "text/x-python",
   "name": "python",
   "nbconvert_exporter": "python",
   "pygments_lexer": "ipython3",
   "version": "3.7.12"
  }
 },
 "nbformat": 4,
 "nbformat_minor": 1
}