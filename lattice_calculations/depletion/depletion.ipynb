{
 "cells": [
  {
   "cell_type": "markdown",
   "metadata": {
    "pycharm": {
     "name": "#%% md\n"
    }
   },
   "source": [
    "# Depletion\n",
    "This notebook is intended to introduce the reader to the depletion interface contained in OpenMC. It is recommended that you are moderately familiar with building models using the OpenMC Python API. The earlier examples are excellent starting points, as this notebook will not focus heavily on model building.\n",
    "\n",
    "If you have a real power reactor, the fuel composition is constantly changing as fission events produce energy, remove some fissile isotopes, and produce fission products. Other reactions, like $(n, \\alpha)$ and $(n, \\gamma)$ will alter the composition as well. Furthermore, some nuclides undergo spontaneous decay with widely ranging frequencies. Depletion is the process of modeling this behavior.\n",
    "\n",
    "In this notebook, we will model a simple fuel pin in an infinite lattice using the Python API. We will then build and examine some of the necessary components for performing depletion analysis. Then, we will use the depletion interface in OpenMC to simulate the fuel pin producing power over several months. Lastly, we will wrap up with some helpful tips to improve the fidelity of depletion simulations."
   ]
  },
  {
   "cell_type": "code",
   "execution_count": 331,
   "metadata": {
    "pycharm": {
     "name": "#%%\n"
    }
   },
   "outputs": [],
   "source": [
    "%matplotlib inline\n",
    "import math\n",
    "import openmc"
   ]
  },
  {
   "cell_type": "markdown",
   "metadata": {
    "pycharm": {
     "name": "#%% md\n"
    }
   },
   "source": [
    "## Build the Geometry\n",
    "\n",
    "Much of this section is borrowed from the \"Modeling a Pin-Cell\" example. If you find yourself not understanding some aspects of this section, feel free to refer to that example, as some details may be glossed over for brevity.\n",
    "\n",
    "First, we will create our fuel, cladding, and water materials to represent a typical PWR."
   ]
  },
  {
   "cell_type": "code",
   "execution_count": 332,
   "metadata": {
    "pycharm": {
     "name": "#%%\n"
    }
   },
   "outputs": [],
   "source": [
    "fuel = openmc.Material(name=\"uo2\")\n",
    "fuel.add_element(\"U\", 1, percent_type=\"ao\", enrichment=4.25)\n",
    "fuel.add_element(\"O\", 2)\n",
    "fuel.set_density(\"g/cc\", 10.4)\n",
    "\n",
    "clad = openmc.Material(name=\"clad\")\n",
    "clad.add_element(\"Zr\", 1)\n",
    "clad.set_density(\"g/cc\", 6)\n",
    "\n",
    "water = openmc.Material(name=\"water\")\n",
    "water.add_element(\"O\", 1)\n",
    "water.add_element(\"H\", 2)\n",
    "water.set_density(\"g/cc\", 1.0)\n",
    "water.add_s_alpha_beta(\"c_H_in_H2O\")\n",
    "materials = openmc.Materials([fuel, clad, water])\n",
    "\n",
    "cross_sections_file = \"/home/rodrigo/opt/openmc_data/endfb80/cross_sections.xml\"\n",
    "materials.cross_sections = cross_sections_file"
   ]
  },
  {
   "cell_type": "markdown",
   "metadata": {
    "pycharm": {
     "name": "#%% md\n"
    }
   },
   "source": [
    "Here, we are going to use the `openmc.model.pin` function to build our pin cell. The `pin` function anticipates concentric cylinders and materials to fill the inner regions. One additional material is needed than the number of cylinders to cover the domain outside the final ring. \n",
    "\n",
    "To do this, we define two radii for the outer radius of our fuel pin, and the outer radius of the cladding."
   ]
  },
  {
   "cell_type": "code",
   "execution_count": 333,
   "metadata": {
    "pycharm": {
     "name": "#%%\n"
    }
   },
   "outputs": [],
   "source": [
    "radii = [0.42, 0.45]"
   ]
  },
  {
   "cell_type": "markdown",
   "metadata": {
    "pycharm": {
     "name": "#%% md\n"
    }
   },
   "source": [
    "Using these radii, we define concentric `ZCylinder` objects. So long as the cylinders are concentric and increasing in radius, any orientation can be used. We also take advantage of the fact that the `openmc.Materials` object is a subclass of the `list` object to assign materials to the regions defined by the surfaces."
   ]
  },
  {
   "cell_type": "code",
   "execution_count": 334,
   "metadata": {
    "pycharm": {
     "name": "#%%\n"
    }
   },
   "outputs": [],
   "source": [
    "pin_surfaces = [openmc.ZCylinder(r=r) for r in radii]\n",
    "pin_univ = openmc.model.pin(pin_surfaces, materials)"
   ]
  },
  {
   "cell_type": "markdown",
   "metadata": {
    "pycharm": {
     "name": "#%% md\n"
    }
   },
   "source": [
    "The first material, in our case `fuel`, is placed inside the first cylinder in the inner-most region. The second material, `clad`, fills the space between our cylinders, while `water` is placed outside the last ring. The `pin` function returns an `openmc.Universe` object, and has some additional features we will mention later. Finally, we need to place the fuel pin universe in a bounding cell."
   ]
  },
  {
   "cell_type": "code",
   "execution_count": 335,
   "metadata": {
    "pycharm": {
     "name": "#%%\n"
    }
   },
   "outputs": [],
   "source": [
    "bound_box = openmc.rectangular_prism(1.24, 1.24, boundary_type=\"reflective\")\n",
    "root_cell = openmc.Cell(fill=pin_univ, region=bound_box)\n",
    "geometry = openmc.Geometry([root_cell])"
   ]
  },
  {
   "cell_type": "markdown",
   "metadata": {
    "pycharm": {
     "name": "#%% md\n"
    }
   },
   "source": [
    "To ensure our geometry looks right, let's plot it."
   ]
  },
  {
   "cell_type": "code",
   "execution_count": 336,
   "metadata": {
    "pycharm": {
     "name": "#%%\n"
    }
   },
   "outputs": [
    {
     "data": {
      "text/plain": "<matplotlib.image.AxesImage at 0x7feea15572e0>"
     },
     "execution_count": 336,
     "metadata": {},
     "output_type": "execute_result"
    },
    {
     "data": {
      "text/plain": "<Figure size 432x288 with 1 Axes>",
      "image/png": "[encoded data removed]"
     },
     "metadata": {
      "needs_background": "light"
     },
     "output_type": "display_data"
    }
   ],
   "source": [
    "geometry.root_universe.plot()"
   ]
  },
  {
   "cell_type": "markdown",
   "metadata": {
    "pycharm": {
     "name": "#%% md\n"
    }
   },
   "source": [
    "Lastly we construct our settings. For the sake of time, a relatively low number of particles will be used."
   ]
  },
  {
   "cell_type": "code",
   "execution_count": 337,
   "metadata": {
    "pycharm": {
     "name": "#%%\n"
    }
   },
   "outputs": [],
   "source": [
    "settings = openmc.Settings()\n",
    "settings.particles = 1000\n",
    "settings.inactive = 10\n",
    "settings.batches = 50"
   ]
  },
  {
   "cell_type": "markdown",
   "metadata": {
    "pycharm": {
     "name": "#%% md\n"
    }
   },
   "source": [
    "The depletion interface relies on `OpenMC` to perform the transport simulation and obtain reaction rates and other important information. Normally, we would need to export XML files before running OpenMC, but the depletion interface takes care of this for us."
   ]
  },
  {
   "cell_type": "markdown",
   "metadata": {
    "pycharm": {
     "name": "#%% md\n"
    }
   },
   "source": [
    "However, we must first add one bit of information: the volume of our fuel. In order to translate the reaction rates obtained by `openmc` to meaningful units for depletion, we have to normalize them to a correct power. This requires us to know, or be able to calculate, how much fuel is in our problem. Correctly setting the volumes is a critical step, and can lead to incorrect answers, as the fuel is over- or under-depleted due to poor normalization.\n",
    "\n",
    "For our problem, we can assign the \"volume\" to be the cross-sectional area of our fuel. This is identical to modeling our fuel pin inside a box with height of 1 cm."
   ]
  },
  {
   "cell_type": "code",
   "execution_count": 338,
   "metadata": {
    "pycharm": {
     "name": "#%%\n"
    }
   },
   "outputs": [],
   "source": [
    "fuel.volume = math.pi * radii[0] ** 2\n",
    "\n",
    "model = openmc.model.Model(geometry, materials, settings)"
   ]
  },
  {
   "cell_type": "markdown",
   "metadata": {
    "pycharm": {
     "name": "#%% md\n"
    }
   },
   "source": [
    "## Setting up for depletion\n",
    "\n",
    "The OpenMC depletion interface can be accessed from the `openmc.deplete` module, and has a variety of classes that will help us."
   ]
  },
  {
   "cell_type": "code",
   "execution_count": 339,
   "metadata": {
    "pycharm": {
     "name": "#%%\n"
    }
   },
   "outputs": [],
   "source": [
    "import openmc.deplete"
   ]
  },
  {
   "cell_type": "markdown",
   "metadata": {
    "pycharm": {
     "name": "#%% md\n"
    }
   },
   "source": [
    "In order to run the depletion calculation we need the following information:\n",
    "\n",
    "1. Nuclide decay, fission yield, and reaction data\n",
    "2. Operational power or power density\n",
    "3. Desired depletion schedule\n",
    "4. Desired time integration scheme\n",
    "\n",
    "The first item is necessary to determine the paths by which nuclides transmute over the depletion simulation. This includes spontaneous decay, fission product yield distributions, and nuclides produced through neutron-reactions. For example,\n",
    "* Te129 decays to I129 with a half life of ~70 minutes\n",
    "* A fission event for U-235 produces fission products like Xe135 according to a distribution\n",
    "* For thermal problems, Am241 will produce metastable Am242 about 8% of the time during an $(n,\\gamma)$ reaction. The other 92% of capture reactions will produce ground state Am242\n",
    "\n",
    "These data are often distributed with other nuclear data, like incident neutron cross sections with ENDF/B-VII.\n",
    "OpenMC uses the [`openmc.deplete.Chain`](https://docs.openmc.org/en/latest/pythonapi/generated/openmc.deplete.Chain.html#openmc.deplete.Chain) to collect represent the various decay and transmutation pathways in a single object.\n",
    "While a complete `Chain` can be created using nuclear data files, users may prefer to download pre-generated XML-representations instead.\n",
    "Such files can be found at https://openmc.org/depletion-chains/ and include full and compressed chains, with capture branching ratios derived using PWR- or SFR-spectra.\n",
    "\n",
    "For this problem, we will be using a much smaller depletion chain that contains very few nuclides. In a realistic problem, over 1000 isotopes may be included in the depletion chain."
   ]
  },
  {
   "cell_type": "code",
   "execution_count": 340,
   "metadata": {
    "pycharm": {
     "name": "#%%\n"
    }
   },
   "outputs": [
    {
     "data": {
      "text/plain": "OrderedDict([('B10', 0),\n             ('B11', 1),\n             ('O16', 2),\n             ('Br81', 3),\n             ('Br82', 4),\n             ('Kr82', 5),\n             ('Kr83', 6),\n             ('Kr84', 7),\n             ('Kr85', 8),\n             ('Kr86', 9),\n             ('Sr89', 10),\n             ('Sr90', 11),\n             ('Y89', 12),\n             ('Y90', 13),\n             ('Y91', 14),\n             ('Zr90', 15),\n             ('Zr91', 16),\n             ('Zr92', 17),\n             ('Zr93', 18),\n             ('Zr94', 19),\n             ('Zr95', 20),\n             ('Zr96', 21),\n             ('Nb95', 22),\n             ('Mo92', 23),\n             ('Mo94', 24),\n             ('Mo95', 25),\n             ('Mo96', 26),\n             ('Mo97', 27),\n             ('Mo98', 28),\n             ('Mo99', 29),\n             ('Mo100', 30),\n             ('Tc99', 31),\n             ('Tc99_m1', 32),\n             ('Tc100', 33),\n             ('Ru100', 34),\n             ('Ru101', 35),\n             ('Ru102', 36),\n             ('Ru103', 37),\n             ('Ru104', 38),\n             ('Ru105', 39),\n             ('Ru106', 40),\n             ('Rh102', 41),\n             ('Rh102_m1', 42),\n             ('Rh103', 43),\n             ('Rh103_m1', 44),\n             ('Rh104', 45),\n             ('Rh105', 46),\n             ('Rh105_m1', 47),\n             ('Rh106', 48),\n             ('Rh106_m1', 49),\n             ('Pd104', 50),\n             ('Pd105', 51),\n             ('Pd106', 52),\n             ('Pd107', 53),\n             ('Pd108', 54),\n             ('Pd109', 55),\n             ('Ag107', 56),\n             ('Ag109', 57),\n             ('Ag109_m1', 58),\n             ('Ag110', 59),\n             ('Ag110_m1', 60),\n             ('Ag111', 61),\n             ('Cd110', 62),\n             ('Cd111', 63),\n             ('Cd112', 64),\n             ('Cd113', 65),\n             ('Cd114', 66),\n             ('Cd115', 67),\n             ('In113', 68),\n             ('In115', 69),\n             ('Sb121', 70),\n             ('Sb123', 71),\n             ('Sb125', 72),\n             ('Sb127', 73),\n             ('Te127', 74),\n             ('Te127_m1', 75),\n             ('Te129_m1', 76),\n             ('Te132', 77),\n             ('I127', 78),\n             ('I128', 79),\n             ('I129', 80),\n             ('I130', 81),\n             ('I131', 82),\n             ('I132', 83),\n             ('I135', 84),\n             ('Xe128', 85),\n             ('Xe130', 86),\n             ('Xe131', 87),\n             ('Xe132', 88),\n             ('Xe133', 89),\n             ('Xe134', 90),\n             ('Xe135', 91),\n             ('Xe135_m1', 92),\n             ('Xe136', 93),\n             ('Xe137', 94),\n             ('Cs133', 95),\n             ('Cs134', 96),\n             ('Cs135', 97),\n             ('Cs136', 98),\n             ('Cs137', 99),\n             ('Ba134', 100),\n             ('Ba137', 101),\n             ('Ba140', 102),\n             ('La139', 103),\n             ('La140', 104),\n             ('Ce140', 105),\n             ('Ce141', 106),\n             ('Ce142', 107),\n             ('Ce143', 108),\n             ('Ce144', 109),\n             ('Pr141', 110),\n             ('Pr142', 111),\n             ('Pr143', 112),\n             ('Pr144', 113),\n             ('Nd142', 114),\n             ('Nd143', 115),\n             ('Nd144', 116),\n             ('Nd145', 117),\n             ('Nd146', 118),\n             ('Nd147', 119),\n             ('Nd148', 120),\n             ('Nd149', 121),\n             ('Nd150', 122),\n             ('Nd151', 123),\n             ('Pm147', 124),\n             ('Pm148', 125),\n             ('Pm148_m1', 126),\n             ('Pm149', 127),\n             ('Pm150', 128),\n             ('Pm151', 129),\n             ('Sm147', 130),\n             ('Sm148', 131),\n             ('Sm149', 132),\n             ('Sm150', 133),\n             ('Sm151', 134),\n             ('Sm152', 135),\n             ('Sm153', 136),\n             ('Sm154', 137),\n             ('Sm155', 138),\n             ('Eu151', 139),\n             ('Eu152', 140),\n             ('Eu152_m1', 141),\n             ('Eu153', 142),\n             ('Eu154', 143),\n             ('Eu155', 144),\n             ('Eu156', 145),\n             ('Eu157', 146),\n             ('Gd152', 147),\n             ('Gd154', 148),\n             ('Gd155', 149),\n             ('Gd156', 150),\n             ('Gd157', 151),\n             ('Gd158', 152),\n             ('Gd159', 153),\n             ('Gd160', 154),\n             ('Gd161', 155),\n             ('Tb159', 156),\n             ('Tb160', 157),\n             ('Tb161', 158),\n             ('Dy160', 159),\n             ('Dy161', 160),\n             ('Dy162', 161),\n             ('Dy163', 162),\n             ('Dy164', 163),\n             ('Dy165', 164),\n             ('Ho165', 165),\n             ('Er162', 166),\n             ('Er164', 167),\n             ('Er166', 168),\n             ('Er167', 169),\n             ('Er168', 170),\n             ('Er169', 171),\n             ('Er170', 172),\n             ('Er171', 173),\n             ('Tm169', 174),\n             ('Tm170', 175),\n             ('Tm171', 176),\n             ('Hf174', 177),\n             ('Hf176', 178),\n             ('Hf177', 179),\n             ('Hf178', 180),\n             ('Hf179', 181),\n             ('Hf180', 182),\n             ('Hf181', 183),\n             ('Ta181', 184),\n             ('Ta182', 185),\n             ('Th230', 186),\n             ('Th231', 187),\n             ('Th232', 188),\n             ('Th233', 189),\n             ('Th234', 190),\n             ('Pa231', 191),\n             ('Pa232', 192),\n             ('Pa233', 193),\n             ('Pa234', 194),\n             ('U232', 195),\n             ('U233', 196),\n             ('U234', 197),\n             ('U235', 198),\n             ('U236', 199),\n             ('U237', 200),\n             ('U238', 201),\n             ('U239', 202),\n             ('Np236', 203),\n             ('Np237', 204),\n             ('Np238', 205),\n             ('Np239', 206),\n             ('Np240', 207),\n             ('Np240_m1', 208),\n             ('Pu236', 209),\n             ('Pu237', 210),\n             ('Pu238', 211),\n             ('Pu239', 212),\n             ('Pu240', 213),\n             ('Pu241', 214),\n             ('Pu242', 215),\n             ('Pu243', 216),\n             ('Am241', 217),\n             ('Am242', 218),\n             ('Am242_m1', 219),\n             ('Am243', 220),\n             ('Am244', 221),\n             ('Am244_m1', 222),\n             ('Cm242', 223),\n             ('Cm243', 224),\n             ('Cm244', 225),\n             ('Cm245', 226),\n             ('Cm246', 227)])"
     },
     "execution_count": 340,
     "metadata": {},
     "output_type": "execute_result"
    }
   ],
   "source": [
    "chain_file = \"/home/rodrigo/opt/openmc_data/chain_casl_pwr.xml\"\n",
    "chain = openmc.deplete.Chain.from_xml(chain_file)\n",
    "chain.nuclide_dict"
   ]
  },
  {
   "cell_type": "markdown",
   "metadata": {
    "pycharm": {
     "name": "#%% md\n"
    }
   },
   "source": [
    "The primary entry point for depletion is the `openmc.deplete.Operator`. It relies on the `openmc.deplete.Chain` and helper classes to run `openmc`, retrieve and normalize reaction rates, and other perform other tasks. For a thorough description, please see the full API documentation."
   ]
  },
  {
   "cell_type": "markdown",
   "metadata": {
    "pycharm": {
     "name": "#%% md\n"
    }
   },
   "source": [
    "We will create our Operator using the geometry and settings from above, and our simple chain file. The materials are read in automatically using the `materials.xml` file."
   ]
  },
  {
   "cell_type": "code",
   "execution_count": 341,
   "metadata": {
    "pycharm": {
     "name": "#%%\n"
    }
   },
   "outputs": [],
   "source": [
    "operator = openmc.deplete.Operator(model, chain_file)"
   ]
  },
  {
   "cell_type": "markdown",
   "metadata": {
    "pycharm": {
     "name": "#%% md\n"
    }
   },
   "source": [
    "We will then simulate our fuel pin operating at linear power of 174 W/cm, or 174 W given a unit height for our problem."
   ]
  },
  {
   "cell_type": "code",
   "execution_count": 342,
   "metadata": {
    "pycharm": {
     "name": "#%%\n"
    }
   },
   "outputs": [],
   "source": [
    "power = 174"
   ]
  },
  {
   "cell_type": "markdown",
   "metadata": {
    "pycharm": {
     "name": "#%% md\n"
    }
   },
   "source": [
    "For this problem, we will take depletion step sizes of 30 days, and instruct OpenMC to re-run a transport simulation every 30 days until we have modeled the problem over a six month cycle. The depletion interface expects the time to be given in seconds, so we will have to convert. Note that these values are not cumulative."
   ]
  },
  {
   "cell_type": "code",
   "execution_count": 343,
   "metadata": {
    "pycharm": {
     "name": "#%%\n"
    }
   },
   "outputs": [],
   "source": [
    "time_steps = [30] * 6"
   ]
  },
  {
   "cell_type": "markdown",
   "metadata": {
    "pycharm": {
     "name": "#%% md\n"
    }
   },
   "source": [
    "And lastly, we will use the basic predictor, or forward Euler, time integration scheme. Other, more advanced methods are provided to the user through `openmc.deplete`"
   ]
  },
  {
   "cell_type": "code",
   "execution_count": 344,
   "metadata": {
    "pycharm": {
     "name": "#%%\n"
    }
   },
   "outputs": [],
   "source": [
    "integrator = openmc.deplete.PredictorIntegrator(operator, time_steps, power, timestep_units='d')"
   ]
  },
  {
   "cell_type": "markdown",
   "metadata": {
    "pycharm": {
     "name": "#%% md\n"
    }
   },
   "source": [
    "To perform the simulation, we use the `integrate` method, and let `openmc` take care of the rest."
   ]
  },
  {
   "cell_type": "code",
   "execution_count": 345,
   "metadata": {
    "pycharm": {
     "name": "#%%\n"
    }
   },
   "outputs": [
    {
     "name": "stdout",
     "output_type": "stream",
     "text": [
      "                                %%%%%%%%%%%%%%%\n",
      "                           %%%%%%%%%%%%%%%%%%%%%%%%\n",
      "                        %%%%%%%%%%%%%%%%%%%%%%%%%%%%%%\n",
      "                      %%%%%%%%%%%%%%%%%%%%%%%%%%%%%%%%%%\n",
      "                    %%%%%%%%%%%%%%%%%%%%%%%%%%%%%%%%%%%%%%\n",
      "                   %%%%%%%%%%%%%%%%%%%%%%%%%%%%%%%%%%%%%%%%\n",
      "                                    %%%%%%%%%%%%%%%%%%%%%%%%\n",
      "                                     %%%%%%%%%%%%%%%%%%%%%%%%\n",
      "                 ###############      %%%%%%%%%%%%%%%%%%%%%%%%\n",
      "                ##################     %%%%%%%%%%%%%%%%%%%%%%%\n",
      "                ###################     %%%%%%%%%%%%%%%%%%%%%%%\n",
      "                ####################     %%%%%%%%%%%%%%%%%%%%%%\n",
      "                #####################     %%%%%%%%%%%%%%%%%%%%%\n",
      "                ######################     %%%%%%%%%%%%%%%%%%%%\n",
      "                #######################     %%%%%%%%%%%%%%%%%%\n",
      "                 #######################     %%%%%%%%%%%%%%%%%\n",
      "                 ######################     %%%%%%%%%%%%%%%%%\n",
      "                  ####################     %%%%%%%%%%%%%%%%%\n",
      "                    #################     %%%%%%%%%%%%%%%%%\n",
      "                     ###############     %%%%%%%%%%%%%%%%\n",
      "                       ############     %%%%%%%%%%%%%%%\n",
      "                          ########     %%%%%%%%%%%%%%\n",
      "                                      %%%%%%%%%%%\n",
      "\n",
      "                 | The OpenMC Monte Carlo Code\n",
      "       Copyright | 2011-2022 MIT, UChicago Argonne LLC, and contributors\n",
      "         License | https://docs.openmc.org/en/latest/license.html\n",
      "         Version | 0.13.1-dev\n",
      "        Git SHA1 | 73ba908f1fd8ba239412703142fdbf8bcf06efd8\n",
      "       Date/Time | 2022-06-16 20:38:25\n",
      "  OpenMP Threads | 64\n",
      "\n",
      " Reading settings XML file...\n",
      " Reading cross sections XML file...\n",
      " Reading materials XML file...\n",
      " Reading geometry XML file...\n",
      " Reading O16 from /home/rodrigo/opt/openmc_data/endfb80/O16.h5\n",
      " Reading U234 from /home/rodrigo/opt/openmc_data/endfb80/U234.h5\n",
      " Reading U235 from /home/rodrigo/opt/openmc_data/endfb80/U235.h5\n",
      " Reading U236 from /home/rodrigo/opt/openmc_data/endfb80/U236.h5\n",
      " Reading U238 from /home/rodrigo/opt/openmc_data/endfb80/U238.h5\n",
      " Reading O17 from /home/rodrigo/opt/openmc_data/endfb80/O17.h5\n",
      " Reading O18 from /home/rodrigo/opt/openmc_data/endfb80/O18.h5\n",
      " Reading Zr90 from /home/rodrigo/opt/openmc_data/endfb80/Zr90.h5\n",
      " Reading Zr91 from /home/rodrigo/opt/openmc_data/endfb80/Zr91.h5\n",
      " Reading Zr92 from /home/rodrigo/opt/openmc_data/endfb80/Zr92.h5\n",
      " Reading Zr94 from /home/rodrigo/opt/openmc_data/endfb80/Zr94.h5\n",
      " Reading Zr96 from /home/rodrigo/opt/openmc_data/endfb80/Zr96.h5\n",
      " Reading H1 from /home/rodrigo/opt/openmc_data/endfb80/H1.h5\n",
      " Reading H2 from /home/rodrigo/opt/openmc_data/endfb80/H2.h5\n",
      " Reading c_H_in_H2O from /home/rodrigo/opt/openmc_data/endfb80/c_H_in_H2O.h5\n",
      " Minimum neutron data temperature: 0 K\n",
      " Maximum neutron data temperature: 1.7976931348623157e+308 K\n",
      " Preparing distributed cell instances...\n",
      " Reading plot XML file...\n",
      " Writing summary.h5 file...\n",
      " Reading B10 from /home/rodrigo/opt/openmc_data/endfb80/B10.h5\n",
      " Reading B11 from /home/rodrigo/opt/openmc_data/endfb80/B11.h5\n",
      " Reading Br81 from /home/rodrigo/opt/openmc_data/endfb80/Br81.h5\n"
     ]
    },
    {
     "name": "stderr",
     "output_type": "stream",
     "text": [
      " WARNING: Negative value(s) found on probability table for nuclide Zr96 at 294K\n"
     ]
    },
    {
     "name": "stdout",
     "output_type": "stream",
     "text": [
      " Reading Kr82 from /home/rodrigo/opt/openmc_data/endfb80/Kr82.h5\n",
      " Reading Kr83 from /home/rodrigo/opt/openmc_data/endfb80/Kr83.h5\n",
      " Reading Kr84 from /home/rodrigo/opt/openmc_data/endfb80/Kr84.h5\n",
      " Reading Kr85 from /home/rodrigo/opt/openmc_data/endfb80/Kr85.h5\n",
      " Reading Kr86 from /home/rodrigo/opt/openmc_data/endfb80/Kr86.h5\n",
      " Reading Sr89 from /home/rodrigo/opt/openmc_data/endfb80/Sr89.h5\n",
      " Reading Sr90 from /home/rodrigo/opt/openmc_data/endfb80/Sr90.h5\n",
      " Reading Y89 from /home/rodrigo/opt/openmc_data/endfb80/Y89.h5\n",
      " Reading Y90 from /home/rodrigo/opt/openmc_data/endfb80/Y90.h5\n",
      " Reading Y91 from /home/rodrigo/opt/openmc_data/endfb80/Y91.h5\n",
      " Reading Zr93 from /home/rodrigo/opt/openmc_data/endfb80/Zr93.h5\n",
      " Reading Zr95 from /home/rodrigo/opt/openmc_data/endfb80/Zr95.h5\n",
      " Reading Nb95 from /home/rodrigo/opt/openmc_data/endfb80/Nb95.h5\n",
      " Reading Mo92 from /home/rodrigo/opt/openmc_data/endfb80/Mo92.h5\n",
      " Reading Mo94 from /home/rodrigo/opt/openmc_data/endfb80/Mo94.h5\n",
      " Reading Mo95 from /home/rodrigo/opt/openmc_data/endfb80/Mo95.h5\n",
      " Reading Mo96 from /home/rodrigo/opt/openmc_data/endfb80/Mo96.h5\n"
     ]
    },
    {
     "name": "stderr",
     "output_type": "stream",
     "text": [
      " WARNING: Negative value(s) found on probability table for nuclide Nb95 at 250K\n",
      " WARNING: Negative value(s) found on probability table for nuclide Nb95 at 294K\n",
      " WARNING: Negative value(s) found on probability table for nuclide Nb95 at 600K\n",
      " WARNING: Negative value(s) found on probability table for nuclide Nb95 at 900K\n",
      " WARNING: Negative value(s) found on probability table for nuclide Nb95 at 1200K\n"
     ]
    },
    {
     "name": "stdout",
     "output_type": "stream",
     "text": [
      " Reading Mo97 from /home/rodrigo/opt/openmc_data/endfb80/Mo97.h5\n",
      " Reading Mo98 from /home/rodrigo/opt/openmc_data/endfb80/Mo98.h5\n",
      " Reading Mo99 from /home/rodrigo/opt/openmc_data/endfb80/Mo99.h5\n",
      " Reading Mo100 from /home/rodrigo/opt/openmc_data/endfb80/Mo100.h5\n",
      " Reading Tc99 from /home/rodrigo/opt/openmc_data/endfb80/Tc99.h5\n",
      " Reading Ru100 from /home/rodrigo/opt/openmc_data/endfb80/Ru100.h5\n",
      " Reading Ru101 from /home/rodrigo/opt/openmc_data/endfb80/Ru101.h5\n"
     ]
    },
    {
     "name": "stderr",
     "output_type": "stream",
     "text": [
      " WARNING: Negative value(s) found on probability table for nuclide Mo99 at 250K\n",
      " WARNING: Negative value(s) found on probability table for nuclide Mo99 at 294K\n",
      " WARNING: Negative value(s) found on probability table for nuclide Mo99 at 600K\n",
      " WARNING: Negative value(s) found on probability table for nuclide Mo99 at 900K\n",
      " WARNING: Negative value(s) found on probability table for nuclide Mo99 at 1200K\n",
      " WARNING: Negative value(s) found on probability table for nuclide Mo99 at 2500K\n"
     ]
    },
    {
     "name": "stdout",
     "output_type": "stream",
     "text": [
      " Reading Ru102 from /home/rodrigo/opt/openmc_data/endfb80/Ru102.h5\n",
      " Reading Ru103 from /home/rodrigo/opt/openmc_data/endfb80/Ru103.h5\n",
      " Reading Ru104 from /home/rodrigo/opt/openmc_data/endfb80/Ru104.h5\n",
      " Reading Ru105 from /home/rodrigo/opt/openmc_data/endfb80/Ru105.h5\n",
      " Reading Ru106 from /home/rodrigo/opt/openmc_data/endfb80/Ru106.h5\n",
      " Reading Rh103 from /home/rodrigo/opt/openmc_data/endfb80/Rh103.h5\n",
      " Reading Rh104 from /home/rodrigo/opt/openmc_data/endfb80/Rh104.h5\n",
      " Reading Rh105 from /home/rodrigo/opt/openmc_data/endfb80/Rh105.h5\n",
      " Reading Pd104 from /home/rodrigo/opt/openmc_data/endfb80/Pd104.h5\n",
      " Reading Pd105 from /home/rodrigo/opt/openmc_data/endfb80/Pd105.h5\n",
      " Reading Pd106 from /home/rodrigo/opt/openmc_data/endfb80/Pd106.h5\n",
      " Reading Pd107 from /home/rodrigo/opt/openmc_data/endfb80/Pd107.h5\n",
      " Reading Pd108 from /home/rodrigo/opt/openmc_data/endfb80/Pd108.h5\n",
      " Reading Pd109 from /home/rodrigo/opt/openmc_data/endfb80/Pd109.h5\n",
      " Reading Ag107 from /home/rodrigo/opt/openmc_data/endfb80/Ag107.h5\n",
      " Reading Ag109 from /home/rodrigo/opt/openmc_data/endfb80/Ag109.h5\n",
      " Reading Ag110_m1 from /home/rodrigo/opt/openmc_data/endfb80/Ag110_m1.h5\n",
      " Reading Ag111 from /home/rodrigo/opt/openmc_data/endfb80/Ag111.h5\n",
      " Reading Cd110 from /home/rodrigo/opt/openmc_data/endfb80/Cd110.h5\n",
      " Reading Cd111 from /home/rodrigo/opt/openmc_data/endfb80/Cd111.h5\n",
      " Reading Cd112 from /home/rodrigo/opt/openmc_data/endfb80/Cd112.h5\n",
      " Reading Cd113 from /home/rodrigo/opt/openmc_data/endfb80/Cd113.h5\n",
      " Reading Cd114 from /home/rodrigo/opt/openmc_data/endfb80/Cd114.h5\n",
      " Reading In113 from /home/rodrigo/opt/openmc_data/endfb80/In113.h5\n",
      " Reading In115 from /home/rodrigo/opt/openmc_data/endfb80/In115.h5\n",
      " Reading Sb121 from /home/rodrigo/opt/openmc_data/endfb80/Sb121.h5\n",
      " Reading Sb123 from /home/rodrigo/opt/openmc_data/endfb80/Sb123.h5\n",
      " Reading Sb125 from /home/rodrigo/opt/openmc_data/endfb80/Sb125.h5\n",
      " Reading Te127_m1 from /home/rodrigo/opt/openmc_data/endfb80/Te127_m1.h5\n",
      " Reading Te129_m1 from /home/rodrigo/opt/openmc_data/endfb80/Te129_m1.h5\n",
      " Reading Te132 from /home/rodrigo/opt/openmc_data/endfb80/Te132.h5\n",
      " Reading I127 from /home/rodrigo/opt/openmc_data/endfb80/I127.h5\n",
      " Reading I128 from /home/rodrigo/opt/openmc_data/endfb80/I128.h5\n",
      " Reading I129 from /home/rodrigo/opt/openmc_data/endfb80/I129.h5\n",
      " Reading I130 from /home/rodrigo/opt/openmc_data/endfb80/I130.h5\n",
      " Reading I131 from /home/rodrigo/opt/openmc_data/endfb80/I131.h5\n",
      " Reading I132 from /home/rodrigo/opt/openmc_data/endfb80/I132.h5\n",
      " Reading I135 from /home/rodrigo/opt/openmc_data/endfb80/I135.h5\n",
      " Reading Xe128 from /home/rodrigo/opt/openmc_data/endfb80/Xe128.h5\n"
     ]
    },
    {
     "name": "stderr",
     "output_type": "stream",
     "text": [
      " WARNING: Negative value(s) found on probability table for nuclide I131 at 250K\n",
      " WARNING: Negative value(s) found on probability table for nuclide I131 at 294K\n",
      " WARNING: Negative value(s) found on probability table for nuclide I131 at 600K\n",
      " WARNING: Negative value(s) found on probability table for nuclide I131 at 900K\n",
      " WARNING: Negative value(s) found on probability table for nuclide I131 at 1200K\n",
      " WARNING: Negative value(s) found on probability table for nuclide I131 at 2500K\n"
     ]
    },
    {
     "name": "stdout",
     "output_type": "stream",
     "text": [
      " Reading Xe130 from /home/rodrigo/opt/openmc_data/endfb80/Xe130.h5\n",
      " Reading Xe131 from /home/rodrigo/opt/openmc_data/endfb80/Xe131.h5\n",
      " Reading Xe132 from /home/rodrigo/opt/openmc_data/endfb80/Xe132.h5\n",
      " Reading Xe133 from /home/rodrigo/opt/openmc_data/endfb80/Xe133.h5\n",
      " Reading Xe134 from /home/rodrigo/opt/openmc_data/endfb80/Xe134.h5\n",
      " Reading Xe135 from /home/rodrigo/opt/openmc_data/endfb80/Xe135.h5\n",
      " Reading Xe136 from /home/rodrigo/opt/openmc_data/endfb80/Xe136.h5\n",
      " Reading Cs133 from /home/rodrigo/opt/openmc_data/endfb80/Cs133.h5\n"
     ]
    },
    {
     "name": "stderr",
     "output_type": "stream",
     "text": [
      " WARNING: Negative value(s) found on probability table for nuclide Xe133 at\n",
      "          2500K\n",
      " WARNING: Negative value(s) found on probability table for nuclide Cs136 at 250K\n",
      " WARNING: Negative value(s) found on probability table for nuclide Cs136 at 294K\n",
      " WARNING: Negative value(s) found on probability table for nuclide Cs136 at 600K\n",
      " WARNING: Negative value(s) found on probability table for nuclide Cs136 at 900K\n",
      " WARNING: Negative value(s) found on probability table for nuclide Cs136 at\n",
      "          1200K\n",
      " WARNING: Negative value(s) found on probability table for nuclide Cs136 at\n",
      "          2500K\n"
     ]
    },
    {
     "name": "stdout",
     "output_type": "stream",
     "text": [
      " Reading Cs134 from /home/rodrigo/opt/openmc_data/endfb80/Cs134.h5\n",
      " Reading Cs135 from /home/rodrigo/opt/openmc_data/endfb80/Cs135.h5\n",
      " Reading Cs136 from /home/rodrigo/opt/openmc_data/endfb80/Cs136.h5\n",
      " Reading Cs137 from /home/rodrigo/opt/openmc_data/endfb80/Cs137.h5\n",
      " Reading Ba134 from /home/rodrigo/opt/openmc_data/endfb80/Ba134.h5\n",
      " Reading Ba137 from /home/rodrigo/opt/openmc_data/endfb80/Ba137.h5\n",
      " Reading Ba140 from /home/rodrigo/opt/openmc_data/endfb80/Ba140.h5\n",
      " Reading La139 from /home/rodrigo/opt/openmc_data/endfb80/La139.h5\n",
      " Reading La140 from /home/rodrigo/opt/openmc_data/endfb80/La140.h5\n",
      " Reading Ce140 from /home/rodrigo/opt/openmc_data/endfb80/Ce140.h5\n",
      " Reading Ce141 from /home/rodrigo/opt/openmc_data/endfb80/Ce141.h5\n",
      " Reading Ce142 from /home/rodrigo/opt/openmc_data/endfb80/Ce142.h5\n",
      " Reading Ce143 from /home/rodrigo/opt/openmc_data/endfb80/Ce143.h5\n",
      " Reading Ce144 from /home/rodrigo/opt/openmc_data/endfb80/Ce144.h5\n",
      " Reading Pr141 from /home/rodrigo/opt/openmc_data/endfb80/Pr141.h5\n",
      " Reading Pr142 from /home/rodrigo/opt/openmc_data/endfb80/Pr142.h5\n",
      " Reading Pr143 from /home/rodrigo/opt/openmc_data/endfb80/Pr143.h5\n",
      " Reading Nd142 from /home/rodrigo/opt/openmc_data/endfb80/Nd142.h5\n",
      " Reading Nd143 from /home/rodrigo/opt/openmc_data/endfb80/Nd143.h5\n",
      " Reading Nd144 from /home/rodrigo/opt/openmc_data/endfb80/Nd144.h5\n",
      " Reading Nd145 from /home/rodrigo/opt/openmc_data/endfb80/Nd145.h5\n",
      " Reading Nd146 from /home/rodrigo/opt/openmc_data/endfb80/Nd146.h5\n",
      " Reading Nd147 from /home/rodrigo/opt/openmc_data/endfb80/Nd147.h5\n",
      " Reading Nd148 from /home/rodrigo/opt/openmc_data/endfb80/Nd148.h5\n",
      " Reading Nd149 from /home/rodrigo/opt/openmc_data/endfb80/Nd149.h5\n",
      " Reading Nd150 from /home/rodrigo/opt/openmc_data/endfb80/Nd150.h5\n",
      " Reading Pm147 from /home/rodrigo/opt/openmc_data/endfb80/Pm147.h5\n",
      " Reading Pm148 from /home/rodrigo/opt/openmc_data/endfb80/Pm148.h5\n",
      " Reading Pm148_m1 from /home/rodrigo/opt/openmc_data/endfb80/Pm148_m1.h5\n",
      " Reading Pm149 from /home/rodrigo/opt/openmc_data/endfb80/Pm149.h5\n",
      " Reading Pm150 from /home/rodrigo/opt/openmc_data/endfb80/Pm150.h5\n",
      " Reading Pm151 from /home/rodrigo/opt/openmc_data/endfb80/Pm151.h5\n",
      " Reading Sm147 from /home/rodrigo/opt/openmc_data/endfb80/Sm147.h5\n",
      " Reading Sm148 from /home/rodrigo/opt/openmc_data/endfb80/Sm148.h5\n",
      " Reading Sm149 from /home/rodrigo/opt/openmc_data/endfb80/Sm149.h5\n",
      " Reading Sm150 from /home/rodrigo/opt/openmc_data/endfb80/Sm150.h5\n",
      " Reading Sm151 from /home/rodrigo/opt/openmc_data/endfb80/Sm151.h5\n",
      " Reading Sm152 from /home/rodrigo/opt/openmc_data/endfb80/Sm152.h5\n",
      " Reading Sm153 from /home/rodrigo/opt/openmc_data/endfb80/Sm153.h5\n",
      " Reading Sm154 from /home/rodrigo/opt/openmc_data/endfb80/Sm154.h5\n",
      " Reading Eu151 from /home/rodrigo/opt/openmc_data/endfb80/Eu151.h5\n",
      " Reading Eu152 from /home/rodrigo/opt/openmc_data/endfb80/Eu152.h5\n",
      " Reading Eu153 from /home/rodrigo/opt/openmc_data/endfb80/Eu153.h5\n",
      " Reading Eu154 from /home/rodrigo/opt/openmc_data/endfb80/Eu154.h5\n",
      " Reading Eu155 from /home/rodrigo/opt/openmc_data/endfb80/Eu155.h5\n",
      " Reading Eu156 from /home/rodrigo/opt/openmc_data/endfb80/Eu156.h5\n",
      " Reading Eu157 from /home/rodrigo/opt/openmc_data/endfb80/Eu157.h5\n",
      " Reading Gd152 from /home/rodrigo/opt/openmc_data/endfb80/Gd152.h5\n"
     ]
    },
    {
     "name": "stderr",
     "output_type": "stream",
     "text": [
      " WARNING: Negative value(s) found on probability table for nuclide Eu156 at 250K\n",
      " WARNING: Negative value(s) found on probability table for nuclide Eu156 at 294K\n",
      " WARNING: Negative value(s) found on probability table for nuclide Eu156 at 600K\n",
      " WARNING: Negative value(s) found on probability table for nuclide Eu156 at 900K\n",
      " WARNING: Negative value(s) found on probability table for nuclide Eu156 at\n",
      "          1200K\n",
      " WARNING: Negative value(s) found on probability table for nuclide Eu156 at\n",
      "          2500K\n"
     ]
    },
    {
     "name": "stdout",
     "output_type": "stream",
     "text": [
      " Reading Gd154 from /home/rodrigo/opt/openmc_data/endfb80/Gd154.h5\n",
      " Reading Gd155 from /home/rodrigo/opt/openmc_data/endfb80/Gd155.h5\n",
      " Reading Gd156 from /home/rodrigo/opt/openmc_data/endfb80/Gd156.h5\n",
      " Reading Gd157 from /home/rodrigo/opt/openmc_data/endfb80/Gd157.h5\n",
      " Reading Gd158 from /home/rodrigo/opt/openmc_data/endfb80/Gd158.h5\n",
      " Reading Gd159 from /home/rodrigo/opt/openmc_data/endfb80/Gd159.h5\n",
      " Reading Gd160 from /home/rodrigo/opt/openmc_data/endfb80/Gd160.h5\n",
      " Reading Tb159 from /home/rodrigo/opt/openmc_data/endfb80/Tb159.h5\n",
      " Reading Tb160 from /home/rodrigo/opt/openmc_data/endfb80/Tb160.h5\n",
      " Reading Tb161 from /home/rodrigo/opt/openmc_data/endfb80/Tb161.h5\n",
      " Reading Dy160 from /home/rodrigo/opt/openmc_data/endfb80/Dy160.h5\n",
      " Reading Dy161 from /home/rodrigo/opt/openmc_data/endfb80/Dy161.h5\n",
      " Reading Dy162 from /home/rodrigo/opt/openmc_data/endfb80/Dy162.h5\n",
      " Reading Dy163 from /home/rodrigo/opt/openmc_data/endfb80/Dy163.h5\n",
      " Reading Dy164 from /home/rodrigo/opt/openmc_data/endfb80/Dy164.h5\n",
      " Reading Ho165 from /home/rodrigo/opt/openmc_data/endfb80/Ho165.h5\n",
      " Reading Er162 from /home/rodrigo/opt/openmc_data/endfb80/Er162.h5\n",
      " Reading Er164 from /home/rodrigo/opt/openmc_data/endfb80/Er164.h5\n",
      " Reading Er166 from /home/rodrigo/opt/openmc_data/endfb80/Er166.h5\n",
      " Reading Er167 from /home/rodrigo/opt/openmc_data/endfb80/Er167.h5\n",
      " Reading Er168 from /home/rodrigo/opt/openmc_data/endfb80/Er168.h5\n",
      " Reading Er169 from /home/rodrigo/opt/openmc_data/endfb80/Er169.h5\n",
      " Reading Er170 from /home/rodrigo/opt/openmc_data/endfb80/Er170.h5\n",
      " Reading Tm169 from /home/rodrigo/opt/openmc_data/endfb80/Tm169.h5\n",
      " Reading Tm170 from /home/rodrigo/opt/openmc_data/endfb80/Tm170.h5\n",
      " Reading Tm171 from /home/rodrigo/opt/openmc_data/endfb80/Tm171.h5\n",
      " Reading Hf174 from /home/rodrigo/opt/openmc_data/endfb80/Hf174.h5\n",
      " Reading Hf176 from /home/rodrigo/opt/openmc_data/endfb80/Hf176.h5\n",
      " Reading Hf177 from /home/rodrigo/opt/openmc_data/endfb80/Hf177.h5\n",
      " Reading Hf178 from /home/rodrigo/opt/openmc_data/endfb80/Hf178.h5\n",
      " Reading Hf179 from /home/rodrigo/opt/openmc_data/endfb80/Hf179.h5\n",
      " Reading Hf180 from /home/rodrigo/opt/openmc_data/endfb80/Hf180.h5\n",
      " Reading Hf181 from /home/rodrigo/opt/openmc_data/endfb80/Hf181.h5\n",
      " Reading Ta181 from /home/rodrigo/opt/openmc_data/endfb80/Ta181.h5\n",
      " Reading Ta182 from /home/rodrigo/opt/openmc_data/endfb80/Ta182.h5\n",
      " Reading Th230 from /home/rodrigo/opt/openmc_data/endfb80/Th230.h5\n",
      " Reading Th231 from /home/rodrigo/opt/openmc_data/endfb80/Th231.h5\n"
     ]
    },
    {
     "name": "stderr",
     "output_type": "stream",
     "text": [
      " WARNING: Negative value(s) found on probability table for nuclide Hf181 at 250K\n",
      " WARNING: Negative value(s) found on probability table for nuclide Hf181 at 294K\n",
      " WARNING: Negative value(s) found on probability table for nuclide Hf181 at 600K\n",
      " WARNING: Negative value(s) found on probability table for nuclide Hf181 at 900K\n",
      " WARNING: Negative value(s) found on probability table for nuclide Hf181 at\n",
      "          1200K\n",
      " WARNING: Negative value(s) found on probability table for nuclide Hf181 at\n",
      "          2500K\n"
     ]
    },
    {
     "name": "stdout",
     "output_type": "stream",
     "text": [
      " Reading Th232 from /home/rodrigo/opt/openmc_data/endfb80/Th232.h5\n",
      " Reading Th233 from /home/rodrigo/opt/openmc_data/endfb80/Th233.h5\n",
      " Reading Th234 from /home/rodrigo/opt/openmc_data/endfb80/Th234.h5\n",
      " Reading Pa231 from /home/rodrigo/opt/openmc_data/endfb80/Pa231.h5\n",
      " Reading Pa232 from /home/rodrigo/opt/openmc_data/endfb80/Pa232.h5\n",
      " Reading Pa233 from /home/rodrigo/opt/openmc_data/endfb80/Pa233.h5\n",
      " Reading U232 from /home/rodrigo/opt/openmc_data/endfb80/U232.h5\n",
      " Reading U233 from /home/rodrigo/opt/openmc_data/endfb80/U233.h5\n",
      " Reading U237 from /home/rodrigo/opt/openmc_data/endfb80/U237.h5\n",
      " Reading U239 from /home/rodrigo/opt/openmc_data/endfb80/U239.h5\n",
      " Reading Np236 from /home/rodrigo/opt/openmc_data/endfb80/Np236.h5\n",
      " Reading Np237 from /home/rodrigo/opt/openmc_data/endfb80/Np237.h5\n",
      " Reading Np238 from /home/rodrigo/opt/openmc_data/endfb80/Np238.h5\n",
      " Reading Np239 from /home/rodrigo/opt/openmc_data/endfb80/Np239.h5\n",
      " Reading Pu236 from /home/rodrigo/opt/openmc_data/endfb80/Pu236.h5\n",
      " Reading Pu237 from /home/rodrigo/opt/openmc_data/endfb80/Pu237.h5\n",
      " Reading Pu238 from /home/rodrigo/opt/openmc_data/endfb80/Pu238.h5\n",
      " Reading Pu239 from /home/rodrigo/opt/openmc_data/endfb80/Pu239.h5\n",
      " Reading Pu240 from /home/rodrigo/opt/openmc_data/endfb80/Pu240.h5\n",
      " Reading Pu241 from /home/rodrigo/opt/openmc_data/endfb80/Pu241.h5\n",
      " Reading Pu242 from /home/rodrigo/opt/openmc_data/endfb80/Pu242.h5\n",
      " Reading Pu243 from /home/rodrigo/opt/openmc_data/endfb80/Pu243.h5\n",
      " Reading Am241 from /home/rodrigo/opt/openmc_data/endfb80/Am241.h5\n",
      " Reading Am242 from /home/rodrigo/opt/openmc_data/endfb80/Am242.h5\n",
      " Reading Am242_m1 from /home/rodrigo/opt/openmc_data/endfb80/Am242_m1.h5\n",
      " Reading Am243 from /home/rodrigo/opt/openmc_data/endfb80/Am243.h5\n",
      " Reading Am244 from /home/rodrigo/opt/openmc_data/endfb80/Am244.h5\n",
      " Reading Am244_m1 from /home/rodrigo/opt/openmc_data/endfb80/Am244_m1.h5\n",
      " Reading Cm242 from /home/rodrigo/opt/openmc_data/endfb80/Cm242.h5\n",
      " Reading Cm243 from /home/rodrigo/opt/openmc_data/endfb80/Cm243.h5\n",
      " Reading Cm244 from /home/rodrigo/opt/openmc_data/endfb80/Cm244.h5\n",
      " Reading Cm245 from /home/rodrigo/opt/openmc_data/endfb80/Cm245.h5\n",
      " Reading Cm246 from /home/rodrigo/opt/openmc_data/endfb80/Cm246.h5\n",
      " Maximum neutron transport energy: 20000000 eV for O17\n",
      " Initializing source particles...\n",
      "\n",
      " ====================>     K EIGENVALUE SIMULATION     <====================\n",
      "\n",
      "  Bat./Gen.      k            Average k\n",
      "  =========   ========   ====================\n",
      "        1/1    1.53364\n",
      "        2/1    1.46598\n",
      "        3/1    1.39536\n",
      "        4/1    1.45106\n",
      "        5/1    1.49583\n",
      "        6/1    1.60777\n",
      "        7/1    1.44934\n",
      "        8/1    1.42972\n",
      "        9/1    1.47912\n",
      "       10/1    1.52220\n",
      "       11/1    1.45958\n",
      "       12/1    1.41106    1.43532 +/- 0.02426\n",
      "       13/1    1.42763    1.43276 +/- 0.01424\n",
      "       14/1    1.46350    1.44044 +/- 0.01267\n",
      "       15/1    1.43577    1.43951 +/- 0.00986\n",
      "       16/1    1.45886    1.44273 +/- 0.00867\n",
      "       17/1    1.43936    1.44225 +/- 0.00734\n",
      "       18/1    1.36919    1.43312 +/- 0.01113\n",
      "       19/1    1.44387    1.43431 +/- 0.00989\n",
      "       20/1    1.37699    1.42858 +/- 0.01054\n",
      "       21/1    1.44295    1.42989 +/- 0.00962\n",
      "       22/1    1.43672    1.43046 +/- 0.00880\n",
      "       23/1    1.52652    1.43785 +/- 0.01096\n",
      "       24/1    1.48169    1.44098 +/- 0.01062\n",
      "       25/1    1.59302    1.45111 +/- 0.01416\n",
      "       26/1    1.45687    1.45147 +/- 0.01325\n",
      "       27/1    1.58728    1.45946 +/- 0.01479\n",
      "       28/1    1.45739    1.45935 +/- 0.01394\n",
      "       29/1    1.45584    1.45916 +/- 0.01319\n",
      "       30/1    1.48232    1.46032 +/- 0.01257\n",
      "       31/1    1.53220    1.46374 +/- 0.01243\n",
      "       32/1    1.40267    1.46097 +/- 0.01218\n",
      "       33/1    1.40735    1.45864 +/- 0.01187\n",
      "       34/1    1.41833    1.45696 +/- 0.01148\n",
      "       35/1    1.49634    1.45853 +/- 0.01113\n",
      "       36/1    1.56618    1.46267 +/- 0.01146\n",
      "       37/1    1.45942    1.46255 +/- 0.01103\n",
      "       38/1    1.49922    1.46386 +/- 0.01071\n",
      "       39/1    1.45845    1.46368 +/- 0.01034\n",
      "       40/1    1.34059    1.45957 +/- 0.01080\n",
      "       41/1    1.46427    1.45972 +/- 0.01044\n",
      "       42/1    1.47029    1.46005 +/- 0.01012\n",
      "       43/1    1.53583    1.46235 +/- 0.01007\n",
      "       44/1    1.43864    1.46165 +/- 0.00980\n",
      "       45/1    1.44798    1.46126 +/- 0.00952\n",
      "       46/1    1.47139    1.46154 +/- 0.00926\n",
      "       47/1    1.41241    1.46022 +/- 0.00910\n",
      "       48/1    1.47835    1.46069 +/- 0.00887\n",
      "       49/1    1.44266    1.46023 +/- 0.00865\n",
      "       50/1    1.49192    1.46102 +/- 0.00847\n",
      " Creating state point statepoint.50.h5...\n",
      "\n",
      " =======================>     TIMING STATISTICS     <=======================\n",
      "\n",
      " Total time for initialization     = 9.5621e-01 seconds\n",
      "   Reading cross sections          = 9.4042e-01 seconds\n",
      " Total time in simulation          = 2.6116e+00 seconds\n",
      "   Time in transport only          = 2.5536e+00 seconds\n",
      "   Time in inactive batches        = 2.8231e-01 seconds\n",
      "   Time in active batches          = 2.3293e+00 seconds\n",
      "   Time synchronizing fission bank = 3.0747e-03 seconds\n",
      "     Sampling source sites         = 2.4754e-03 seconds\n",
      "     SEND/RECV source sites        = 5.8243e-04 seconds\n",
      "   Time accumulating tallies       = 4.5149e-02 seconds\n",
      "   Time writing statepoints        = 2.3411e-03 seconds\n",
      " Total time for finalization       = 6.2140e-05 seconds\n",
      " Total time elapsed                = 3.7447e+00 seconds\n",
      " Calculation Rate (inactive)       = 35421.9 particles/second\n",
      " Calculation Rate (active)         = 17172.3 particles/second\n",
      "\n",
      " ============================>     RESULTS     <============================\n",
      "\n",
      " k-effective (Collision)     = 1.46223 +/- 0.00649\n",
      " k-effective (Track-length)  = 1.46102 +/- 0.00847\n",
      " k-effective (Absorption)    = 1.46026 +/- 0.00431\n",
      " Combined k-effective        = 1.46087 +/- 0.00389\n",
      " Leakage Fraction            = 0.00000 +/- 0.00000\n",
      "\n",
      " Creating state point openmc_simulation_n0.h5...\n",
      " Maximum neutron transport energy: 20000000 eV for O17\n",
      " Initializing source particles...\n",
      "\n",
      " ====================>     K EIGENVALUE SIMULATION     <====================\n",
      "\n",
      "  Bat./Gen.      k            Average k\n",
      "  =========   ========   ====================\n",
      "        1/1    1.34436\n",
      "        2/1    1.35264\n",
      "        3/1    1.34737\n",
      "        4/1    1.39282\n",
      "        5/1    1.38597\n",
      "        6/1    1.35484\n",
      "        7/1    1.33709\n",
      "        8/1    1.42241\n",
      "        9/1    1.34583\n",
      "       10/1    1.42027\n",
      "       11/1    1.29309\n",
      "       12/1    1.39642    1.34475 +/- 0.05167\n",
      "       13/1    1.35594    1.34848 +/- 0.03006\n",
      "       14/1    1.47410    1.37989 +/- 0.03792\n",
      "       15/1    1.44021    1.39195 +/- 0.03175\n",
      "       16/1    1.50268    1.41041 +/- 0.03182\n",
      "       17/1    1.39005    1.40750 +/- 0.02705\n",
      "       18/1    1.47520    1.41596 +/- 0.02491\n",
      "       19/1    1.43466    1.41804 +/- 0.02207\n",
      "       20/1    1.41305    1.41754 +/- 0.01974\n",
      "       21/1    1.30909    1.40768 +/- 0.02040\n",
      "       22/1    1.43990    1.41037 +/- 0.01881\n",
      "       23/1    1.42237    1.41129 +/- 0.01733\n",
      "       24/1    1.38430    1.40936 +/- 0.01616\n",
      "       25/1    1.40351    1.40897 +/- 0.01505\n",
      "       26/1    1.48536    1.41374 +/- 0.01487\n",
      "       27/1    1.42159    1.41421 +/- 0.01397\n",
      "       28/1    1.40742    1.41383 +/- 0.01318\n",
      "       29/1    1.38960    1.41255 +/- 0.01253\n",
      "       30/1    1.49621    1.41674 +/- 0.01260\n",
      "       31/1    1.39355    1.41563 +/- 0.01204\n",
      "       32/1    1.30275    1.41050 +/- 0.01257\n",
      "       33/1    1.33069    1.40703 +/- 0.01250\n",
      "       34/1    1.38856    1.40626 +/- 0.01200\n",
      "       35/1    1.40812    1.40634 +/- 0.01151\n",
      "       36/1    1.36428    1.40472 +/- 0.01117\n",
      "       37/1    1.34141    1.40237 +/- 0.01100\n",
      "       38/1    1.35835    1.40080 +/- 0.01072\n",
      "       39/1    1.39936    1.40075 +/- 0.01034\n",
      "       40/1    1.41583    1.40125 +/- 0.01001\n",
      "       41/1    1.39737    1.40113 +/- 0.00968\n",
      "       42/1    1.51227    1.40460 +/- 0.00999\n",
      "       43/1    1.30380    1.40155 +/- 0.01016\n",
      "       44/1    1.39090    1.40123 +/- 0.00986\n",
      "       45/1    1.50228    1.40412 +/- 0.01000\n",
      "       46/1    1.38275    1.40353 +/- 0.00973\n",
      "       47/1    1.35157    1.40212 +/- 0.00957\n",
      "       48/1    1.40832    1.40229 +/- 0.00932\n",
      "       49/1    1.43576    1.40315 +/- 0.00912\n",
      "       50/1    1.43268    1.40388 +/- 0.00892\n",
      " Creating state point statepoint.50.h5...\n",
      "\n",
      " =======================>     TIMING STATISTICS     <=======================\n",
      "\n",
      " Total time for initialization     = 0.0000e+00 seconds\n",
      "   Reading cross sections          = 0.0000e+00 seconds\n",
      " Total time in simulation          = 2.7319e+00 seconds\n",
      "   Time in transport only          = 2.6873e+00 seconds\n",
      "   Time in inactive batches        = 3.1423e-01 seconds\n",
      "   Time in active batches          = 2.4177e+00 seconds\n",
      "   Time synchronizing fission bank = 2.9817e-03 seconds\n",
      "     Sampling source sites         = 2.3721e-03 seconds\n",
      "     SEND/RECV source sites        = 5.8995e-04 seconds\n",
      "   Time accumulating tallies       = 3.1498e-02 seconds\n",
      "   Time writing statepoints        = 4.1447e-03 seconds\n",
      " Total time for finalization       = 5.9130e-05 seconds\n",
      " Total time elapsed                = 2.9086e+00 seconds\n",
      " Calculation Rate (inactive)       = 31824.1 particles/second\n",
      " Calculation Rate (active)         = 16544.7 particles/second\n",
      "\n",
      " ============================>     RESULTS     <============================\n",
      "\n",
      " k-effective (Collision)     = 1.39713 +/- 0.00607\n",
      " k-effective (Track-length)  = 1.40388 +/- 0.00892\n",
      " k-effective (Absorption)    = 1.39988 +/- 0.00490\n",
      " Combined k-effective        = 1.39765 +/- 0.00461\n",
      " Leakage Fraction            = 0.00000 +/- 0.00000\n",
      "\n",
      " Creating state point openmc_simulation_n1.h5...\n",
      " Maximum neutron transport energy: 20000000 eV for O17\n",
      " Initializing source particles...\n",
      "\n",
      " ====================>     K EIGENVALUE SIMULATION     <====================\n",
      "\n",
      "  Bat./Gen.      k            Average k\n",
      "  =========   ========   ====================\n",
      "        1/1    1.32029\n",
      "        2/1    1.39870\n",
      "        3/1    1.36054\n",
      "        4/1    1.41028\n",
      "        5/1    1.39929\n",
      "        6/1    1.43712\n",
      "        7/1    1.34945\n",
      "        8/1    1.33041\n",
      "        9/1    1.45587\n",
      "       10/1    1.36934\n",
      "       11/1    1.39031\n",
      "       12/1    1.34432    1.36732 +/- 0.02300\n",
      "       13/1    1.43457    1.38973 +/- 0.02606\n",
      "       14/1    1.25270    1.35548 +/- 0.03890\n",
      "       15/1    1.40070    1.36452 +/- 0.03146\n",
      "       16/1    1.39041    1.36883 +/- 0.02605\n",
      "       17/1    1.37347    1.36950 +/- 0.02202\n",
      "       18/1    1.47494    1.38268 +/- 0.02318\n",
      "       19/1    1.31018    1.37462 +/- 0.02198\n",
      "       20/1    1.40204    1.37736 +/- 0.01985\n",
      "       21/1    1.33295    1.37333 +/- 0.01840\n",
      "       22/1    1.29007    1.36639 +/- 0.01817\n",
      "       23/1    1.35862    1.36579 +/- 0.01673\n",
      "       24/1    1.29167    1.36050 +/- 0.01637\n",
      "       25/1    1.31290    1.35732 +/- 0.01556\n",
      "       26/1    1.39830    1.35988 +/- 0.01478\n",
      "       27/1    1.36612    1.36025 +/- 0.01389\n",
      "       28/1    1.41429    1.36325 +/- 0.01344\n",
      "       29/1    1.46455    1.36858 +/- 0.01378\n",
      "       30/1    1.44838    1.37257 +/- 0.01367\n",
      "       31/1    1.45261    1.37639 +/- 0.01355\n",
      "       32/1    1.38918    1.37697 +/- 0.01293\n",
      "       33/1    1.28639    1.37303 +/- 0.01297\n",
      "       34/1    1.43174    1.37548 +/- 0.01266\n",
      "       35/1    1.34081    1.37409 +/- 0.01222\n",
      "       36/1    1.36319    1.37367 +/- 0.01175\n",
      "       37/1    1.41612    1.37524 +/- 0.01141\n",
      "       38/1    1.34584    1.37419 +/- 0.01105\n",
      "       39/1    1.38940    1.37472 +/- 0.01067\n",
      "       40/1    1.36686    1.37445 +/- 0.01031\n",
      "       41/1    1.31882    1.37266 +/- 0.01014\n",
      "       42/1    1.28175    1.36982 +/- 0.01022\n",
      "       43/1    1.33159    1.36866 +/- 0.00997\n",
      "       44/1    1.42786    1.37040 +/- 0.00983\n",
      "       45/1    1.45563    1.37284 +/- 0.00985\n",
      "       46/1    1.34899    1.37217 +/- 0.00959\n",
      "       47/1    1.35960    1.37183 +/- 0.00934\n",
      "       48/1    1.37921    1.37203 +/- 0.00909\n",
      "       49/1    1.36617    1.37188 +/- 0.00885\n",
      "       50/1    1.45970    1.37407 +/- 0.00891\n",
      " Creating state point statepoint.50.h5...\n",
      "\n",
      " =======================>     TIMING STATISTICS     <=======================\n",
      "\n",
      " Total time for initialization     = 0.0000e+00 seconds\n",
      "   Reading cross sections          = 0.0000e+00 seconds\n",
      " Total time in simulation          = 2.7104e+00 seconds\n",
      "   Time in transport only          = 2.6613e+00 seconds\n",
      "   Time in inactive batches        = 3.1143e-01 seconds\n",
      "   Time in active batches          = 2.3990e+00 seconds\n",
      "   Time synchronizing fission bank = 3.0617e-03 seconds\n",
      "     Sampling source sites         = 2.4504e-03 seconds\n",
      "     SEND/RECV source sites        = 5.9323e-04 seconds\n",
      "   Time accumulating tallies       = 2.2996e-02 seconds\n",
      "   Time writing statepoints        = 4.7633e-03 seconds\n",
      " Total time for finalization       = 5.8400e-05 seconds\n",
      " Total time elapsed                = 2.8893e+00 seconds\n",
      " Calculation Rate (inactive)       = 32110 particles/second\n",
      " Calculation Rate (active)         = 16673.6 particles/second\n",
      "\n",
      " ============================>     RESULTS     <============================\n",
      "\n",
      " k-effective (Collision)     = 1.37957 +/- 0.00679\n",
      " k-effective (Track-length)  = 1.37407 +/- 0.00891\n",
      " k-effective (Absorption)    = 1.38674 +/- 0.00478\n",
      " Combined k-effective        = 1.38599 +/- 0.00458\n",
      " Leakage Fraction            = 0.00000 +/- 0.00000\n",
      "\n",
      " Creating state point openmc_simulation_n2.h5...\n",
      " Maximum neutron transport energy: 20000000 eV for O17\n",
      " Initializing source particles...\n",
      "\n",
      " ====================>     K EIGENVALUE SIMULATION     <====================\n",
      "\n",
      "  Bat./Gen.      k            Average k\n",
      "  =========   ========   ====================\n",
      "        1/1    1.37322\n",
      "        2/1    1.42731\n",
      "        3/1    1.40295\n",
      "        4/1    1.40996\n",
      "        5/1    1.35570\n",
      "        6/1    1.42832\n",
      "        7/1    1.40382\n",
      "        8/1    1.27102\n",
      "        9/1    1.42615\n",
      "       10/1    1.36739\n",
      "       11/1    1.47775\n",
      "       12/1    1.38759    1.43267 +/- 0.04508\n",
      "       13/1    1.33043    1.39859 +/- 0.04288\n",
      "       14/1    1.30106    1.37421 +/- 0.03891\n",
      "       15/1    1.34353    1.36807 +/- 0.03076\n",
      "       16/1    1.35312    1.36558 +/- 0.02524\n",
      "       17/1    1.39935    1.37040 +/- 0.02187\n",
      "       18/1    1.33722    1.36626 +/- 0.01939\n",
      "       19/1    1.34527    1.36392 +/- 0.01726\n",
      "       20/1    1.39222    1.36675 +/- 0.01569\n",
      "       21/1    1.45399    1.37468 +/- 0.01626\n",
      "       22/1    1.33830    1.37165 +/- 0.01515\n",
      "       23/1    1.38108    1.37238 +/- 0.01395\n",
      "       24/1    1.34034    1.37009 +/- 0.01312\n",
      "       25/1    1.42128    1.37350 +/- 0.01268\n",
      "       26/1    1.33137    1.37087 +/- 0.01215\n",
      "       27/1    1.32302    1.36805 +/- 0.01176\n",
      "       28/1    1.34784    1.36693 +/- 0.01114\n",
      "       29/1    1.45842    1.37175 +/- 0.01159\n",
      "       30/1    1.31212    1.36876 +/- 0.01139\n",
      "       31/1    1.45673    1.37295 +/- 0.01161\n",
      "       32/1    1.36724    1.37269 +/- 0.01108\n",
      "       33/1    1.35401    1.37188 +/- 0.01062\n",
      "       34/1    1.40501    1.37326 +/- 0.01026\n",
      "       35/1    1.31684    1.37100 +/- 0.01009\n",
      "       36/1    1.36325    1.37071 +/- 0.00970\n",
      "       37/1    1.43035    1.37292 +/- 0.00959\n",
      "       38/1    1.26209    1.36896 +/- 0.01006\n",
      "       39/1    1.35777    1.36857 +/- 0.00971\n",
      "       40/1    1.35685    1.36818 +/- 0.00939\n",
      "       41/1    1.32751    1.36687 +/- 0.00918\n",
      "       42/1    1.23843    1.36285 +/- 0.00975\n",
      "       43/1    1.31748    1.36148 +/- 0.00955\n",
      "       44/1    1.30593    1.35985 +/- 0.00941\n",
      "       45/1    1.37255    1.36021 +/- 0.00914\n",
      "       46/1    1.39946    1.36130 +/- 0.00895\n",
      "       47/1    1.42675    1.36307 +/- 0.00888\n",
      "       48/1    1.40887    1.36427 +/- 0.00873\n",
      "       49/1    1.46437    1.36684 +/- 0.00888\n",
      "       50/1    1.45156    1.36896 +/- 0.00891\n",
      " Creating state point statepoint.50.h5...\n",
      "\n",
      " =======================>     TIMING STATISTICS     <=======================\n",
      "\n",
      " Total time for initialization     = 0.0000e+00 seconds\n",
      "   Reading cross sections          = 0.0000e+00 seconds\n",
      " Total time in simulation          = 2.7090e+00 seconds\n",
      "   Time in transport only          = 2.6629e+00 seconds\n",
      "   Time in inactive batches        = 3.4383e-01 seconds\n",
      "   Time in active batches          = 2.3651e+00 seconds\n",
      "   Time synchronizing fission bank = 3.0664e-03 seconds\n",
      "     Sampling source sites         = 2.4701e-03 seconds\n",
      "     SEND/RECV source sites        = 5.7872e-04 seconds\n",
      "   Time accumulating tallies       = 3.1174e-02 seconds\n",
      "   Time writing statepoints        = 4.7173e-03 seconds\n",
      " Total time for finalization       = 5.9280e-05 seconds\n",
      " Total time elapsed                = 2.8961e+00 seconds\n",
      " Calculation Rate (inactive)       = 29083.8 particles/second\n",
      " Calculation Rate (active)         = 16912.5 particles/second\n",
      "\n",
      " ============================>     RESULTS     <============================\n",
      "\n",
      " k-effective (Collision)     = 1.37204 +/- 0.00618\n",
      " k-effective (Track-length)  = 1.36896 +/- 0.00891\n",
      " k-effective (Absorption)    = 1.37818 +/- 0.00558\n",
      " Combined k-effective        = 1.37571 +/- 0.00514\n",
      " Leakage Fraction            = 0.00000 +/- 0.00000\n",
      "\n",
      " Creating state point openmc_simulation_n3.h5...\n",
      " Maximum neutron transport energy: 20000000 eV for O17\n",
      " Initializing source particles...\n",
      "\n",
      " ====================>     K EIGENVALUE SIMULATION     <====================\n",
      "\n",
      "  Bat./Gen.      k            Average k\n",
      "  =========   ========   ====================\n",
      "        1/1    1.34690\n",
      "        2/1    1.30492\n",
      "        3/1    1.34313\n",
      "        4/1    1.35908\n",
      "        5/1    1.31559\n",
      "        6/1    1.23405\n",
      "        7/1    1.36504\n",
      "        8/1    1.35390\n",
      "        9/1    1.34321\n",
      "       10/1    1.34062\n",
      "       11/1    1.36212\n",
      "       12/1    1.38881    1.37546 +/- 0.01335\n",
      "       13/1    1.24963    1.33352 +/- 0.04265\n",
      "       14/1    1.32086    1.33036 +/- 0.03032\n",
      "       15/1    1.34173    1.33263 +/- 0.02360\n",
      "       16/1    1.43757    1.35012 +/- 0.02602\n",
      "       17/1    1.39632    1.35672 +/- 0.02296\n",
      "       18/1    1.35630    1.35667 +/- 0.01988\n",
      "       19/1    1.39526    1.36096 +/- 0.01805\n",
      "       20/1    1.43320    1.36818 +/- 0.01769\n",
      "       21/1    1.36601    1.36798 +/- 0.01600\n",
      "       22/1    1.37995    1.36898 +/- 0.01464\n",
      "       23/1    1.33546    1.36640 +/- 0.01371\n",
      "       24/1    1.34148    1.36462 +/- 0.01282\n",
      "       25/1    1.39147    1.36641 +/- 0.01207\n",
      "       26/1    1.40563    1.36886 +/- 0.01155\n",
      "       27/1    1.34682    1.36757 +/- 0.01093\n",
      "       28/1    1.42218    1.37060 +/- 0.01074\n",
      "       29/1    1.33320    1.36863 +/- 0.01035\n",
      "       30/1    1.33511    1.36696 +/- 0.00996\n",
      "       31/1    1.44820    1.37082 +/- 0.01023\n",
      "       32/1    1.28218    1.36680 +/- 0.01056\n",
      "       33/1    1.29078    1.36349 +/- 0.01061\n",
      "       34/1    1.27350    1.35974 +/- 0.01083\n",
      "       35/1    1.31043    1.35777 +/- 0.01058\n",
      "       36/1    1.29117    1.35521 +/- 0.01048\n",
      "       37/1    1.32705    1.35416 +/- 0.01014\n",
      "       38/1    1.35554    1.35421 +/- 0.00977\n",
      "       39/1    1.41955    1.35647 +/- 0.00969\n",
      "       40/1    1.41475    1.35841 +/- 0.00956\n",
      "       41/1    1.33667    1.35771 +/- 0.00927\n",
      "       42/1    1.32026    1.35654 +/- 0.00906\n",
      "       43/1    1.40381    1.35797 +/- 0.00889\n",
      "       44/1    1.41081    1.35952 +/- 0.00877\n",
      "       45/1    1.29057    1.35755 +/- 0.00874\n",
      "       46/1    1.43125    1.35960 +/- 0.00873\n",
      "       47/1    1.38838    1.36038 +/- 0.00853\n",
      "       48/1    1.35977    1.36036 +/- 0.00830\n",
      "       49/1    1.39794    1.36133 +/- 0.00814\n",
      "       50/1    1.35329    1.36113 +/- 0.00794\n",
      " Creating state point statepoint.50.h5...\n",
      "\n",
      " =======================>     TIMING STATISTICS     <=======================\n",
      "\n",
      " Total time for initialization     = 0.0000e+00 seconds\n",
      "   Reading cross sections          = 0.0000e+00 seconds\n",
      " Total time in simulation          = 2.8619e+00 seconds\n",
      "   Time in transport only          = 2.8086e+00 seconds\n",
      "   Time in inactive batches        = 3.3192e-01 seconds\n",
      "   Time in active batches          = 2.5300e+00 seconds\n",
      "   Time synchronizing fission bank = 3.0770e-03 seconds\n",
      "     Sampling source sites         = 2.4816e-03 seconds\n",
      "     SEND/RECV source sites        = 5.7733e-04 seconds\n",
      "   Time accumulating tallies       = 3.4164e-02 seconds\n",
      "   Time writing statepoints        = 4.5974e-03 seconds\n",
      " Total time for finalization       = 5.7680e-05 seconds\n",
      " Total time elapsed                = 3.0447e+00 seconds\n",
      " Calculation Rate (inactive)       = 30127.7 particles/second\n",
      " Calculation Rate (active)         = 15810.2 particles/second\n",
      "\n",
      " ============================>     RESULTS     <============================\n",
      "\n",
      " k-effective (Collision)     = 1.36409 +/- 0.00620\n",
      " k-effective (Track-length)  = 1.36113 +/- 0.00794\n",
      " k-effective (Absorption)    = 1.36018 +/- 0.00438\n",
      " Combined k-effective        = 1.36151 +/- 0.00421\n",
      " Leakage Fraction            = 0.00000 +/- 0.00000\n",
      "\n",
      " Creating state point openmc_simulation_n4.h5...\n",
      " Maximum neutron transport energy: 20000000 eV for O17\n",
      " Initializing source particles...\n",
      "\n",
      " ====================>     K EIGENVALUE SIMULATION     <====================\n",
      "\n",
      "  Bat./Gen.      k            Average k\n",
      "  =========   ========   ====================\n",
      "        1/1    1.29150\n",
      "        2/1    1.36027\n",
      "        3/1    1.35246\n",
      "        4/1    1.36676\n",
      "        5/1    1.26536\n",
      "        6/1    1.31572\n",
      "        7/1    1.32342\n",
      "        8/1    1.37835\n",
      "        9/1    1.35463\n",
      "       10/1    1.28611\n",
      "       11/1    1.30078\n",
      "       12/1    1.35970    1.33024 +/- 0.02946\n",
      "       13/1    1.33467    1.33171 +/- 0.01707\n",
      "       14/1    1.38895    1.34602 +/- 0.01872\n",
      "       15/1    1.26066    1.32895 +/- 0.02240\n",
      "       16/1    1.33646    1.33020 +/- 0.01833\n",
      "       17/1    1.35418    1.33363 +/- 0.01587\n",
      "       18/1    1.31279    1.33102 +/- 0.01399\n",
      "       19/1    1.36018    1.33426 +/- 0.01275\n",
      "       20/1    1.30903    1.33174 +/- 0.01168\n",
      "       21/1    1.37228    1.33542 +/- 0.01119\n",
      "       22/1    1.25301    1.32856 +/- 0.01231\n",
      "       23/1    1.45350    1.33817 +/- 0.01485\n",
      "       24/1    1.40553    1.34298 +/- 0.01457\n",
      "       25/1    1.35023    1.34346 +/- 0.01357\n",
      "       26/1    1.42446    1.34853 +/- 0.01367\n",
      "       27/1    1.31676    1.34666 +/- 0.01297\n",
      "       28/1    1.37379    1.34816 +/- 0.01232\n",
      "       29/1    1.32755    1.34708 +/- 0.01171\n",
      "       30/1    1.33081    1.34627 +/- 0.01114\n",
      "       31/1    1.23819    1.34112 +/- 0.01178\n",
      "       32/1    1.43315    1.34530 +/- 0.01198\n",
      "       33/1    1.36264    1.34606 +/- 0.01147\n",
      "       34/1    1.30683    1.34442 +/- 0.01111\n",
      "       35/1    1.33460    1.34403 +/- 0.01066\n",
      "       36/1    1.35667    1.34452 +/- 0.01025\n",
      "       37/1    1.32554    1.34381 +/- 0.00989\n",
      "       38/1    1.28397    1.34168 +/- 0.00977\n",
      "       39/1    1.42547    1.34456 +/- 0.00986\n",
      "       40/1    1.32488    1.34391 +/- 0.00955\n",
      "       41/1    1.44794    1.34726 +/- 0.00982\n",
      "       42/1    1.33996    1.34704 +/- 0.00952\n",
      "       43/1    1.33749    1.34675 +/- 0.00923\n",
      "       44/1    1.40265    1.34839 +/- 0.00910\n",
      "       45/1    1.33698    1.34806 +/- 0.00884\n",
      "       46/1    1.38663    1.34914 +/- 0.00866\n",
      "       47/1    1.33010    1.34862 +/- 0.00844\n",
      "       48/1    1.35408    1.34877 +/- 0.00822\n",
      "       49/1    1.33891    1.34851 +/- 0.00801\n",
      "       50/1    1.35204    1.34860 +/- 0.00780\n",
      " Creating state point statepoint.50.h5...\n",
      "\n",
      " =======================>     TIMING STATISTICS     <=======================\n",
      "\n",
      " Total time for initialization     = 0.0000e+00 seconds\n",
      "   Reading cross sections          = 0.0000e+00 seconds\n",
      " Total time in simulation          = 2.6672e+00 seconds\n",
      "   Time in transport only          = 2.6151e+00 seconds\n",
      "   Time in inactive batches        = 2.9659e-01 seconds\n",
      "   Time in active batches          = 2.3706e+00 seconds\n",
      "   Time synchronizing fission bank = 3.0558e-03 seconds\n",
      "     Sampling source sites         = 2.4510e-03 seconds\n",
      "     SEND/RECV source sites        = 5.8662e-04 seconds\n",
      "   Time accumulating tallies       = 3.5132e-02 seconds\n",
      "   Time writing statepoints        = 4.7037e-03 seconds\n",
      " Total time for finalization       = 6.0121e-05 seconds\n",
      " Total time elapsed                = 2.8490e+00 seconds\n",
      " Calculation Rate (inactive)       = 33716.9 particles/second\n",
      " Calculation Rate (active)         = 16873.5 particles/second\n",
      "\n",
      " ============================>     RESULTS     <============================\n",
      "\n",
      " k-effective (Collision)     = 1.34895 +/- 0.00734\n",
      " k-effective (Track-length)  = 1.34860 +/- 0.00780\n",
      " k-effective (Absorption)    = 1.34987 +/- 0.00438\n",
      " Combined k-effective        = 1.34965 +/- 0.00417\n",
      " Leakage Fraction            = 0.00000 +/- 0.00000\n",
      "\n",
      " Creating state point openmc_simulation_n5.h5...\n",
      " Maximum neutron transport energy: 20000000 eV for O17\n",
      " Initializing source particles...\n",
      "\n",
      " ====================>     K EIGENVALUE SIMULATION     <====================\n",
      "\n",
      "  Bat./Gen.      k            Average k\n",
      "  =========   ========   ====================\n",
      "        1/1    1.24551\n",
      "        2/1    1.30517\n",
      "        3/1    1.36605\n",
      "        4/1    1.42097\n",
      "        5/1    1.32778\n",
      "        6/1    1.35098\n",
      "        7/1    1.43342\n",
      "        8/1    1.32755\n",
      "        9/1    1.40742\n",
      "       10/1    1.38616\n",
      "       11/1    1.27590\n",
      "       12/1    1.34389    1.30990 +/- 0.03399\n",
      "       13/1    1.29983    1.30654 +/- 0.01991\n",
      "       14/1    1.33998    1.31490 +/- 0.01637\n",
      "       15/1    1.27840    1.30760 +/- 0.01463\n",
      "       16/1    1.26330    1.30022 +/- 0.01405\n",
      "       17/1    1.30198    1.30047 +/- 0.01187\n",
      "       18/1    1.32782    1.30389 +/- 0.01084\n",
      "       19/1    1.29445    1.30284 +/- 0.00961\n",
      "       20/1    1.45200    1.31776 +/- 0.01722\n",
      "       21/1    1.31196    1.31723 +/- 0.01558\n",
      "       22/1    1.33356    1.31859 +/- 0.01429\n",
      "       23/1    1.32778    1.31930 +/- 0.01316\n",
      "       24/1    1.42020    1.32650 +/- 0.01416\n",
      "       25/1    1.33607    1.32714 +/- 0.01320\n",
      "       26/1    1.38982    1.33106 +/- 0.01295\n",
      "       27/1    1.31575    1.33016 +/- 0.01220\n",
      "       28/1    1.30441    1.32873 +/- 0.01159\n",
      "       29/1    1.29492    1.32695 +/- 0.01111\n",
      "       30/1    1.32577    1.32689 +/- 0.01054\n",
      "       31/1    1.36137    1.32853 +/- 0.01016\n",
      "       32/1    1.37697    1.33073 +/- 0.00993\n",
      "       33/1    1.35712    1.33188 +/- 0.00956\n",
      "       34/1    1.40234    1.33482 +/- 0.00961\n",
      "       35/1    1.27379    1.33238 +/- 0.00954\n",
      "       36/1    1.35465    1.33323 +/- 0.00920\n",
      "       37/1    1.38238    1.33505 +/- 0.00904\n",
      "       38/1    1.32896    1.33483 +/- 0.00871\n",
      "       39/1    1.31123    1.33402 +/- 0.00845\n",
      "       40/1    1.30173    1.33294 +/- 0.00823\n",
      "       41/1    1.37521    1.33431 +/- 0.00808\n",
      "       42/1    1.26820    1.33224 +/- 0.00809\n",
      "       43/1    1.34273    1.33256 +/- 0.00785\n",
      "       44/1    1.31542    1.33206 +/- 0.00763\n",
      "       45/1    1.38322    1.33352 +/- 0.00755\n",
      "       46/1    1.36731    1.33446 +/- 0.00740\n",
      "       47/1    1.28746    1.33319 +/- 0.00731\n",
      "       48/1    1.33886    1.33334 +/- 0.00711\n",
      "       49/1    1.32282    1.33307 +/- 0.00693\n",
      "       50/1    1.32663    1.33290 +/- 0.00676\n",
      " Creating state point statepoint.50.h5...\n",
      "\n",
      " =======================>     TIMING STATISTICS     <=======================\n",
      "\n",
      " Total time for initialization     = 0.0000e+00 seconds\n",
      "   Reading cross sections          = 0.0000e+00 seconds\n",
      " Total time in simulation          = 2.7036e+00 seconds\n",
      "   Time in transport only          = 2.6700e+00 seconds\n",
      "   Time in inactive batches        = 2.9496e-01 seconds\n",
      "   Time in active batches          = 2.4086e+00 seconds\n",
      "   Time synchronizing fission bank = 3.0808e-03 seconds\n",
      "     Sampling source sites         = 2.4700e-03 seconds\n",
      "     SEND/RECV source sites        = 5.9299e-04 seconds\n",
      "   Time accumulating tallies       = 2.0473e-02 seconds\n",
      "   Time writing statepoints        = 4.7371e-03 seconds\n",
      " Total time for finalization       = 5.9180e-05 seconds\n",
      " Total time elapsed                = 2.8835e+00 seconds\n",
      " Calculation Rate (inactive)       = 33902.9 particles/second\n",
      " Calculation Rate (active)         = 16607.1 particles/second\n",
      "\n",
      " ============================>     RESULTS     <============================\n",
      "\n",
      " k-effective (Collision)     = 1.33654 +/- 0.00631\n",
      " k-effective (Track-length)  = 1.33290 +/- 0.00676\n",
      " k-effective (Absorption)    = 1.33857 +/- 0.00458\n",
      " Combined k-effective        = 1.33714 +/- 0.00392\n",
      " Leakage Fraction            = 0.00000 +/- 0.00000\n",
      "\n",
      " Creating state point openmc_simulation_n6.h5...\n"
     ]
    }
   ],
   "source": [
    "integrator.integrate()"
   ]
  },
  {
   "cell_type": "markdown",
   "metadata": {
    "pycharm": {
     "name": "#%% md\n"
    }
   },
   "source": [
    "## Processing the outputs\n",
    "\n",
    "The depletion simulation produces a few output files. First, the statepoint files from each individual transport simulation are written to `openmc_simulation_n<N>.h5`, where `<N>` indicates the current depletion step. Any tallies that we defined in `tallies.xml` will be included in these files across our simulations. We have 7 such files, one for each our of 6 depletion steps and the initial state."
   ]
  },
  {
   "cell_type": "code",
   "execution_count": 346,
   "metadata": {
    "pycharm": {
     "name": "#%%\n"
    }
   },
   "outputs": [
    {
     "name": "stdout",
     "output_type": "stream",
     "text": [
      "depletion_results.h5\t openmc_simulation_n3.h5  statepoint.50.h5\r\n",
      "openmc_simulation_n0.h5  openmc_simulation_n4.h5  summary.h5\r\n",
      "openmc_simulation_n1.h5  openmc_simulation_n5.h5\r\n",
      "openmc_simulation_n2.h5  openmc_simulation_n6.h5\r\n"
     ]
    }
   ],
   "source": [
    "!ls *.h5"
   ]
  },
  {
   "cell_type": "markdown",
   "metadata": {
    "pycharm": {
     "name": "#%% md\n"
    }
   },
   "source": [
    "The `depletion_results.h5` file contains information that is aggregated over all time steps through depletion. This includes the multiplication factor, as well as concentrations. We can process this file using the `openmc.deplete.ResultsList` object"
   ]
  },
  {
   "cell_type": "code",
   "execution_count": 347,
   "metadata": {
    "pycharm": {
     "name": "#%%\n"
    }
   },
   "outputs": [],
   "source": [
    "results = openmc.deplete.ResultsList.from_hdf5(\"./depletion_results.h5\")"
   ]
  },
  {
   "cell_type": "code",
   "execution_count": 348,
   "metadata": {
    "pycharm": {
     "name": "#%%\n"
    }
   },
   "outputs": [],
   "source": [
    "time, k = results.get_eigenvalue()"
   ]
  },
  {
   "cell_type": "code",
   "execution_count": 349,
   "metadata": {
    "pycharm": {
     "name": "#%%\n"
    }
   },
   "outputs": [],
   "source": [
    "time /= (24 * 60 * 60)  # convert back to days from seconds"
   ]
  },
  {
   "cell_type": "code",
   "execution_count": 350,
   "metadata": {
    "pycharm": {
     "name": "#%%\n"
    }
   },
   "outputs": [
    {
     "data": {
      "text/plain": "array([[1.46086619, 0.0038916 ],\n       [1.39764716, 0.00461339],\n       [1.3859903 , 0.00457712],\n       [1.37571101, 0.0051448 ],\n       [1.36151446, 0.00421483],\n       [1.34964871, 0.00416881],\n       [1.33713537, 0.00391828]])"
     },
     "execution_count": 350,
     "metadata": {},
     "output_type": "execute_result"
    }
   ],
   "source": [
    "k"
   ]
  },
  {
   "cell_type": "markdown",
   "metadata": {
    "pycharm": {
     "name": "#%% md\n"
    }
   },
   "source": [
    "The first column of `k` is the value of `k-combined` at each point in our simulation, while the second column contains the associated uncertainty. We can plot this using `matplotlib`"
   ]
  },
  {
   "cell_type": "code",
   "execution_count": 351,
   "metadata": {
    "pycharm": {
     "name": "#%%\n"
    }
   },
   "outputs": [],
   "source": [
    "from matplotlib import pyplot"
   ]
  },
  {
   "cell_type": "code",
   "execution_count": 352,
   "metadata": {
    "pycharm": {
     "name": "#%%\n"
    }
   },
   "outputs": [
    {
     "data": {
      "text/plain": "<Figure size 432x288 with 1 Axes>",
      "image/png": "[encoded data removed]"
     },
     "metadata": {
      "needs_background": "light"
     },
     "output_type": "display_data"
    }
   ],
   "source": [
    "pyplot.errorbar(time, k[:, 0], yerr=k[:, 1])\n",
    "pyplot.xlabel(\"Time [d]\")\n",
    "pyplot.ylabel(\"$k_{eff}\\pm \\sigma$\");"
   ]
  },
  {
   "cell_type": "markdown",
   "metadata": {
    "pycharm": {
     "name": "#%% md\n"
    }
   },
   "source": [
    "Due to the low number of particles selected, the uncertainty on each value is rather high. However, we can still see the decline over time due to fuel consumption."
   ]
  },
  {
   "cell_type": "markdown",
   "metadata": {
    "pycharm": {
     "name": "#%% md\n"
    }
   },
   "source": [
    "We can then examine concentrations of atoms in each of our materials. This requires knowing the material ID, which can be obtained from the `materials.xml` file."
   ]
  },
  {
   "cell_type": "code",
   "execution_count": 353,
   "metadata": {
    "pycharm": {
     "name": "#%%\n"
    }
   },
   "outputs": [
    {
     "ename": "KeyError",
     "evalue": "'1'",
     "output_type": "error",
     "traceback": [
      "\u001B[0;31m---------------------------------------------------------------------------\u001B[0m",
      "\u001B[0;31mKeyError\u001B[0m                                  Traceback (most recent call last)",
      "Input \u001B[0;32mIn [353]\u001B[0m, in \u001B[0;36m<cell line: 4>\u001B[0;34m()\u001B[0m\n\u001B[1;32m      1\u001B[0m \u001B[38;5;66;03m# _, u5 = results.get_atoms(\"1\", \"U235\")  # For some reason \"1\" is not working but '1' is working alright\u001B[39;00m\n\u001B[1;32m      2\u001B[0m \u001B[38;5;66;03m# _, xe135 = results.get_atoms(\"1\", \"Xe135\")\u001B[39;00m\n\u001B[0;32m----> 4\u001B[0m _, u5 \u001B[38;5;241m=\u001B[39m \u001B[43mresults\u001B[49m\u001B[38;5;241;43m.\u001B[39;49m\u001B[43mget_atoms\u001B[49m\u001B[43m(\u001B[49m\u001B[38;5;124;43m'\u001B[39;49m\u001B[38;5;124;43m1\u001B[39;49m\u001B[38;5;124;43m'\u001B[39;49m\u001B[43m,\u001B[49m\u001B[43m \u001B[49m\u001B[38;5;124;43m\"\u001B[39;49m\u001B[38;5;124;43mU235\u001B[39;49m\u001B[38;5;124;43m\"\u001B[39;49m\u001B[43m)\u001B[49m\n\u001B[1;32m      5\u001B[0m _, xe135 \u001B[38;5;241m=\u001B[39m results\u001B[38;5;241m.\u001B[39mget_atoms(\u001B[38;5;124m'\u001B[39m\u001B[38;5;124m1\u001B[39m\u001B[38;5;124m'\u001B[39m, \u001B[38;5;124m\"\u001B[39m\u001B[38;5;124mXe135\u001B[39m\u001B[38;5;124m\"\u001B[39m)\n",
      "File \u001B[0;32m~/opt/anaconda3/envs/nuclear39/lib/python3.9/site-packages/openmc/deplete/results_list.py:99\u001B[0m, in \u001B[0;36mResultsList.get_atoms\u001B[0;34m(self, mat, nuc, nuc_units, time_units)\u001B[0m\n\u001B[1;32m     97\u001B[0m \u001B[38;5;28;01mfor\u001B[39;00m i, result \u001B[38;5;129;01min\u001B[39;00m \u001B[38;5;28menumerate\u001B[39m(\u001B[38;5;28mself\u001B[39m):\n\u001B[1;32m     98\u001B[0m     times[i] \u001B[38;5;241m=\u001B[39m result\u001B[38;5;241m.\u001B[39mtime[\u001B[38;5;241m0\u001B[39m]\n\u001B[0;32m---> 99\u001B[0m     concentrations[i] \u001B[38;5;241m=\u001B[39m \u001B[43mresult\u001B[49m\u001B[43m[\u001B[49m\u001B[38;5;241;43m0\u001B[39;49m\u001B[43m,\u001B[49m\u001B[43m \u001B[49m\u001B[43mmat_id\u001B[49m\u001B[43m,\u001B[49m\u001B[43m \u001B[49m\u001B[43mnuc\u001B[49m\u001B[43m]\u001B[49m\n\u001B[1;32m    101\u001B[0m \u001B[38;5;66;03m# Unit conversions\u001B[39;00m\n\u001B[1;32m    102\u001B[0m \u001B[38;5;28;01mif\u001B[39;00m time_units \u001B[38;5;241m==\u001B[39m \u001B[38;5;124m\"\u001B[39m\u001B[38;5;124md\u001B[39m\u001B[38;5;124m\"\u001B[39m:\n",
      "File \u001B[0;32m~/opt/anaconda3/envs/nuclear39/lib/python3.9/site-packages/openmc/deplete/results.py:92\u001B[0m, in \u001B[0;36mResults.__getitem__\u001B[0;34m(self, pos)\u001B[0m\n\u001B[1;32m     90\u001B[0m     mat \u001B[38;5;241m=\u001B[39m \u001B[38;5;28mstr\u001B[39m(mat\u001B[38;5;241m.\u001B[39mid)\n\u001B[1;32m     91\u001B[0m \u001B[38;5;28;01mif\u001B[39;00m \u001B[38;5;28misinstance\u001B[39m(mat, \u001B[38;5;28mstr\u001B[39m):\n\u001B[0;32m---> 92\u001B[0m     mat \u001B[38;5;241m=\u001B[39m \u001B[38;5;28;43mself\u001B[39;49m\u001B[38;5;241;43m.\u001B[39;49m\u001B[43mmat_to_ind\u001B[49m\u001B[43m[\u001B[49m\u001B[43mmat\u001B[49m\u001B[43m]\u001B[49m\n\u001B[1;32m     93\u001B[0m \u001B[38;5;28;01mif\u001B[39;00m \u001B[38;5;28misinstance\u001B[39m(nuc, \u001B[38;5;28mstr\u001B[39m):\n\u001B[1;32m     94\u001B[0m     nuc \u001B[38;5;241m=\u001B[39m \u001B[38;5;28mself\u001B[39m\u001B[38;5;241m.\u001B[39mnuc_to_ind[nuc]\n",
      "\u001B[0;31mKeyError\u001B[0m: '1'"
     ]
    }
   ],
   "source": [
    "# _, u5 = results.get_atoms(\"1\", \"U235\")  # For some reason \"1\" is not working but '1' is working alright\n",
    "# _, xe135 = results.get_atoms(\"1\", \"Xe135\")\n",
    "\n",
    "_, u5 = results.get_atoms('1', \"U235\")\n",
    "_, xe135 = results.get_atoms('1', \"Xe135\")"
   ]
  },
  {
   "cell_type": "code",
   "execution_count": null,
   "metadata": {
    "pycharm": {
     "name": "#%%\n"
    }
   },
   "outputs": [],
   "source": [
    "pyplot.plot(time, u5, label=\"U235\")\n",
    "pyplot.xlabel(\"Time [d]\")\n",
    "pyplot.ylabel(\"Number of atoms - U235\");"
   ]
  },
  {
   "cell_type": "code",
   "execution_count": null,
   "metadata": {
    "pycharm": {
     "name": "#%%\n"
    }
   },
   "outputs": [],
   "source": [
    "pyplot.plot(time, xe135, label=\"Xe135\")\n",
    "pyplot.xlabel(\"Time [d]\")\n",
    "pyplot.ylabel(\"Number of atoms - Xe135\");"
   ]
  },
  {
   "cell_type": "markdown",
   "metadata": {
    "pycharm": {
     "name": "#%% md\n"
    }
   },
   "source": [
    "We can also examine reaction rates over time using the `ResultsList`"
   ]
  },
  {
   "cell_type": "code",
   "execution_count": null,
   "metadata": {
    "pycharm": {
     "name": "#%%\n"
    }
   },
   "outputs": [],
   "source": [
    "_, u5_fission = results.get_reaction_rate(\"1\", \"U235\", \"fission\")"
   ]
  },
  {
   "cell_type": "code",
   "execution_count": null,
   "metadata": {
    "pycharm": {
     "name": "#%%\n"
    }
   },
   "outputs": [],
   "source": [
    "pyplot.plot(time, u5_fission)\n",
    "pyplot.xlabel(\"Time [d]\")\n",
    "pyplot.ylabel(\"Fission reactions / s\");"
   ]
  },
  {
   "cell_type": "markdown",
   "metadata": {
    "pycharm": {
     "name": "#%% md\n"
    }
   },
   "source": [
    "## Helpful tips\n",
    "\n",
    "Depletion is a tricky task to get correct. Use too short of time steps and you may never get your results due to running many transport simulations. Use long of time steps and you may get incorrect answers. Consider the xenon plot from above. Xenon-135 is a fission product with a thermal absorption cross section on the order of millions of barns, but has a half life of ~9 hours. Taking smaller time steps at the beginning of your simulation to build up some equilibrium in your fission products is highly recommended.\n",
    "\n",
    "When possible, differentiate materials that reappear in multiple places. If we had built an entire core with the single `fuel` material, every pin would be depleted using the same averaged spectrum and reaction rates which is incorrect. The `Operator` can differentiate these materials using the `diff_burnable_mats` argument, but note that the volumes will be copied from the original material.\n",
    "\n",
    "Using higher-order integrators, like the `CECMIntegrator`, `EPCRK4Integrator` with a fourth order Runge-Kutta, or the `LEQIIntegrator`, can improve the accuracy of a simulation, or at least allow you to take longer depletion steps between transport simulations with similar accuracy.\n",
    "\n",
    "Fuel pins with integrated burnable absorbers, like gadolinia, experience strong flux gradients until the absorbers are mostly burned away. This means that the spectrum and magnitude of the flux at the edge of the fuel pin can be vastly different than that in the interior. The helper `pin` function can be used to subdivide regions into equal volume segments, as follows."
   ]
  },
  {
   "cell_type": "code",
   "execution_count": null,
   "metadata": {
    "pycharm": {
     "name": "#%%\n"
    }
   },
   "outputs": [],
   "source": [
    "div_surfs_1 = [openmc.ZCylinder(r=1)]\n",
    "div_1 = openmc.model.pin(div_surfs_1, [fuel, water], subdivisions={0: 10})"
   ]
  },
  {
   "cell_type": "code",
   "execution_count": null,
   "metadata": {
    "pycharm": {
     "name": "#%%\n"
    }
   },
   "outputs": [],
   "source": [
    "div_1.plot(width=(2.0, 2.0))"
   ]
  },
  {
   "cell_type": "markdown",
   "metadata": {
    "pycharm": {
     "name": "#%% md\n"
    }
   },
   "source": [
    "The innermost region has been divided into 10 equal volume regions. We can pass additional arguments to divide multiple regions, except for the region outside the last cylinder."
   ]
  },
  {
   "cell_type": "markdown",
   "metadata": {
    "pycharm": {
     "name": "#%% md\n"
    }
   },
   "source": [
    "## Register depletion chain\n",
    "\n",
    "The depletion chain we created can be registered into the OpenMC `cross_sections.xml` file, so we don't have to always pass the `chain_file` argument to the `Operator`. To do this, we create a `DataLibrary` using `openmc.data`. Without any arguments, the `from_xml` method will look for the file located at `OPENMC_CROSS_SECTIONS`. For this example, we will just create a bare library."
   ]
  },
  {
   "cell_type": "code",
   "execution_count": null,
   "metadata": {
    "pycharm": {
     "name": "#%%\n"
    }
   },
   "outputs": [],
   "source": [
    "# data_lib = openmc.data.DataLibrary()  # Works only if OPENMC_CROSS_SECTIONS is properly set\n",
    "\n",
    "data_lib = openmc.data.DataLibrary.from_xml(cross_sections_file)"
   ]
  },
  {
   "cell_type": "code",
   "execution_count": null,
   "metadata": {
    "pycharm": {
     "name": "#%%\n"
    }
   },
   "outputs": [],
   "source": [
    "data_lib.register_file(chain_file)"
   ]
  },
  {
   "cell_type": "code",
   "execution_count": null,
   "metadata": {
    "pycharm": {
     "name": "#%%\n"
    }
   },
   "outputs": [],
   "source": [
    "data_lib.export_to_xml()"
   ]
  },
  {
   "cell_type": "code",
   "execution_count": null,
   "metadata": {
    "pycharm": {
     "name": "#%%\n"
    }
   },
   "outputs": [],
   "source": [
    "!cat cross_sections.xml"
   ]
  },
  {
   "cell_type": "markdown",
   "metadata": {
    "pycharm": {
     "name": "#%% md\n"
    }
   },
   "source": [
    "This allows us to make an `Operator` simply with the geometry and settings arguments, provided we exported our library to `OPENMC_CROSS_SECTIONS`. For a problem where we built and registered a `Chain` using all the available nuclear data, we might see something like the following."
   ]
  },
  {
   "cell_type": "code",
   "execution_count": null,
   "metadata": {
    "pycharm": {
     "name": "#%%\n"
    }
   },
   "outputs": [],
   "source": [
    "new_op = openmc.deplete.Operator(model)"
   ]
  },
  {
   "cell_type": "code",
   "execution_count": null,
   "metadata": {
    "pycharm": {
     "name": "#%%\n"
    }
   },
   "outputs": [],
   "source": [
    "len(new_op.chain.nuclide_dict)"
   ]
  },
  {
   "cell_type": "code",
   "execution_count": null,
   "metadata": {
    "pycharm": {
     "name": "#%%\n"
    }
   },
   "outputs": [],
   "source": [
    "[nuc.name for nuc in new_op.chain.nuclides[:10]]"
   ]
  },
  {
   "cell_type": "code",
   "execution_count": null,
   "metadata": {
    "pycharm": {
     "name": "#%%\n"
    }
   },
   "outputs": [],
   "source": [
    "[nuc.name for nuc in new_op.chain.nuclides[-10:]]"
   ]
  },
  {
   "cell_type": "markdown",
   "metadata": {
    "pycharm": {
     "name": "#%% md\n"
    }
   },
   "source": [
    "## Choice of depletion step size\n",
    "\n",
    "A general rule of thumb is to use depletion step sizes around 2 MWd/kgHM, where kgHM is really the initial heavy metal mass in kg. If your problem includes integral burnable absorbers, these typically require shorter time steps at or below 1 MWd/kgHM. These are typically valid for the predictor scheme, as the point of recent schemes is to extend this step size. A good convergence study, where the step size is decreased until some convergence metric is satisfied, is a beneficial exercise.\n",
    "\n",
    "We can use the `Operator` to determine our maximum step size using this recommendation. The `heavy_metal` attribute returns the mass of initial heavy metal in g, which, using our power, can be used to compute this step size. $$\\frac{2\\,MWd}{kgHM} = \\frac{P\\times\\Delta}{hm_{op}}$$"
   ]
  },
  {
   "cell_type": "code",
   "execution_count": null,
   "metadata": {
    "pycharm": {
     "name": "#%%\n"
    }
   },
   "outputs": [],
   "source": [
    "operator.heavy_metal"
   ]
  },
  {
   "cell_type": "code",
   "execution_count": null,
   "metadata": {
    "pycharm": {
     "name": "#%%\n"
    }
   },
   "outputs": [],
   "source": [
    "max_step = 2 * operator.heavy_metal / power * 1E3"
   ]
  },
  {
   "cell_type": "code",
   "execution_count": null,
   "metadata": {
    "pycharm": {
     "name": "#%%\n"
    }
   },
   "outputs": [],
   "source": [
    "print(\"\\\"Maximum\\\" depletion step: {:5.3} [d]\".format(max_step))"
   ]
  },
  {
   "cell_type": "markdown",
   "metadata": {
    "pycharm": {
     "name": "#%% md\n"
    }
   },
   "source": [
    "Alternatively, if we were provided the power density of our problem, we can provide this directly with `openmc.deplete.PredictorIntegrator(operator, time_steps, power_density=pdens)`. The values of `power` and `power_density` do not have to be scalars. For problems with variable power, we can provide an iterable with the same number of elements as `time_steps`."
   ]
  }
 ],
 "metadata": {
  "kernelspec": {
   "display_name": "Python 3",
   "language": "python",
   "name": "python3"
  },
  "language_info": {
   "codemirror_mode": {
    "name": "ipython",
    "version": 3
   },
   "file_extension": ".py",
   "mimetype": "text/x-python",
   "name": "python",
   "nbconvert_exporter": "python",
   "pygments_lexer": "ipython3",
   "version": "3.8.3"
  }
 },
 "nbformat": 4,
 "nbformat_minor": 2
}