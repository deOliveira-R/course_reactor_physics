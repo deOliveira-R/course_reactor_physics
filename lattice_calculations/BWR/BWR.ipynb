{
 "cells": [
  {
   "cell_type": "markdown",
   "metadata": {
    "pycharm": {
     "name": "#%% md\n"
    }
   },
   "source": [
    "# A BWR geometry \n",
    "This notebook can be used as a template for modeling BWR reactors."
   ]
  },
  {
   "cell_type": "code",
   "execution_count": 49,
   "metadata": {
    "id": "EChOeJ7qVUB7",
    "pycharm": {
     "name": "#%%\n"
    }
   },
   "outputs": [],
   "source": [
    "%matplotlib inline\n",
    "import openmc"
   ]
  },
  {
   "cell_type": "code",
   "execution_count": 50,
   "metadata": {
    "id": "-0xO897aWbft",
    "pycharm": {
     "name": "#%%\n"
    }
   },
   "outputs": [],
   "source": [
    "# Materials definitions\n",
    "\n",
    "uo2 = openmc.Material(name='UO2')\n",
    "uo2.add_element('U', 1.0, enrichment=1.5)\n",
    "uo2.add_element('O', 2.0)\n",
    "uo2.set_density('g/cc', 10.0)\n",
    "\n",
    "zircaloy = openmc.Material(name='Zircaloy')\n",
    "zircaloy.set_density('g/cm3', 6.55)\n",
    "zircaloy.add_nuclide('Zr90', 7.2758e-3)\n",
    "\n",
    "steel = openmc.Material(name='Stainless Steel')\n",
    "steel.set_density('g/cm3', 8.00)\n",
    "steel.add_element('C', 0.08, percent_type='wo')\n",
    "steel.add_element('Si', 1.00, percent_type='wo')\n",
    "steel.add_element('Mn', 2.00, percent_type='wo')\n",
    "steel.add_element('P', 0.045, percent_type='wo')\n",
    "steel.add_element('S', 0.030, percent_type='wo')\n",
    "steel.add_element('Cr', 20.0, percent_type='wo')\n",
    "steel.add_element('Ni', 11.0, percent_type='wo')\n",
    "steel.add_element('Fe', 65.845, percent_type='wo')\n",
    "\n",
    "water = openmc.Material(name='Water')\n",
    "water.set_density('g/cm3', 0.76)\n",
    "water.add_element('H', 2)\n",
    "water.add_element('O', 1)\n",
    "water.add_s_alpha_beta('c_H_in_H2O')\n",
    "\n",
    "# Instantiate a Materials collection and export to xml\n",
    "materials_file = openmc.Materials([uo2, water, zircaloy, steel])\n",
    "\n",
    "materials_file.cross_sections = \"/home/rodrigo/opt/openmc_data/endfb80/cross_sections.xml\"\n",
    "\n",
    "materials_file.export_to_xml()"
   ]
  },
  {
   "cell_type": "code",
   "execution_count": 51,
   "metadata": {
    "pycharm": {
     "name": "#%%\n"
    }
   },
   "outputs": [],
   "source": [
    "# Geometry definitions"
   ]
  },
  {
   "cell_type": "code",
   "execution_count": 52,
   "metadata": {
    "id": "J90KA6zdol04",
    "pycharm": {
     "name": "#%%\n"
    }
   },
   "outputs": [],
   "source": [
    "bottom = openmc.ZPlane(z0=-1.0, boundary_type = 'reflective')\n",
    "top = openmc.ZPlane(z0=1.0, boundary_type = 'reflective')"
   ]
  },
  {
   "cell_type": "code",
   "execution_count": 53,
   "metadata": {
    "id": "7UFi6yivaxDS",
    "pycharm": {
     "name": "#%%\n"
    }
   },
   "outputs": [],
   "source": [
    "pitch = 1.6256\n",
    "pin_cell_box = openmc.rectangular_prism(width=pitch, height=pitch)"
   ]
  },
  {
   "cell_type": "code",
   "execution_count": 54,
   "metadata": {
    "pycharm": {
     "name": "#%%\n"
    }
   },
   "outputs": [],
   "source": [
    "# Geometry definitions for the fuel rod\n",
    "\n",
    "fuel_or  = openmc.ZCylinder(r=1.0414/2, name='Fuel OR')\n",
    "fclad_ir = openmc.ZCylinder(r=1.06426/2, name='Clad IR')\n",
    "fclad_or = openmc.ZCylinder(r=1.22682/2, name='Clad OR')\n",
    "\n",
    "fuel_region = -fuel_or \n",
    "gap_region  = +fuel_or & -fclad_ir\n",
    "fclad_region  = +fclad_ir & -fclad_or\n",
    "fwater_region = pin_cell_box & +fclad_or\n",
    "\n",
    "fuel_cell = openmc.Cell(name='fuel')\n",
    "fuel_cell.fill = uo2\n",
    "fuel_cell.region = fuel_region \n",
    "\n",
    "gap_cell = openmc.Cell(name='air gap')\n",
    "gap_cell.region = gap_region\n",
    "\n",
    "clad_cell = openmc.Cell(name='clad')\n",
    "clad_cell.fill = zircaloy\n",
    "clad_cell.region = fclad_region\n",
    "\n",
    "fwater_cell = openmc.Cell(name='fwater')\n",
    "fwater_cell.fill = water\n",
    "fwater_cell.region = fwater_region\n",
    "\n",
    "fuel_pin_universe = openmc.Universe(cells=[fuel_cell, gap_cell, clad_cell, fwater_cell])"
   ]
  },
  {
   "cell_type": "code",
   "execution_count": 55,
   "metadata": {
    "pycharm": {
     "name": "#%%\n"
    }
   },
   "outputs": [
    {
     "data": {
      "text/plain": "<matplotlib.image.AxesImage at 0x7f12e2d17580>"
     },
     "execution_count": 55,
     "metadata": {},
     "output_type": "execute_result"
    },
    {
     "data": {
      "text/plain": "<Figure size 432x288 with 1 Axes>",
      "image/png": "[encoded data removed]"
     },
     "metadata": {
      "needs_background": "light"
     },
     "output_type": "display_data"
    }
   ],
   "source": [
    "fuel_pin_universe.plot(width=(2.5, 2.5), colors = {fuel_cell: 'orange', gap_cell: 'white', clad_cell: 'grey', fwater_cell: 'blue'})"
   ]
  },
  {
   "cell_type": "code",
   "execution_count": 56,
   "metadata": {
    "pycharm": {
     "name": "#%%\n"
    }
   },
   "outputs": [],
   "source": [
    "# Geometry definitions for the water rod\n",
    "\n",
    "water_or = openmc.ZCylinder(r=1.34874/2)\n",
    "wclad_or = openmc.ZCylinder(r=1.50114/2)\n",
    "\n",
    "wwater_inner_region = -water_or\n",
    "wclad_region = -wclad_or & +water_or \n",
    "wwater_outer_region = pin_cell_box & +wclad_or\n",
    "\n",
    "wwater_inner_cell = openmc.Cell(name='wwater_inner')\n",
    "wwater_inner_cell.region = wwater_inner_region\n",
    "wwater_inner_cell.fill = water\n",
    "\n",
    "wclad_cell = openmc.Cell(name='wclad')\n",
    "wclad_cell.fill = zircaloy\n",
    "wclad_cell.region = wclad_region \n",
    "\n",
    "wwater_outer_cell = openmc.Cell(name='wwater_outer')\n",
    "wwater_outer_cell.fill = water\n",
    "wwater_outer_cell.region = wwater_outer_region\n",
    "\n",
    "water_pin_universe = openmc.Universe(cells=[wwater_inner_cell, wclad_cell, wwater_outer_cell])"
   ]
  },
  {
   "cell_type": "code",
   "execution_count": 57,
   "metadata": {
    "colab": {
     "base_uri": "https://localhost:8080/",
     "height": 282
    },
    "id": "FklxPQ-1xvNs",
    "outputId": "9e4cb490-0ba5-4838-9f47-0442493b9f6d",
    "pycharm": {
     "name": "#%%\n"
    }
   },
   "outputs": [],
   "source": [
    "# Geometry definitions for the corner rod\n",
    "\n",
    "corner_fuel_or = openmc.ZCylinder(r=1.0414/2, name = 'Corner Cell: Fuel OR')\n",
    "corner_clad_ir = openmc.ZCylinder(r=1.06426/2, name = 'Corner Cell: Clad IR')\n",
    "corner_clad_or = openmc.ZCylinder(r=1.22682/2, name = 'Corner Cell: Clad OR')\n",
    "\n",
    "corner_fuel_cell = openmc.Cell(name='fuel')\n",
    "corner_fuel_cell.fill = uo2\n",
    "corner_fuel_cell.region = -corner_fuel_or \n",
    "\n",
    "corner_gap_cell = openmc.Cell(name='air gap')\n",
    "corner_gap_cell.region = -corner_clad_ir & +corner_fuel_or\n",
    "\n",
    "corner_clad_cell = openmc.Cell(name='clad')\n",
    "corner_clad_cell.fill = zircaloy\n",
    "corner_clad_cell.region = +corner_clad_ir & -corner_clad_or"
   ]
  },
  {
   "cell_type": "code",
   "execution_count": 58,
   "metadata": {
    "pycharm": {
     "name": "#%%\n"
    }
   },
   "outputs": [],
   "source": [
    "# Defining an Assembly"
   ]
  },
  {
   "cell_type": "code",
   "execution_count": 59,
   "metadata": {
    "pycharm": {
     "name": "#%%\n"
    }
   },
   "outputs": [],
   "source": [
    "margin = 1e-8\n",
    "sleave_thickness = 0.2032\n",
    "sleave_inner_radius = 0.9652 + margin"
   ]
  },
  {
   "cell_type": "code",
   "execution_count": 60,
   "metadata": {
    "colab": {
     "base_uri": "https://localhost:8080/",
     "height": 282
    },
    "id": "FklxPQ-1xvNs",
    "outputId": "9e4cb490-0ba5-4838-9f47-0442493b9f6d",
    "pycharm": {
     "name": "#%%\n"
    }
   },
   "outputs": [],
   "source": [
    "ur_corner_fuel_or = openmc.ZCylinder(r=1.0414/2, name='ur Corner Cell: Fuel OR')\n",
    "ur_corner_clad_ir = openmc.ZCylinder(r=1.06426/2, name='ur Corner Cell: Clad IR')\n",
    "ur_corner_clad_or = openmc.ZCylinder(r=1.22682/2, name='ur Corner Cell: Clad OR')\n",
    "\n",
    "ur_corner_fuel_cell = openmc.Cell(name='ur fuel')\n",
    "ur_corner_fuel_cell.fill = uo2\n",
    "ur_corner_fuel_cell.region = -ur_corner_fuel_or \n",
    "\n",
    "ur_corner_gap_cell = openmc.Cell(name='ul air gap')\n",
    "ur_corner_gap_cell.region = -ur_corner_clad_ir & +ur_corner_fuel_or\n",
    "\n",
    "ur_corner_clad_cell = openmc.Cell(name='ul clad')\n",
    "ur_corner_clad_cell.fill = zircaloy\n",
    "ur_corner_clad_cell.region = +ur_corner_clad_ir & -ur_corner_clad_or\n",
    "\n",
    "ur_sleave_ir = openmc.ZCylinder(x0=pitch/2-sleave_inner_radius-margin, y0=pitch/2-sleave_inner_radius+margin, r=sleave_inner_radius)\n",
    "ur_sleave_or = openmc.ZCylinder(x0=pitch/2-sleave_inner_radius-margin, y0=pitch/2-sleave_inner_radius+margin, r=sleave_inner_radius+sleave_thickness)\n",
    "\n",
    "ur_sleave_hor_bound = openmc.XPlane(x0=pitch/2 - sleave_inner_radius - margin)\n",
    "ur_sleave_ver_bound = openmc.YPlane(y0=pitch/2 - sleave_inner_radius + margin)\n",
    "\n",
    "ur_sleave_cell = openmc.Cell(name='ur sleave cell')\n",
    "ur_sleave_cell.region = -ur_sleave_or & +ur_sleave_ir & +ur_sleave_hor_bound & +ur_sleave_ver_bound & pin_cell_box\n",
    "ur_sleave_cell.fill = zircaloy\n",
    "\n",
    "ur_sleave_water_cell = openmc.Cell(name = 'ur sleave water')\n",
    "ur_sleave_water_cell.region = pin_cell_box & +ur_sleave_hor_bound & +ur_sleave_ver_bound & +ur_sleave_or\n",
    "ur_sleave_water_cell.fill = water\n",
    "\n",
    "ur_sleave_ver_water_cell = openmc.Cell(name='ur vertically-equivalent sleave water')\n",
    "ur_sleave_ver_water_cell.region = pin_cell_box & -ur_sleave_hor_bound & +ur_sleave_ver_bound & +ur_sleave_ir\n",
    "ur_sleave_ver_water_cell.fill = water \n",
    "\n",
    "ur_opposite_water_cell = openmc.Cell(name='ur opposite water')\n",
    "ur_opposite_water_cell.region = pin_cell_box & -ur_sleave_hor_bound & -ur_sleave_ver_bound & +ur_sleave_ir\n",
    "ur_opposite_water_cell.fill = water \n",
    "\n",
    "ur_sleave_hor_water_cell = openmc.Cell(name='ur horizontally-equivalent sleave water')\n",
    "ur_sleave_hor_water_cell.region = pin_cell_box & +ur_sleave_hor_bound & -ur_sleave_ver_bound & +ur_sleave_ir\n",
    "ur_sleave_hor_water_cell.fill = water \n",
    "\n",
    "ur_inner_water_cell = openmc.Cell(name='ur inner water cell')\n",
    "ur_inner_water_cell.region = pin_cell_box & -ur_sleave_ir & +ur_corner_clad_or\n",
    "ur_inner_water_cell.fill = water\n",
    "\n",
    "ur_corner_pin_universe = openmc.Universe(cells=[ur_corner_fuel_cell, ur_corner_gap_cell, ur_corner_clad_cell, ur_sleave_cell, ur_inner_water_cell, ur_sleave_water_cell, ur_sleave_ver_water_cell, ur_opposite_water_cell, ur_sleave_hor_water_cell])"
   ]
  },
  {
   "cell_type": "code",
   "execution_count": 61,
   "metadata": {
    "pycharm": {
     "name": "#%%\n"
    }
   },
   "outputs": [
    {
     "data": {
      "text/plain": "<matplotlib.image.AxesImage at 0x7f12e8092e50>"
     },
     "execution_count": 61,
     "metadata": {},
     "output_type": "execute_result"
    },
    {
     "data": {
      "text/plain": "<Figure size 432x288 with 1 Axes>",
      "image/png": "[encoded data removed]"
     },
     "metadata": {
      "needs_background": "light"
     },
     "output_type": "display_data"
    }
   ],
   "source": [
    "ur_corner_pin_universe.plot(width=(2.5, 2.5), basis = 'xy', colors = {ur_corner_fuel_cell: 'orange', ur_corner_gap_cell: 'white', ur_corner_clad_cell: 'grey', ur_sleave_cell:'brown', ur_inner_water_cell: 'blue', ur_sleave_water_cell: 'blue', ur_sleave_ver_water_cell: 'blue', ur_opposite_water_cell: 'blue', ur_sleave_hor_water_cell: 'blue'})"
   ]
  },
  {
   "cell_type": "code",
   "execution_count": 62,
   "metadata": {
    "scrolled": true,
    "pycharm": {
     "name": "#%%\n"
    }
   },
   "outputs": [],
   "source": [
    "ul_corner_fuel_or = openmc.ZCylinder(r=(1.0414/2), name='ul Corner Cell: Fuel OR')\n",
    "ul_corner_clad_ir = openmc.ZCylinder(r=(1.06426/2), name='ul Corner Cell: Clad IR')\n",
    "ul_corner_clad_or = openmc.ZCylinder(r=(1.22682/2), name='ul Corner Cell: Clad OR')\n",
    "\n",
    "ul_corner_fuel_cell = openmc.Cell(name='ul fuel')\n",
    "ul_corner_fuel_cell.fill = uo2\n",
    "ul_corner_fuel_cell.region = -ul_corner_fuel_or \n",
    "\n",
    "ul_corner_gap_cell = openmc.Cell(name='ul air gap')\n",
    "ul_corner_gap_cell.region = -ul_corner_clad_ir & +ul_corner_fuel_or\n",
    "\n",
    "ul_corner_clad_cell = openmc.Cell(name='ul clad')\n",
    "ul_corner_clad_cell.fill = zircaloy\n",
    "ul_corner_clad_cell.region = +ul_corner_clad_ir & -ul_corner_clad_or\n",
    "\n",
    "ul_sleave_ir = openmc.ZCylinder(x0=-pitch/2+sleave_inner_radius+margin, y0=pitch/2-sleave_inner_radius+margin, r=sleave_inner_radius) #Shouldn't have margin\n",
    "ul_sleave_or = openmc.ZCylinder(x0=-pitch/2+sleave_inner_radius+margin, y0=pitch/2-sleave_inner_radius+margin, r=sleave_inner_radius + sleave_thickness)\n",
    "\n",
    "ul_sleave_hor_bound = openmc.XPlane(x0=-pitch/2+sleave_inner_radius+margin)\n",
    "ul_sleave_ver_bound = openmc.YPlane(y0=pitch/2-sleave_inner_radius+margin)\n",
    "\n",
    "ul_sleave_cell = openmc.Cell(name='ul sleave cell')\n",
    "ul_sleave_cell.region = -ul_sleave_or & +ul_sleave_ir & -ul_sleave_hor_bound & +ul_sleave_ver_bound & pin_cell_box\n",
    "ul_sleave_cell.fill = zircaloy\n",
    "\n",
    "ul_sleave_water_cell = openmc.Cell(name='ul sleave water')\n",
    "ul_sleave_water_cell.region = pin_cell_box & -ul_sleave_hor_bound & +ul_sleave_ver_bound & +ul_sleave_or\n",
    "ul_sleave_water_cell.fill = water\n",
    "\n",
    "ul_sleave_ver_water_cell = openmc.Cell(name='ul vertically-equivalent sleave water')\n",
    "ul_sleave_ver_water_cell.region = pin_cell_box & +ul_sleave_hor_bound & +ul_sleave_ver_bound & +ul_sleave_ir\n",
    "ul_sleave_ver_water_cell.fill = water \n",
    "\n",
    "ul_opposite_water_cell = openmc.Cell(name='ul opposite water')\n",
    "ul_opposite_water_cell.region = pin_cell_box & +ul_sleave_hor_bound & -ul_sleave_ver_bound & +ul_sleave_ir\n",
    "ul_opposite_water_cell.fill = water \n",
    "\n",
    "ul_sleave_hor_water_cell = openmc.Cell(name='ul horizontally-equivalent sleave water')\n",
    "ul_sleave_hor_water_cell.region = pin_cell_box & -ul_sleave_hor_bound & -ul_sleave_ver_bound & +ul_sleave_ir\n",
    "ul_sleave_hor_water_cell.fill = water \n",
    "\n",
    "ul_inner_water_cell = openmc.Cell(name='ul inner water cell')\n",
    "ul_inner_water_cell.region = pin_cell_box & -ul_sleave_ir & +ul_corner_clad_or\n",
    "ul_inner_water_cell.fill = water\n",
    "\n",
    "ul_corner_pin_universe = openmc.Universe(cells=[ul_corner_fuel_cell, ul_corner_gap_cell, ul_corner_clad_cell, ul_sleave_cell, ul_inner_water_cell, ul_sleave_water_cell, ul_sleave_ver_water_cell, ul_opposite_water_cell, ul_sleave_hor_water_cell])"
   ]
  },
  {
   "cell_type": "code",
   "execution_count": 63,
   "metadata": {
    "pycharm": {
     "name": "#%%\n"
    }
   },
   "outputs": [
    {
     "data": {
      "text/plain": "<matplotlib.image.AxesImage at 0x7f12e2e5ed60>"
     },
     "execution_count": 63,
     "metadata": {},
     "output_type": "execute_result"
    },
    {
     "data": {
      "text/plain": "<Figure size 432x288 with 1 Axes>",
      "image/png": "[encoded data removed]"
     },
     "metadata": {
      "needs_background": "light"
     },
     "output_type": "display_data"
    }
   ],
   "source": [
    "ul_corner_pin_universe.plot(width=(2.5, 2.5), basis = 'xy', colors = {ul_corner_fuel_cell: 'orange', ul_corner_gap_cell: 'white', ul_corner_clad_cell: 'grey', ul_sleave_cell:'brown', ul_inner_water_cell: 'blue', ul_sleave_water_cell: 'blue', ul_sleave_ver_water_cell: 'blue', ul_opposite_water_cell: 'blue', ul_sleave_hor_water_cell: 'blue'})"
   ]
  },
  {
   "cell_type": "code",
   "execution_count": 64,
   "metadata": {
    "pycharm": {
     "name": "#%%\n"
    }
   },
   "outputs": [],
   "source": [
    "ll_corner_fuel_or = openmc.ZCylinder(r=1.0414/2, name='ll Corner Cell: Fuel OR')\n",
    "ll_corner_clad_ir = openmc.ZCylinder(r=1.06426/2, name='ll Corner Cell: Clad IR')\n",
    "ll_corner_clad_or = openmc.ZCylinder(r=1.22682/2, name='ll Corner Cell: Clad OR')\n",
    "\n",
    "ll_corner_fuel_cell = openmc.Cell(name='ll fuel')\n",
    "ll_corner_fuel_cell.fill = uo2\n",
    "ll_corner_fuel_cell.region = -ll_corner_fuel_or \n",
    "\n",
    "ll_corner_gap_cell = openmc.Cell(name='ll air gap')\n",
    "ll_corner_gap_cell.region = -ll_corner_clad_ir & +ll_corner_fuel_or\n",
    "\n",
    "ll_corner_clad_cell = openmc.Cell(name='ll clad')\n",
    "ll_corner_clad_cell.fill = zircaloy\n",
    "ll_corner_clad_cell.region = +ll_corner_clad_ir & -ll_corner_clad_or\n",
    "\n",
    "ll_sleave_ir = openmc.ZCylinder(x0=-pitch/2+sleave_inner_radius+margin, y0=-pitch/2+sleave_inner_radius-margin, r=sleave_inner_radius)\n",
    "ll_sleave_or = openmc.ZCylinder(x0=-pitch/2+sleave_inner_radius+margin, y0=-pitch/2+sleave_inner_radius-margin, r=sleave_inner_radius+sleave_thickness)\n",
    "\n",
    "ll_sleave_hor_bound = openmc.XPlane(x0=-pitch/2+sleave_inner_radius+margin)\n",
    "ll_sleave_ver_bound = openmc.YPlane(y0=-pitch/2+sleave_inner_radius-margin)\n",
    "\n",
    "ll_sleave_cell = openmc.Cell(name='ul sleave cell')\n",
    "ll_sleave_cell.region = -ll_sleave_or & +ll_sleave_ir & -ll_sleave_hor_bound & -ll_sleave_ver_bound & pin_cell_box\n",
    "ll_sleave_cell.fill = zircaloy\n",
    "\n",
    "ll_sleave_water_cell = openmc.Cell(name='ul sleave water')\n",
    "ll_sleave_water_cell.region = pin_cell_box & -ll_sleave_hor_bound & -ll_sleave_ver_bound & +ll_sleave_or\n",
    "ll_sleave_water_cell.fill = water\n",
    "\n",
    "ll_sleave_ver_water_cell = openmc.Cell(name='ul vertically-equivalent sleave water')\n",
    "ll_sleave_ver_water_cell.region = pin_cell_box & +ll_sleave_hor_bound & -ll_sleave_ver_bound & +ll_sleave_ir\n",
    "ll_sleave_ver_water_cell.fill = water \n",
    "\n",
    "ll_opposite_water_cell = openmc.Cell(name='ul opposite water')\n",
    "ll_opposite_water_cell.region = pin_cell_box & +ll_sleave_hor_bound & +ll_sleave_ver_bound & +ll_sleave_ir\n",
    "ll_opposite_water_cell.fill = water \n",
    "\n",
    "ll_sleave_hor_water_cell = openmc.Cell(name='ul horizontally-equivalent sleave water')\n",
    "ll_sleave_hor_water_cell.region = pin_cell_box & -ll_sleave_hor_bound & +ll_sleave_ver_bound & +ll_sleave_ir\n",
    "ll_sleave_hor_water_cell.fill = water \n",
    "\n",
    "ll_inner_water_cell = openmc.Cell(name='ul inner water cell')\n",
    "ll_inner_water_cell.region = pin_cell_box & -ll_sleave_ir & +ll_corner_clad_or\n",
    "ll_inner_water_cell.fill = water\n",
    "\n",
    "ll_corner_pin_universe = openmc.Universe(cells=[ll_corner_fuel_cell, ll_corner_gap_cell, ll_corner_clad_cell, ll_sleave_cell, ll_inner_water_cell, ll_sleave_water_cell, ll_sleave_ver_water_cell, ll_opposite_water_cell, ll_sleave_hor_water_cell])"
   ]
  },
  {
   "cell_type": "code",
   "execution_count": 65,
   "metadata": {
    "pycharm": {
     "name": "#%%\n"
    }
   },
   "outputs": [
    {
     "data": {
      "text/plain": "<matplotlib.image.AxesImage at 0x7f12e2eb81c0>"
     },
     "execution_count": 65,
     "metadata": {},
     "output_type": "execute_result"
    },
    {
     "data": {
      "text/plain": "<Figure size 432x288 with 1 Axes>",
      "image/png": "[encoded data removed]"
     },
     "metadata": {
      "needs_background": "light"
     },
     "output_type": "display_data"
    }
   ],
   "source": [
    "ll_corner_pin_universe.plot(width=(2.5, 2.5), basis = 'xy', colors = {ll_corner_fuel_cell: 'orange', ll_corner_gap_cell: 'white', ll_corner_clad_cell: 'grey', ll_sleave_cell:'brown', ll_inner_water_cell: 'blue', ll_sleave_water_cell: 'blue', ll_sleave_ver_water_cell: 'blue', ll_opposite_water_cell: 'blue', ll_sleave_hor_water_cell: 'blue'})"
   ]
  },
  {
   "cell_type": "code",
   "execution_count": 66,
   "metadata": {
    "pycharm": {
     "name": "#%%\n"
    }
   },
   "outputs": [],
   "source": [
    "lr_corner_fuel_or = openmc.ZCylinder(r=1.0414/2, name='lr Corner Cell: Fuel OR')\n",
    "lr_corner_clad_ir = openmc.ZCylinder(r=1.06426/2, name='lr Corner Cell: Clad IR')\n",
    "lr_corner_clad_or = openmc.ZCylinder(r=1.22682/2, name='lr Corner Cell: Clad OR')\n",
    "\n",
    "lr_corner_fuel_cell = openmc.Cell(name='lr fuel')\n",
    "lr_corner_fuel_cell.fill = uo2\n",
    "lr_corner_fuel_cell.region = -lr_corner_fuel_or \n",
    "\n",
    "lr_corner_gap_cell = openmc.Cell(name='lr air gap')\n",
    "lr_corner_gap_cell.region = -lr_corner_clad_ir & +lr_corner_fuel_or\n",
    "\n",
    "lr_corner_clad_cell = openmc.Cell(name='lr clad')\n",
    "lr_corner_clad_cell.fill = zircaloy\n",
    "lr_corner_clad_cell.region = +lr_corner_clad_ir & -lr_corner_clad_or\n",
    "\n",
    "lr_sleave_ir = openmc.ZCylinder(x0=pitch/2-sleave_inner_radius-margin, y0=-pitch/2+sleave_inner_radius-margin, r=sleave_inner_radius)\n",
    "lr_sleave_or = openmc.ZCylinder(x0=pitch/2-sleave_inner_radius-margin, y0=-pitch/2+sleave_inner_radius-margin, r=sleave_inner_radius+sleave_thickness)\n",
    "\n",
    "lr_sleave_hor_bound = openmc.XPlane(x0=pitch/2 - sleave_inner_radius - margin)\n",
    "lr_sleave_ver_bound = openmc.YPlane(y0=-pitch/2 + sleave_inner_radius - margin)\n",
    "\n",
    "lr_sleave_cell = openmc.Cell(name='ur sleave cell')\n",
    "lr_sleave_cell.region = -lr_sleave_or & +lr_sleave_ir & +lr_sleave_hor_bound & -lr_sleave_ver_bound & pin_cell_box\n",
    "lr_sleave_cell.fill = zircaloy\n",
    "\n",
    "lr_sleave_water_cell = openmc.Cell(name='ur sleave water')\n",
    "lr_sleave_water_cell.region = pin_cell_box & +lr_sleave_hor_bound & -lr_sleave_ver_bound & +lr_sleave_or\n",
    "lr_sleave_water_cell.fill = water\n",
    "\n",
    "lr_sleave_ver_water_cell = openmc.Cell(name='ur vertically-equivalent sleave water')\n",
    "lr_sleave_ver_water_cell.region = pin_cell_box & -lr_sleave_hor_bound & -lr_sleave_ver_bound & +lr_sleave_ir\n",
    "lr_sleave_ver_water_cell.fill = water \n",
    "\n",
    "lr_opposite_water_cell = openmc.Cell(name='ur opposite water')\n",
    "lr_opposite_water_cell.region = pin_cell_box & -lr_sleave_hor_bound & +lr_sleave_ver_bound & +lr_sleave_ir\n",
    "lr_opposite_water_cell.fill = water \n",
    "\n",
    "lr_sleave_hor_water_cell = openmc.Cell(name='ur horizontally-equivalent sleave water')\n",
    "lr_sleave_hor_water_cell.region = pin_cell_box & +lr_sleave_hor_bound & +lr_sleave_ver_bound & +lr_sleave_ir\n",
    "lr_sleave_hor_water_cell.fill = water \n",
    "\n",
    "lr_inner_water_cell = openmc.Cell(name='ur inner water cell')\n",
    "lr_inner_water_cell.region = pin_cell_box & -lr_sleave_ir & +lr_corner_clad_or\n",
    "lr_inner_water_cell.fill = water\n",
    "\n",
    "lr_corner_pin_universe = openmc.Universe(cells=[lr_corner_fuel_cell, lr_corner_gap_cell, lr_corner_clad_cell, lr_sleave_cell, lr_inner_water_cell, lr_sleave_water_cell, lr_sleave_ver_water_cell, lr_opposite_water_cell, lr_sleave_hor_water_cell])"
   ]
  },
  {
   "cell_type": "code",
   "execution_count": 67,
   "metadata": {
    "pycharm": {
     "name": "#%%\n"
    }
   },
   "outputs": [
    {
     "data": {
      "text/plain": "<matplotlib.image.AxesImage at 0x7f12e2c20880>"
     },
     "execution_count": 67,
     "metadata": {},
     "output_type": "execute_result"
    },
    {
     "data": {
      "text/plain": "<Figure size 432x288 with 1 Axes>",
      "image/png": "[encoded data removed]"
     },
     "metadata": {
      "needs_background": "light"
     },
     "output_type": "display_data"
    }
   ],
   "source": [
    "lr_corner_pin_universe.plot(width=(2.5, 2.5), basis = 'xy', colors = {lr_corner_fuel_cell: 'orange', lr_corner_gap_cell: 'white', lr_corner_clad_cell: 'grey', lr_sleave_cell:'brown', lr_inner_water_cell: 'blue', lr_sleave_water_cell: 'blue', lr_sleave_ver_water_cell: 'blue', lr_opposite_water_cell: 'blue', lr_sleave_hor_water_cell: 'blue'})"
   ]
  },
  {
   "cell_type": "code",
   "execution_count": 68,
   "metadata": {
    "pycharm": {
     "name": "#%%\n"
    }
   },
   "outputs": [],
   "source": [
    "quarter_pitch = pitch * 8\n",
    "\n",
    "assembly = openmc.RectLattice(name='Quarter Assembly')\n",
    "assembly.pitch = (pitch, pitch)\n",
    "assembly.lower_left = [-quarter_pitch/2, -quarter_pitch/2]\n",
    "\n",
    "assembly.universes = [\n",
    "                      [ul_corner_pin_universe, fuel_pin_universe, fuel_pin_universe, fuel_pin_universe, fuel_pin_universe, fuel_pin_universe, fuel_pin_universe, ur_corner_pin_universe],\n",
    "                      [fuel_pin_universe, fuel_pin_universe, fuel_pin_universe, fuel_pin_universe, fuel_pin_universe, fuel_pin_universe, fuel_pin_universe, fuel_pin_universe],\n",
    "                      [fuel_pin_universe, fuel_pin_universe, fuel_pin_universe, fuel_pin_universe, fuel_pin_universe, fuel_pin_universe, fuel_pin_universe, fuel_pin_universe],\n",
    "                      [fuel_pin_universe, fuel_pin_universe, fuel_pin_universe, water_pin_universe, fuel_pin_universe, fuel_pin_universe, fuel_pin_universe, fuel_pin_universe],\n",
    "                      [fuel_pin_universe, fuel_pin_universe, fuel_pin_universe, fuel_pin_universe, water_pin_universe, fuel_pin_universe, fuel_pin_universe, fuel_pin_universe],\n",
    "                      [fuel_pin_universe, fuel_pin_universe, fuel_pin_universe, fuel_pin_universe, fuel_pin_universe, fuel_pin_universe, fuel_pin_universe, fuel_pin_universe],\n",
    "                      [fuel_pin_universe, fuel_pin_universe, fuel_pin_universe, fuel_pin_universe, fuel_pin_universe, fuel_pin_universe, fuel_pin_universe, fuel_pin_universe],\n",
    "                      [ll_corner_pin_universe, fuel_pin_universe, fuel_pin_universe, fuel_pin_universe, fuel_pin_universe, fuel_pin_universe, fuel_pin_universe, lr_corner_pin_universe]\n",
    "]\n",
    "\n",
    "assembly_region = openmc.rectangular_prism(width=quarter_pitch, height=quarter_pitch, origin=(0,0))\n",
    "assembly_cell = openmc.Cell(name='quarter assembly cell', fill=assembly, region=assembly_region)\n",
    "\n",
    "assembly_sleave = openmc.Cell(name='quarter assembly sleave')\n",
    "assembly_sleave.region = openmc.rectangular_prism(width=quarter_pitch+2*sleave_thickness, height=quarter_pitch+2*sleave_thickness, corner_radius=sleave_inner_radius+sleave_thickness) & ~assembly_cell.region\n",
    "assembly_sleave.fill = zircaloy\n",
    "\n",
    "assembly_outer_water = openmc.Cell(name='assembly outer water')\n",
    "assembly_outer_water.region = ~assembly_sleave.region & ~assembly_cell.region & openmc.rectangular_prism(width=quarter_pitch+2*sleave_thickness+1, height=quarter_pitch+2*sleave_thickness+1, boundary_type='reflective')\n",
    "assembly_outer_water.fill = water\n",
    "\n",
    "quarter_assembly_universe = openmc.Universe(cells=[assembly_cell, assembly_sleave, assembly_outer_water])"
   ]
  },
  {
   "cell_type": "code",
   "execution_count": 69,
   "metadata": {
    "pycharm": {
     "name": "#%%\n"
    }
   },
   "outputs": [
    {
     "data": {
      "text/plain": "<matplotlib.image.AxesImage at 0x7f12e2de1eb0>"
     },
     "execution_count": 69,
     "metadata": {},
     "output_type": "execute_result"
    },
    {
     "data": {
      "text/plain": "<Figure size 432x288 with 1 Axes>",
      "image/png": "[encoded data removed]"
     },
     "metadata": {
      "needs_background": "light"
     },
     "output_type": "display_data"
    }
   ],
   "source": [
    "quarter_assembly_universe.plot(width=(15,15), colors={assembly_outer_water: 'blue'})"
   ]
  },
  {
   "cell_type": "code",
   "execution_count": 70,
   "metadata": {
    "pycharm": {
     "name": "#%%\n"
    }
   },
   "outputs": [],
   "source": [
    "geom = openmc.Geometry(quarter_assembly_universe)\n",
    "geom.export_to_xml()"
   ]
  },
  {
   "cell_type": "code",
   "execution_count": 71,
   "metadata": {
    "colab": {
     "base_uri": "https://localhost:8080/"
    },
    "id": "JPOk4874OR3w",
    "outputId": "b15d56c2-f9a1-42c4-b06f-3e779a1953ec",
    "pycharm": {
     "name": "#%%\n"
    }
   },
   "outputs": [],
   "source": [
    "# OpenMC simulation parameters\n",
    "\n",
    "point = openmc.stats.Point((0, 0, 0))\n",
    "src = openmc.Source(space=point)\n",
    "settings = openmc.Settings()\n",
    "settings.source = src\n",
    "settings.batches = 100\n",
    "settings.inactive = 10\n",
    "settings.particles = 1000\n",
    "settings.export_to_xml()"
   ]
  },
  {
   "cell_type": "code",
   "execution_count": 72,
   "metadata": {
    "colab": {
     "base_uri": "https://localhost:8080/"
    },
    "id": "lkX_1LrAzw71",
    "outputId": "6331f2a0-42fc-4919-91d3-7bca6b5d735f",
    "pycharm": {
     "name": "#%%\n"
    }
   },
   "outputs": [
    {
     "name": "stdout",
     "output_type": "stream",
     "text": [
      "                                %%%%%%%%%%%%%%%\n",
      "                           %%%%%%%%%%%%%%%%%%%%%%%%\n",
      "                        %%%%%%%%%%%%%%%%%%%%%%%%%%%%%%\n",
      "                      %%%%%%%%%%%%%%%%%%%%%%%%%%%%%%%%%%\n",
      "                    %%%%%%%%%%%%%%%%%%%%%%%%%%%%%%%%%%%%%%\n",
      "                   %%%%%%%%%%%%%%%%%%%%%%%%%%%%%%%%%%%%%%%%\n",
      "                                    %%%%%%%%%%%%%%%%%%%%%%%%\n",
      "                                     %%%%%%%%%%%%%%%%%%%%%%%%\n",
      "                 ###############      %%%%%%%%%%%%%%%%%%%%%%%%\n",
      "                ##################     %%%%%%%%%%%%%%%%%%%%%%%\n",
      "                ###################     %%%%%%%%%%%%%%%%%%%%%%%\n",
      "                ####################     %%%%%%%%%%%%%%%%%%%%%%\n",
      "                #####################     %%%%%%%%%%%%%%%%%%%%%\n",
      "                ######################     %%%%%%%%%%%%%%%%%%%%\n",
      "                #######################     %%%%%%%%%%%%%%%%%%\n",
      "                 #######################     %%%%%%%%%%%%%%%%%\n",
      "                 ######################     %%%%%%%%%%%%%%%%%\n",
      "                  ####################     %%%%%%%%%%%%%%%%%\n",
      "                    #################     %%%%%%%%%%%%%%%%%\n",
      "                     ###############     %%%%%%%%%%%%%%%%\n",
      "                       ############     %%%%%%%%%%%%%%%\n",
      "                          ########     %%%%%%%%%%%%%%\n",
      "                                      %%%%%%%%%%%\n",
      "\n",
      "                 | The OpenMC Monte Carlo Code\n",
      "       Copyright | 2011-2022 MIT, UChicago Argonne LLC, and contributors\n",
      "         License | https://docs.openmc.org/en/latest/license.html\n",
      "         Version | 0.13.1-dev\n",
      "        Git SHA1 | 73ba908f1fd8ba239412703142fdbf8bcf06efd8\n",
      "       Date/Time | 2022-06-16 20:54:39\n",
      "  OpenMP Threads | 64\n",
      "\n",
      " Reading settings XML file...\n",
      " Reading cross sections XML file...\n",
      " Reading materials XML file...\n",
      " Reading geometry XML file...\n",
      " Reading U238 from /home/rodrigo/opt/openmc_data/endfb80/U238.h5\n",
      " Reading U234 from /home/rodrigo/opt/openmc_data/endfb80/U234.h5\n",
      " Reading U235 from /home/rodrigo/opt/openmc_data/endfb80/U235.h5\n",
      " Reading U236 from /home/rodrigo/opt/openmc_data/endfb80/U236.h5\n",
      " Reading O16 from /home/rodrigo/opt/openmc_data/endfb80/O16.h5\n",
      " Reading O17 from /home/rodrigo/opt/openmc_data/endfb80/O17.h5\n",
      " Reading O18 from /home/rodrigo/opt/openmc_data/endfb80/O18.h5\n",
      " Reading Zr90 from /home/rodrigo/opt/openmc_data/endfb80/Zr90.h5\n",
      " Reading C13 from /home/rodrigo/opt/openmc_data/endfb80/C13.h5\n",
      " Reading C12 from /home/rodrigo/opt/openmc_data/endfb80/C12.h5\n",
      " Reading Si30 from /home/rodrigo/opt/openmc_data/endfb80/Si30.h5\n",
      " Reading Si28 from /home/rodrigo/opt/openmc_data/endfb80/Si28.h5\n",
      " Reading Si29 from /home/rodrigo/opt/openmc_data/endfb80/Si29.h5\n",
      " Reading Mn55 from /home/rodrigo/opt/openmc_data/endfb80/Mn55.h5\n",
      " Reading P31 from /home/rodrigo/opt/openmc_data/endfb80/P31.h5\n",
      " Reading S32 from /home/rodrigo/opt/openmc_data/endfb80/S32.h5\n",
      " Reading S34 from /home/rodrigo/opt/openmc_data/endfb80/S34.h5\n",
      " Reading S33 from /home/rodrigo/opt/openmc_data/endfb80/S33.h5\n",
      " Reading S36 from /home/rodrigo/opt/openmc_data/endfb80/S36.h5\n",
      " Reading Cr52 from /home/rodrigo/opt/openmc_data/endfb80/Cr52.h5\n",
      " Reading Cr50 from /home/rodrigo/opt/openmc_data/endfb80/Cr50.h5\n",
      " Reading Cr54 from /home/rodrigo/opt/openmc_data/endfb80/Cr54.h5\n",
      " Reading Cr53 from /home/rodrigo/opt/openmc_data/endfb80/Cr53.h5\n",
      " Reading Ni64 from /home/rodrigo/opt/openmc_data/endfb80/Ni64.h5\n",
      " Reading Ni60 from /home/rodrigo/opt/openmc_data/endfb80/Ni60.h5\n",
      " Reading Ni61 from /home/rodrigo/opt/openmc_data/endfb80/Ni61.h5\n",
      " Reading Ni62 from /home/rodrigo/opt/openmc_data/endfb80/Ni62.h5\n",
      " Reading Ni58 from /home/rodrigo/opt/openmc_data/endfb80/Ni58.h5\n",
      " Reading Fe56 from /home/rodrigo/opt/openmc_data/endfb80/Fe56.h5\n",
      " Reading Fe54 from /home/rodrigo/opt/openmc_data/endfb80/Fe54.h5\n",
      " Reading Fe58 from /home/rodrigo/opt/openmc_data/endfb80/Fe58.h5\n",
      " Reading Fe57 from /home/rodrigo/opt/openmc_data/endfb80/Fe57.h5\n",
      " Reading H1 from /home/rodrigo/opt/openmc_data/endfb80/H1.h5\n",
      " Reading H2 from /home/rodrigo/opt/openmc_data/endfb80/H2.h5\n",
      " Reading c_H_in_H2O from /home/rodrigo/opt/openmc_data/endfb80/c_H_in_H2O.h5\n",
      " Minimum neutron data temperature: 250 K\n",
      " Maximum neutron data temperature: 2500 K\n",
      " Preparing distributed cell instances...\n",
      " Reading plot XML file...\n",
      " Writing summary.h5 file...\n",
      " Maximum neutron transport energy: 20000000 eV for O17\n",
      " Initializing source particles...\n",
      "\n",
      " ====================>     K EIGENVALUE SIMULATION     <====================\n",
      "\n",
      "  Bat./Gen.      k            Average k\n",
      "  =========   ========   ====================\n",
      "        1/1    1.14922\n",
      "        2/1    1.13966\n",
      "        3/1    1.21803\n",
      "        4/1    1.22294\n",
      "        5/1    1.23452\n",
      "        6/1    1.28732\n",
      "        7/1    1.17017\n",
      "        8/1    1.19162\n",
      "        9/1    1.26566\n",
      "       10/1    1.21294\n",
      "       11/1    1.22570\n",
      "       12/1    1.19745    1.21158 +/- 0.01413\n",
      "       13/1    1.24712    1.22342 +/- 0.01438\n",
      "       14/1    1.29507    1.24134 +/- 0.02060\n",
      "       15/1    1.20671    1.23441 +/- 0.01739\n",
      "       16/1    1.25234    1.23740 +/- 0.01451\n",
      "       17/1    1.24754    1.23885 +/- 0.01235\n",
      "       18/1    1.22171    1.23671 +/- 0.01091\n",
      "       19/1    1.20792    1.23351 +/- 0.01014\n",
      "       20/1    1.22861    1.23302 +/- 0.00908\n",
      "       21/1    1.21558    1.23143 +/- 0.00837\n",
      "       22/1    1.19127    1.22809 +/- 0.00834\n",
      "       23/1    1.17879    1.22429 +/- 0.00856\n",
      "       24/1    1.18077    1.22119 +/- 0.00851\n",
      "       25/1    1.22321    1.22132 +/- 0.00792\n",
      "       26/1    1.16376    1.21772 +/- 0.00824\n",
      "       27/1    1.18708    1.21592 +/- 0.00795\n",
      "       28/1    1.14963    1.21224 +/- 0.00835\n",
      "       29/1    1.19183    1.21116 +/- 0.00797\n",
      "       30/1    1.20413    1.21081 +/- 0.00757\n",
      "       31/1    1.16858    1.20880 +/- 0.00747\n",
      "       32/1    1.20665    1.20870 +/- 0.00713\n",
      "       33/1    1.25106    1.21055 +/- 0.00705\n",
      "       34/1    1.21266    1.21063 +/- 0.00675\n",
      "       35/1    1.11936    1.20698 +/- 0.00744\n",
      "       36/1    1.16764    1.20547 +/- 0.00730\n",
      "       37/1    1.22790    1.20630 +/- 0.00708\n",
      "       38/1    1.26252    1.20831 +/- 0.00711\n",
      "       39/1    1.15191    1.20636 +/- 0.00713\n",
      "       40/1    1.21288    1.20658 +/- 0.00689\n",
      "       41/1    1.16897    1.20537 +/- 0.00677\n",
      "       42/1    1.25939    1.20706 +/- 0.00677\n",
      "       43/1    1.19097    1.20657 +/- 0.00658\n",
      "       44/1    1.18518    1.20594 +/- 0.00642\n",
      "       45/1    1.22310    1.20643 +/- 0.00625\n",
      "       46/1    1.23896    1.20733 +/- 0.00614\n",
      "       47/1    1.16905    1.20630 +/- 0.00606\n",
      "       48/1    1.27918    1.20822 +/- 0.00620\n",
      "       49/1    1.23173    1.20882 +/- 0.00607\n",
      "       50/1    1.28155    1.21064 +/- 0.00619\n",
      "       51/1    1.27543    1.21222 +/- 0.00624\n",
      "       52/1    1.18092    1.21147 +/- 0.00614\n",
      "       53/1    1.18609    1.21088 +/- 0.00602\n",
      "       54/1    1.26512    1.21211 +/- 0.00601\n",
      "       55/1    1.17206    1.21122 +/- 0.00594\n",
      "       56/1    1.23787    1.21180 +/- 0.00584\n",
      "       57/1    1.27628    1.21318 +/- 0.00588\n",
      "       58/1    1.28170    1.21460 +/- 0.00593\n",
      "       59/1    1.16219    1.21353 +/- 0.00590\n",
      "       60/1    1.27794    1.21482 +/- 0.00593\n",
      "       61/1    1.19325    1.21440 +/- 0.00582\n",
      "       62/1    1.19878    1.21410 +/- 0.00572\n",
      "       63/1    1.22490    1.21430 +/- 0.00561\n",
      "       64/1    1.27803    1.21548 +/- 0.00563\n",
      "       65/1    1.28738    1.21679 +/- 0.00568\n",
      "       66/1    1.27174    1.21777 +/- 0.00567\n",
      "       67/1    1.14913    1.21657 +/- 0.00569\n",
      "       68/1    1.18738    1.21606 +/- 0.00562\n",
      "       69/1    1.14945    1.21493 +/- 0.00564\n",
      "       70/1    1.20870    1.21483 +/- 0.00554\n",
      "       71/1    1.16687    1.21404 +/- 0.00551\n",
      "       72/1    1.15490    1.21309 +/- 0.00550\n",
      "       73/1    1.16807    1.21238 +/- 0.00546\n",
      "       74/1    1.15817    1.21153 +/- 0.00544\n",
      "       75/1    1.23363    1.21187 +/- 0.00537\n",
      "       76/1    1.21561    1.21193 +/- 0.00529\n",
      "       77/1    1.17355    1.21135 +/- 0.00524\n",
      "       78/1    1.18066    1.21090 +/- 0.00518\n",
      "       79/1    1.19147    1.21062 +/- 0.00511\n",
      "       80/1    1.23094    1.21091 +/- 0.00505\n",
      "       81/1    1.24368    1.21137 +/- 0.00500\n",
      "       82/1    1.24956    1.21190 +/- 0.00495\n",
      "       83/1    1.18377    1.21152 +/- 0.00490\n",
      "       84/1    1.24169    1.21192 +/- 0.00485\n",
      "       85/1    1.23371    1.21221 +/- 0.00480\n",
      "       86/1    1.19542    1.21199 +/- 0.00474\n",
      "       87/1    1.16472    1.21138 +/- 0.00472\n",
      "       88/1    1.18386    1.21103 +/- 0.00467\n",
      "       89/1    1.12903    1.20999 +/- 0.00472\n",
      "       90/1    1.26141    1.21063 +/- 0.00471\n",
      "       91/1    1.19947    1.21049 +/- 0.00465\n",
      "       92/1    1.20444    1.21042 +/- 0.00460\n",
      "       93/1    1.24531    1.21084 +/- 0.00456\n",
      "       94/1    1.18169    1.21049 +/- 0.00452\n",
      "       95/1    1.22211    1.21063 +/- 0.00447\n",
      "       96/1    1.23876    1.21096 +/- 0.00443\n",
      "       97/1    1.22510    1.21112 +/- 0.00438\n",
      "       98/1    1.16195    1.21056 +/- 0.00436\n",
      "       99/1    1.22811    1.21076 +/- 0.00432\n",
      "      100/1    1.32492    1.21203 +/- 0.00446\n",
      " Creating state point statepoint.100.h5...\n",
      "\n",
      " =======================>     TIMING STATISTICS     <=======================\n",
      "\n",
      " Total time for initialization     = 3.2085e+00 seconds\n",
      "   Reading cross sections          = 3.1796e+00 seconds\n",
      " Total time in simulation          = 3.4820e-01 seconds\n",
      "   Time in transport only          = 3.3673e-01 seconds\n",
      "   Time in inactive batches        = 4.8439e-02 seconds\n",
      "   Time in active batches          = 2.9976e-01 seconds\n",
      "   Time synchronizing fission bank = 5.9990e-03 seconds\n",
      "     Sampling source sites         = 4.2147e-03 seconds\n",
      "     SEND/RECV source sites        = 1.7542e-03 seconds\n",
      "   Time accumulating tallies       = 1.9680e-05 seconds\n",
      "   Time writing statepoints        = 1.7516e-03 seconds\n",
      " Total time for finalization       = 1.1500e-06 seconds\n",
      " Total time elapsed                = 3.5894e+00 seconds\n",
      " Calculation Rate (inactive)       = 206444 particles/second\n",
      " Calculation Rate (active)         = 300238 particles/second\n",
      "\n",
      " ============================>     RESULTS     <============================\n",
      "\n",
      " k-effective (Collision)     = 1.20667 +/- 0.00438\n",
      " k-effective (Track-length)  = 1.21203 +/- 0.00446\n",
      " k-effective (Absorption)    = 1.20461 +/- 0.00352\n",
      " Combined k-effective        = 1.20722 +/- 0.00312\n",
      " Leakage Fraction            = 0.00000 +/- 0.00000\n",
      "\n"
     ]
    }
   ],
   "source": [
    "openmc.run()"
   ]
  },
  {
   "cell_type": "code",
   "execution_count": 72,
   "metadata": {
    "pycharm": {
     "name": "#%%\n"
    }
   },
   "outputs": [],
   "source": []
  }
 ],
 "metadata": {
  "accelerator": "GPU",
  "colab": {
   "collapsed_sections": [],
   "name": "thick_thin.IPYNB",
   "provenance": []
  },
  "kernelspec": {
   "display_name": "Python 3",
   "language": "python",
   "name": "python3"
  },
  "language_info": {
   "codemirror_mode": {
    "name": "ipython",
    "version": 3
   },
   "file_extension": ".py",
   "mimetype": "text/x-python",
   "name": "python",
   "nbconvert_exporter": "python",
   "pygments_lexer": "ipython3",
   "version": "3.9.0"
  }
 },
 "nbformat": 4,
 "nbformat_minor": 4
}