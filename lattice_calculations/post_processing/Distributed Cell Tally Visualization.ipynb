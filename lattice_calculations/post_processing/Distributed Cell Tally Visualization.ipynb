{
 "cells": [
  {
   "cell_type": "markdown",
   "metadata": {},
   "source": [
    "# Distributed Cell Tally Visualization\n",
    "\n",
    "This example demonstrates how a tally with a `DistribcellFilter` can be plotted using the `openmc.lib` module to determine geometry information. First, we'll begin by creating a simple model with a hexagonal lattice."
   ]
  },
  {
   "cell_type": "code",
   "execution_count": 1,
   "metadata": {},
   "outputs": [],
   "source": [
    "from pprint import pprint\n",
    "\n",
    "%matplotlib inline\n",
    "import matplotlib.pyplot as plt\n",
    "import numpy as np\n",
    "import openmc\n",
    "import openmc.lib"
   ]
  },
  {
   "cell_type": "markdown",
   "metadata": {},
   "source": [
    "Our model will have two materials, fuel and water:"
   ]
  },
  {
   "cell_type": "code",
   "execution_count": 2,
   "metadata": {},
   "outputs": [],
   "source": [
    "fuel = openmc.Material(name='fuel')\n",
    "fuel.add_nuclide('U235', 1.0)\n",
    "fuel.set_density('g/cm3', 10.0)\n",
    "\n",
    "water = openmc.Material(name='water')\n",
    "water.add_nuclide('H1', 2.0)\n",
    "water.add_nuclide('O16', 1.0)\n",
    "water.set_density('g/cm3', 1.0)\n",
    "\n",
    "mats = openmc.Materials((fuel, water))\n",
    "mats.export_to_xml()"
   ]
  },
  {
   "cell_type": "markdown",
   "metadata": {},
   "source": [
    "We'll create two universes for use in our hexaongal lattice, one which has a pin consisting of fuel and one which is entirely water."
   ]
  },
  {
   "cell_type": "code",
   "execution_count": 3,
   "metadata": {},
   "outputs": [],
   "source": [
    "r_pin = openmc.ZCylinder(r=0.25)\n",
    "fuel_cell = openmc.Cell(fill=fuel, region=-r_pin)\n",
    "water_cell = openmc.Cell(fill=water, region=+r_pin)\n",
    "pin_universe = openmc.Universe(cells=(fuel_cell, water_cell))\n",
    "\n",
    "all_water_cell = openmc.Cell(fill=water)\n",
    "water_universe = openmc.Universe(cells=(all_water_cell,))"
   ]
  },
  {
   "cell_type": "markdown",
   "metadata": {},
   "source": [
    "Now let's create a hexagonal lattice with three rings that is otherwise surrounded by water."
   ]
  },
  {
   "cell_type": "code",
   "execution_count": 4,
   "metadata": {},
   "outputs": [],
   "source": [
    "lat = openmc.HexLattice()\n",
    "lat.center = (0., 0.)\n",
    "lat.pitch = [1.25]\n",
    "lat.outer = water_universe\n",
    "outer_ring = [pin_universe]*12\n",
    "middle_ring = [pin_universe]*6\n",
    "inner_ring = [pin_universe]\n",
    "lat.universes = [outer_ring, middle_ring, inner_ring]"
   ]
  },
  {
   "cell_type": "markdown",
   "metadata": {},
   "source": [
    "Now let's put our lattice inside a cylindrical cell so that is properly contained. This completes the geometry."
   ]
  },
  {
   "cell_type": "code",
   "execution_count": 5,
   "metadata": {},
   "outputs": [],
   "source": [
    "outer_radius = 4.0\n",
    "outer_surface = openmc.ZCylinder(r=outer_radius, boundary_type='vacuum')\n",
    "main_cell = openmc.Cell(fill=lat, region=-outer_surface)\n",
    "geom = openmc.Geometry([main_cell])\n",
    "geom.export_to_xml()"
   ]
  },
  {
   "cell_type": "markdown",
   "metadata": {},
   "source": [
    "To see what our geometry looks like, we can plot it:"
   ]
  },
  {
   "cell_type": "code",
   "execution_count": 6,
   "metadata": {},
   "outputs": [
    {
     "data": {
      "image/png": "[encoded data removed]",
      "text/plain": [
       "<IPython.core.display.Image object>"
      ]
     },
     "execution_count": 6,
     "metadata": {},
     "output_type": "execute_result"
    }
   ],
   "source": [
    "p = openmc.Plot.from_geometry(geom)\n",
    "p.color_by = 'material'\n",
    "p.colors = {\n",
    "    fuel: 'yellow',\n",
    "    water: 'blue'\n",
    "}\n",
    "p.to_ipython_image()"
   ]
  },
  {
   "cell_type": "markdown",
   "metadata": {},
   "source": [
    "Great! Now to finish things, we just need to create some simulation settings and setup a tally with a distribcell filter. Beginning with the simulation settings:"
   ]
  },
  {
   "cell_type": "code",
   "execution_count": 7,
   "metadata": {},
   "outputs": [],
   "source": [
    "settings = openmc.Settings()\n",
    "settings.batches = 25\n",
    "settings.inactive = 5\n",
    "settings.particles = 10000\n",
    "settings.source = openmc.Source(space=openmc.stats.Point((0., 0., 0.)))\n",
    "settings.export_to_xml()"
   ]
  },
  {
   "cell_type": "markdown",
   "metadata": {},
   "source": [
    "Our tally will use a distribcell filter over the `fuel_cell`, and we'll tally the flux as the only score."
   ]
  },
  {
   "cell_type": "code",
   "execution_count": 8,
   "metadata": {},
   "outputs": [],
   "source": [
    "tally = openmc.Tally()\n",
    "tally.filters = [openmc.DistribcellFilter(fuel_cell)]\n",
    "tally.scores = ['flux']\n",
    "\n",
    "tallies = openmc.Tallies([tally])\n",
    "tallies.export_to_xml()"
   ]
  },
  {
   "cell_type": "markdown",
   "metadata": {},
   "source": [
    "We're ready to run the transport simulation and get tally results to plot."
   ]
  },
  {
   "cell_type": "code",
   "execution_count": 9,
   "metadata": {},
   "outputs": [
    {
     "name": "stdout",
     "output_type": "stream",
     "text": [
      "                                %%%%%%%%%%%%%%%\n",
      "                           %%%%%%%%%%%%%%%%%%%%%%%%\n",
      "                        %%%%%%%%%%%%%%%%%%%%%%%%%%%%%%\n",
      "                      %%%%%%%%%%%%%%%%%%%%%%%%%%%%%%%%%%\n",
      "                    %%%%%%%%%%%%%%%%%%%%%%%%%%%%%%%%%%%%%%\n",
      "                   %%%%%%%%%%%%%%%%%%%%%%%%%%%%%%%%%%%%%%%%\n",
      "                                    %%%%%%%%%%%%%%%%%%%%%%%%\n",
      "                                     %%%%%%%%%%%%%%%%%%%%%%%%\n",
      "                 ###############      %%%%%%%%%%%%%%%%%%%%%%%%\n",
      "                ##################     %%%%%%%%%%%%%%%%%%%%%%%\n",
      "                ###################     %%%%%%%%%%%%%%%%%%%%%%%\n",
      "                ####################     %%%%%%%%%%%%%%%%%%%%%%\n",
      "                #####################     %%%%%%%%%%%%%%%%%%%%%\n",
      "                ######################     %%%%%%%%%%%%%%%%%%%%\n",
      "                #######################     %%%%%%%%%%%%%%%%%%\n",
      "                 #######################     %%%%%%%%%%%%%%%%%\n",
      "                 ######################     %%%%%%%%%%%%%%%%%\n",
      "                  ####################     %%%%%%%%%%%%%%%%%\n",
      "                    #################     %%%%%%%%%%%%%%%%%\n",
      "                     ###############     %%%%%%%%%%%%%%%%\n",
      "                       ############     %%%%%%%%%%%%%%%\n",
      "                          ########     %%%%%%%%%%%%%%\n",
      "                                      %%%%%%%%%%%\n",
      "\n",
      "                   | The OpenMC Monte Carlo Code\n",
      "         Copyright | 2011-2021 MIT and OpenMC contributors\n",
      "           License | https://docs.openmc.org/en/latest/license.html\n",
      "           Version | 0.12.2\n",
      "          Git SHA1 | cbfcf908f8abdc1ef6603f67872dcf64c5c657b1\n",
      "         Date/Time | 2021-06-15 16:28:25\n",
      "    OpenMP Threads | 12\n",
      "\n",
      " Reading settings XML file...\n",
      " Reading cross sections XML file...\n",
      " Reading materials XML file...\n",
      " Reading geometry XML file...\n",
      " Reading U235 from /opt/data/hdf5/nndc_hdf5_v15/U235.h5\n",
      " Reading H1 from /opt/data/hdf5/nndc_hdf5_v15/H1.h5\n",
      " Reading O16 from /opt/data/hdf5/nndc_hdf5_v15/O16.h5\n",
      " Minimum neutron data temperature: 294.0 K\n",
      " Maximum neutron data temperature: 294.0 K\n",
      " Reading tallies XML file...\n",
      " Preparing distributed cell instances...\n",
      " Writing summary.h5 file...\n",
      " Maximum neutron transport energy: 20000000.0 eV for U235\n",
      " Initializing source particles...\n",
      "\n",
      " ====================>     K EIGENVALUE SIMULATION     <====================\n",
      "\n",
      "  Bat./Gen.      k            Average k\n",
      "  =========   ========   ====================\n",
      "        1/1    0.24098\n",
      "        2/1    0.21492\n",
      "        3/1    0.21007\n",
      "        4/1    0.21650\n",
      "        5/1    0.20297\n",
      "        6/1    0.20552\n",
      "        7/1    0.20198    0.20375 +/- 0.00177\n",
      "        8/1    0.21231    0.20660 +/- 0.00303\n",
      "        9/1    0.19424    0.20351 +/- 0.00376\n",
      "       10/1    0.20340    0.20349 +/- 0.00291\n",
      "       11/1    0.20235    0.20330 +/- 0.00239\n",
      "       12/1    0.20565    0.20364 +/- 0.00204\n",
      "       13/1    0.21515    0.20508 +/- 0.00228\n",
      "       14/1    0.21415    0.20608 +/- 0.00225\n",
      "       15/1    0.19936    0.20541 +/- 0.00212\n",
      "       16/1    0.21481    0.20627 +/- 0.00210\n",
      "       17/1    0.22121    0.20751 +/- 0.00229\n",
      "       18/1    0.21317    0.20795 +/- 0.00215\n",
      "       19/1    0.19631    0.20711 +/- 0.00216\n",
      "       20/1    0.20903    0.20724 +/- 0.00201\n",
      "       21/1    0.20843    0.20732 +/- 0.00188\n",
      "       22/1    0.20758    0.20733 +/- 0.00177\n",
      "       23/1    0.20702    0.20732 +/- 0.00167\n",
      "       24/1    0.20964    0.20744 +/- 0.00158\n",
      "       25/1    0.20801    0.20747 +/- 0.00150\n",
      " Creating state point statepoint.25.h5...\n",
      "\n",
      " =======================>     TIMING STATISTICS     <=======================\n",
      "\n",
      " Total time for initialization     = 4.7180e-01 seconds\n",
      "   Reading cross sections          = 4.5829e-01 seconds\n",
      " Total time in simulation          = 5.6116e+00 seconds\n",
      "   Time in transport only          = 5.3339e+00 seconds\n",
      "   Time in inactive batches        = 8.6052e-01 seconds\n",
      "   Time in active batches          = 4.7511e+00 seconds\n",
      "   Time synchronizing fission bank = 4.9694e-02 seconds\n",
      "     Sampling source sites         = 4.7703e-02 seconds\n",
      "     SEND/RECV source sites        = 1.9507e-03 seconds\n",
      "   Time accumulating tallies       = 1.9557e-01 seconds\n",
      "   Time writing statepoints        = 3.9933e-03 seconds\n",
      " Total time for finalization       = 5.9375e-04 seconds\n",
      " Total time elapsed                = 6.1034e+00 seconds\n",
      " Calculation Rate (inactive)       = 58104.4 particles/second\n",
      " Calculation Rate (active)         = 42095.5 particles/second\n",
      "\n",
      " ============================>     RESULTS     <============================\n",
      "\n",
      " k-effective (Collision)     = 0.20881 +/- 0.00110\n",
      " k-effective (Track-length)  = 0.20747 +/- 0.00150\n",
      " k-effective (Absorption)    = 0.20813 +/- 0.00159\n",
      " Combined k-effective        = 0.20898 +/- 0.00115\n",
      " Leakage Fraction            = 0.89048 +/- 0.00078\n",
      "\n"
     ]
    }
   ],
   "source": [
    "openmc.run()"
   ]
  },
  {
   "cell_type": "markdown",
   "metadata": {},
   "source": [
    "Now that the simulation is finished, we need to pull the resulting flux data out of the statepoint file that was produced. Since we only have a single score and a single filter, this is especially easy because we can just take the `.mean` attribute of a `Tally` object and flatten it using the `ravel()` method for numpy arrays. While we're at it, we'll get a Pandas dataframe to see what the results look like."
   ]
  },
  {
   "cell_type": "code",
   "execution_count": 10,
   "metadata": {},
   "outputs": [
    {
     "name": "stdout",
     "output_type": "stream",
     "text": [
      "   level 1      level 2       level 3      distribcell nuclide score     mean  \\\n",
      "      univ cell     lat          univ cell                                      \n",
      "        id   id      id  x  y      id   id                                      \n",
      "0        4    4       3  0 -2       1    1           0   total  flux 3.71e-02   \n",
      "1        4    4       3  1 -2       1    1           1   total  flux 4.00e-02   \n",
      "2        4    4       3  2 -2       1    1           2   total  flux 3.46e-02   \n",
      "3        4    4       3 -1 -1       1    1           3   total  flux 3.97e-02   \n",
      "4        4    4       3  0 -1       1    1           4   total  flux 4.73e-02   \n",
      "5        4    4       3  1 -1       1    1           5   total  flux 4.79e-02   \n",
      "6        4    4       3  2 -1       1    1           6   total  flux 3.99e-02   \n",
      "7        4    4       3 -2  0       1    1           7   total  flux 3.62e-02   \n",
      "8        4    4       3 -1  0       1    1           8   total  flux 4.83e-02   \n",
      "9        4    4       3  0  0       1    1           9   total  flux 5.13e-02   \n",
      "10       4    4       3  1  0       1    1          10   total  flux 4.79e-02   \n",
      "11       4    4       3  2  0       1    1          11   total  flux 3.49e-02   \n",
      "12       4    4       3 -2  1       1    1          12   total  flux 4.12e-02   \n",
      "13       4    4       3 -1  1       1    1          13   total  flux 4.74e-02   \n",
      "14       4    4       3  0  1       1    1          14   total  flux 4.81e-02   \n",
      "15       4    4       3  1  1       1    1          15   total  flux 4.09e-02   \n",
      "16       4    4       3 -2  2       1    1          16   total  flux 3.77e-02   \n",
      "17       4    4       3 -1  2       1    1          17   total  flux 3.96e-02   \n",
      "18       4    4       3  0  2       1    1          18   total  flux 3.69e-02   \n",
      "\n",
      "   std. dev.  \n",
      "              \n",
      "              \n",
      "0   4.11e-04  \n",
      "1   6.21e-04  \n",
      "2   5.68e-04  \n",
      "3   5.90e-04  \n",
      "4   5.93e-04  \n",
      "5   4.61e-04  \n",
      "6   3.57e-04  \n",
      "7   3.91e-04  \n",
      "8   4.51e-04  \n",
      "9   4.54e-04  \n",
      "10  4.58e-04  \n",
      "11  6.19e-04  \n",
      "12  5.54e-04  \n",
      "13  5.99e-04  \n",
      "14  4.38e-04  \n",
      "15  4.50e-04  \n",
      "16  3.89e-04  \n",
      "17  4.67e-04  \n",
      "18  3.21e-04  \n"
     ]
    }
   ],
   "source": [
    "with openmc.StatePoint('statepoint.25.h5') as sp:\n",
    "    # Get the Tally object\n",
    "    t = sp.tallies[1]\n",
    "    \n",
    "    # Get the mean value of the flux for each instance of the fuel cell as a flattened (1D) numpy array\n",
    "    flux = t.mean.ravel()\n",
    "    \n",
    "    # Show a Pandas dataframe\n",
    "    df = t.get_pandas_dataframe()    \n",
    "    print(df)"
   ]
  },
  {
   "cell_type": "markdown",
   "metadata": {},
   "source": [
    "Now it's time to actually try to plot the data. There's no \"easy\" way to do this, but the technique we'll use is to loop over a bunch of (x, y, z) points, determine what cell/instance corresponds to each point, and create a 2D array with the flux values where the cell/instance matches one of the bins of our tally. First, let's set the resolution of our desired image and create an array of the appropriate size filled in with \"null\" values indicated by `np.nan` (matplotlib won't plot data anywhere it sees nan values). When an (x, y, z) point corresponds to a cell/instance that we tallied, we'll set the corresponding pixel in the image."
   ]
  },
  {
   "cell_type": "code",
   "execution_count": 11,
   "metadata": {},
   "outputs": [],
   "source": [
    "resolution = (600, 600)\n",
    "img = np.full(resolution, np.nan)\n",
    "xmin, xmax = -3., 3.\n",
    "ymin, ymax = -3., 3."
   ]
  },
  {
   "cell_type": "markdown",
   "metadata": {},
   "source": [
    "In order to determine the cell/instance for a given (x, y, z) point, we need to use the `find_cell` function from `openmc.lib`. Calls to `find_cell` return a tuple of two values, a `Cell` object and distribcell index that can be used to determine the appropriate bin from the tally. Note that we actually have to initialize the OpenMC library (which reads the XML files) in order to use this function. We'll use the `run_in_memory()` context manager, which will call `openmc.lib.init()` and `openmc.lib.finalize()` before and after the `with` block, respectively."
   ]
  },
  {
   "cell_type": "code",
   "execution_count": 12,
   "metadata": {},
   "outputs": [],
   "source": [
    "with openmc.lib.run_in_memory():\n",
    "    for row, y in enumerate(np.linspace(ymin, ymax, resolution[0])):\n",
    "        for col, x in enumerate(np.linspace(xmin, xmax, resolution[1])):\n",
    "            try:\n",
    "                # For each (x, y, z) point, determine the cell and distribcell index\n",
    "                cell, distribcell_index = openmc.lib.find_cell((x, y, 0.))\n",
    "            except openmc.exceptions.GeometryError:\n",
    "                # If a point appears outside the geometry, you'll get a GeometryError exception.\n",
    "                # These lines catch the exception and continue on\n",
    "                continue\n",
    "\n",
    "            if cell.id == fuel_cell.id:\n",
    "                # When the cell ID matches, we set the corresponding pixel in the image using the\n",
    "                # distribcell index. Note that we're taking advantage of the fact that the i-th element\n",
    "                # in the flux array corresponds to the i-th distribcell instance.\n",
    "                img[row, col] = flux[distribcell_index]\n"
   ]
  },
  {
   "cell_type": "markdown",
   "metadata": {},
   "source": [
    "Now plot the image. Because we looped over y values from the bottom to top, we need to specify that the origin corresponds to the lower-left corner rather than the upper-left corner. We'll also set a few optional arguments to make the plot nicer."
   ]
  },
  {
   "cell_type": "code",
   "execution_count": 13,
   "metadata": {},
   "outputs": [
    {
     "data": {
      "text/plain": [
       "<matplotlib.colorbar.Colorbar at 0x152845135460>"
      ]
     },
     "execution_count": 13,
     "metadata": {},
     "output_type": "execute_result"
    },
    {
     "data": {
      "image/png": "[encoded data removed]",
      "text/plain": [
       "<Figure size 432x288 with 2 Axes>"
      ]
     },
     "metadata": {
      "needs_background": "light"
     },
     "output_type": "display_data"
    }
   ],
   "source": [
    "options = {\n",
    "    'origin': 'lower',\n",
    "    'extent': (xmin, xmax, ymin, ymax),\n",
    "    'vmin': 0.03,\n",
    "    'vmax': 0.06,\n",
    "    'cmap': 'RdYlBu_r',\n",
    "}\n",
    "plt.imshow(img, **options)\n",
    "plt.xlabel('x [cm]')\n",
    "plt.ylabel('y [cm]')\n",
    "plt.colorbar()"
   ]
  },
  {
   "cell_type": "markdown",
   "metadata": {},
   "source": [
    "Success! As expected, the highest flux is observed in the center of the model."
   ]
  },
  {
   "cell_type": "markdown",
   "metadata": {},
   "source": [
    "## Cell Instance Filters\n",
    "\n",
    "This same technique can be used with a `CellInstanceFilter` with a slight modification. With a `CellInstanceFilter`, we cannot assume the index in the flux array will corresponding directly to the distribcell index. As such, we'll need to create mapping of the distribcell index to the flux array index. Let's go through such an example. First, let's create a new tally with a `CellInstanceFilter` that requests every other instance of the fuel cell rather than all of them (as is the default for a `DistribcellFilter`):"
   ]
  },
  {
   "cell_type": "code",
   "execution_count": 14,
   "metadata": {},
   "outputs": [],
   "source": [
    "# Create a cell instance\n",
    "cell_instances = [(fuel_cell, i) for i in range(0, 18, 2)]\n",
    "cellinst_filter = openmc.CellInstanceFilter(cell_instances)\n",
    "\n",
    "instance_tally = openmc.Tally()\n",
    "instance_tally.filters = [cellinst_filter]\n",
    "instance_tally.scores = ['flux']\n",
    "\n",
    "# Add to existing Tallies object and re-export\n",
    "tallies.append(instance_tally)\n",
    "tallies.export_to_xml()"
   ]
  },
  {
   "cell_type": "markdown",
   "metadata": {},
   "source": [
    "Let's re-run OpenMC to generate a new statepoint and get the results from the statepoint as before:"
   ]
  },
  {
   "cell_type": "code",
   "execution_count": 15,
   "metadata": {},
   "outputs": [
    {
     "name": "stdout",
     "output_type": "stream",
     "text": [
      "  cellinstance          nuclide score     mean std. dev.\n",
      "          cell instance                                 \n",
      "0            1        0   total  flux 3.71e-02  4.11e-04\n",
      "1            1        2   total  flux 3.46e-02  5.68e-04\n",
      "2            1        4   total  flux 4.73e-02  5.93e-04\n",
      "3            1        6   total  flux 3.99e-02  3.57e-04\n",
      "4            1        8   total  flux 4.83e-02  4.51e-04\n",
      "5            1       10   total  flux 4.79e-02  4.58e-04\n",
      "6            1       12   total  flux 4.12e-02  5.54e-04\n",
      "7            1       14   total  flux 4.81e-02  4.38e-04\n",
      "8            1       16   total  flux 3.77e-02  3.89e-04\n"
     ]
    }
   ],
   "source": [
    "openmc.run(output=False)\n",
    "\n",
    "with openmc.StatePoint('statepoint.25.h5') as sp:\n",
    "    t = sp.tallies[2]\n",
    "    flux_inst = t.mean.ravel()\n",
    "    \n",
    "    df = t.get_pandas_dataframe()\n",
    "    print(df)"
   ]
  },
  {
   "cell_type": "markdown",
   "metadata": {},
   "source": [
    "We see that in this case, the i-th value in the array of fluxes is **not** the i-th distribcell instance, so we need to create a dictionary mapping the instance to the index to be used later when plotting."
   ]
  },
  {
   "cell_type": "code",
   "execution_count": 16,
   "metadata": {},
   "outputs": [
    {
     "name": "stdout",
     "output_type": "stream",
     "text": [
      "{0: 0,\n",
      " 2: 1,\n",
      " 4: 2,\n",
      " 6: 3,\n",
      " 8: 4,\n",
      " 10: 5,\n",
      " 12: 6,\n",
      " 14: 7,\n",
      " 16: 8}\n"
     ]
    }
   ],
   "source": [
    "instance = df['cellinstance']['instance']\n",
    "instance_to_index = dict(zip(instance.values, instance.index))\n",
    "pprint(instance_to_index, width=1)"
   ]
  },
  {
   "cell_type": "markdown",
   "metadata": {},
   "source": [
    "The code for plotting will look exactly the same, except that when we set `img[row, col]` we first need to use the `instance_to_index` mapping to determine the appropriate index:"
   ]
  },
  {
   "cell_type": "code",
   "execution_count": 17,
   "metadata": {},
   "outputs": [
    {
     "data": {
      "text/plain": [
       "<matplotlib.colorbar.Colorbar at 0x152844ffb4f0>"
      ]
     },
     "execution_count": 17,
     "metadata": {},
     "output_type": "execute_result"
    },
    {
     "data": {
      "image/png": "[encoded data removed]",
      "text/plain": [
       "<Figure size 432x288 with 2 Axes>"
      ]
     },
     "metadata": {
      "needs_background": "light"
     },
     "output_type": "display_data"
    }
   ],
   "source": [
    "img[:] = np.nan\n",
    "with openmc.lib.run_in_memory():\n",
    "    for row, y in enumerate(np.linspace(ymin, ymax, resolution[0])):\n",
    "        for col, x in enumerate(np.linspace(xmin, xmax, resolution[1])):\n",
    "            try:\n",
    "                # For each (x, y, z) point, determine the cell and distribcell index\n",
    "                cell, distribcell_index = openmc.lib.find_cell((x, y, 0.))\n",
    "            except openmc.exceptions.GeometryError:\n",
    "                # If a point appears outside the geometry, you'll get a GeometryError exception.\n",
    "                # These lines catch the exception and assign a \"null\" value for the array\n",
    "                continue\n",
    "\n",
    "            if cell.id == fuel_cell.id:\n",
    "                # When the cell ID matches, we set the corresponding pixel in the image using the\n",
    "                # distribcell index. NOTE: In this case, we need to use the dictionary to find the\n",
    "                # proper index in the flux array\n",
    "                index = instance_to_index.get(distribcell_index)\n",
    "                if index is not None:\n",
    "                    # If the distribcell instance was specified in our filter, get the flux value\n",
    "                    img[row, col] = flux_inst[index]\n",
    "\n",
    "# Plot the image using the same options as before. Notably, this ensures that the colors are consistent.\n",
    "plt.imshow(img, **options)\n",
    "plt.xlabel('x [cm]')\n",
    "plt.ylabel('y [cm]')\n",
    "plt.colorbar()"
   ]
  }
 ],
 "metadata": {
  "anaconda-cloud": {},
  "kernelspec": {
   "display_name": "Python 3",
   "language": "python",
   "name": "python3"
  },
  "language_info": {
   "codemirror_mode": {
    "name": "ipython",
    "version": 3
   },
   "file_extension": ".py",
   "mimetype": "text/x-python",
   "name": "python",
   "nbconvert_exporter": "python",
   "pygments_lexer": "ipython3",
   "version": "3.8.3"
  }
 },
 "nbformat": 4,
 "nbformat_minor": 1
}