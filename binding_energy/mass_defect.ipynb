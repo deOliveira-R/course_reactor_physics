{
 "cells": [
  {
   "cell_type": "markdown",
   "metadata": {},
   "source": [
    "# Mass Defect\n",
    "\n",
    "Source of constants\n",
    "- 2018 CODATA recommended values\n",
    "\n",
    "Source of mass\n",
    "- https://physics.nist.gov/cgi-bin/Compositions/stand_alone.pl\n",
    "- https://www.nndc.bnl.gov/nudat3/"
   ]
  },
  {
   "cell_type": "code",
   "execution_count": 13,
   "metadata": {},
   "outputs": [],
   "source": [
    "import numpy as np\n",
    "\n",
    "kg_per_Da = 1.66053906660E-27\n",
    "J_per_Da = 1.49241808560E-10\n",
    "MeV_per_Da = 931.49410242\n",
    "J_per_MeV = 1.602176634E-13\n",
    "\n",
    "\n",
    "def m_to_s(m):\n",
    "    return m*60\n",
    "\n",
    "\n",
    "def h_to_s(h):\n",
    "    return h*m_to_s(60)\n",
    "\n",
    "\n",
    "def d_to_s(d):\n",
    "    return d*h_to_s(24)\n",
    "\n",
    "\n",
    "def y_to_s(y):\n",
    "    return y*d_to_s(365.25)\n",
    "\n",
    "\n",
    "def mean_t_to_lambda(meant_t):\n",
    "    return 1/meant_t\n",
    "\n",
    "\n",
    "def mean_t_to_half_life(mean_t):\n",
    "    return -np.log(1/2)*mean_t\n",
    "\n",
    "\n",
    "def half_life_to_lambda(half_life):\n",
    "    return -np.log(1/2)/half_life\n",
    "\n",
    "\n",
    "class Particle:\n",
    "    def __init__(self, name, mass, stable=True, mean_lifetime=None):\n",
    "        self.name = name\n",
    "        self.mass = mass\n",
    "        self.stable = stable\n",
    "        self.mean_lifetime = mean_lifetime\n",
    "\n",
    "\n",
    "# Eventually we add Hadron and Fermion class with properties for inheritance\n",
    "# but it's not relevant at the moment\n",
    "class Baryon(Particle):\n",
    "    def __init__(self, A, Z, name, mass, stable=True, mean_lifetime=None):\n",
    "        Particle.__init__(self, name, mass, stable, mean_lifetime)\n",
    "        self.Z = Z\n",
    "        self.A = A\n",
    "        self.N = self.A - self.Z\n",
    "\n",
    "    def mass_excess(self):\n",
    "        return self.mass - 1\n",
    "\n",
    "\n",
    "class Lepton(Particle):\n",
    "    def __init__(self, name, mass, stable=True, mean_lifetime=None):\n",
    "        Particle.__init__(self, name, mass, stable, mean_lifetime)\n",
    "        # add then some other stuff specific to Leptons\n",
    "\n",
    "\n",
    "class Nuclide:\n",
    "    def __init__(self, A, Z, E, name, mass, half_life=None, daughter=None, fy=None):\n",
    "        self.A = A\n",
    "        self.Z = Z\n",
    "        self.E = E\n",
    "        self.N = self.A - self.Z\n",
    "        self.name = name\n",
    "        self.mass = mass\n",
    "\n",
    "        self.half_life = half_life\n",
    "\n",
    "        # both attributes should be replaced by decay modes with branch\n",
    "        self.daughter = daughter\n",
    "        self.fy = fy\n",
    "\n",
    "    def predicted_mass(self):\n",
    "        return self.Z * H1.mass + self.N * neutron.mass\n",
    "\n",
    "    def mass_defect(self):\n",
    "        return self.predicted_mass() - self.mass\n",
    "\n",
    "    def mass_defect_nucleon(self):\n",
    "        return self.mass_defect() / self.A\n",
    "\n",
    "    def binding_energy(self):\n",
    "        return self.mass_defect() * MeV_per_Da\n",
    "\n",
    "    def binding_energy_nucleon(self):\n",
    "        return self.mass_defect_nucleon() * MeV_per_Da\n",
    "\n",
    "    def mass_excess(self):\n",
    "        return self.mass - self.A\n",
    "\n",
    "    def report_data(self):\n",
    "        print(f\"{self.name.capitalize()} data:\")\n",
    "        print(\"Predicted mass:\", self.predicted_mass())\n",
    "        print(\"Mass defect:\", self.mass_defect())\n",
    "        print(\"MDN:\", self.mass_defect_nucleon())\n",
    "        print(\"BEN:\", self.binding_energy_nucleon())\n",
    "        print(\"Mass excess:\", self.mass_excess(), '\\n')\n",
    "\n",
    "    def decay_mass(self):\n",
    "        # getattr(self, 'name')\n",
    "        return self.mass - globals()[self.daughter].mass\n",
    "\n",
    "    def Q_beta(self):\n",
    "        return self.decay_mass() * MeV_per_Da\n",
    "\n",
    "\n",
    "proton = Baryon(1, 1, 'proton', 1.007276466621)\n",
    "neutron = Baryon(1, 0, 'neutron', 1.00866491588, stable=False, mean_lifetime=879.4)\n",
    "\n",
    "electron = Lepton('electron', 0.000548579909070)\n",
    "\n",
    "H1 = Nuclide(1, 1, 'H', 'hydrogen', 1.00782503223)\n",
    "\n",
    "U238 = Nuclide(238, 92, 'U', 'uranium', 238.0507883)\n",
    "U236 = Nuclide(236, 92, 'U', 'uranium', 236.045568)\n",
    "U235 = Nuclide(235, 92, 'U', 'uranium', 235.0439299)\n",
    "\n",
    "Rn222 = Nuclide(222, 86, 'Rn', 'radon', 222.0175763)\n",
    "\n",
    "Ce140 = Nuclide(140, 58, 'Ce', 'cerium', 139.9054387)\n",
    "\n",
    "La140 = Nuclide(140, 57, 'La', 'lanthanum', 139.9094776, half_life=d_to_s(1.6781), daughter='Ce140')\n",
    "\n",
    "Ba141 = Nuclide(141, 56, 'Ba', 'barium', 140.914411, half_life=m_to_s(18.27), daughter='La141')\n",
    "Ba140 = Nuclide(140, 56, 'Ba', 'barium', 139.910605, half_life=d_to_s(12.752), daughter='La140')\n",
    "\n",
    "Cs135 = Nuclide(135, 55, 'Cs', 'cesium', 134.9059770)\n",
    "Cs133 = Nuclide(133, 55, 'Cs', 'cesium', 132.905451933)\n",
    "\n",
    "Xe135 = Nuclide(135, 54, 'Xe', 'Xenon', 134.907227, half_life=h_to_s(9.14), daughter='Cs135')\n",
    "Xe131 = Nuclide(131, 54, 'Xe', 'Xenon', 130.9050824)\n",
    "\n",
    "I135 = Nuclide(135, 53, 'I', 'iodine', 134.910048, half_life=h_to_s(6.57), daughter='Xe135')\n",
    "I131 = Nuclide(131, 53, 'I', 'iodine', 130.9061246, half_life=d_to_s(8.02070), daughter='Xe131')\n",
    "\n",
    "Tc99m = Nuclide(99, 43, 'Tc', 'technetium', 98.9062547, half_life=h_to_s(6.01), daughter='Tc99')\n",
    "\n",
    "Mo99 = Nuclide(99, 42, 'Mo', 'molybdenum', 98.9077119, half_life=h_to_s(65.94), daughter='Tc99m')\n",
    "\n",
    "Zr96 = Nuclide(96, 40, 'Zr', 'zirconium', 95.9082734)\n",
    "Zr92 = Nuclide(92, 40, 'Zr', 'zirconium', 91.9050408)\n",
    "\n",
    "Y92 = Nuclide(92, 39, 'Y', 'yttrium', 91.908949, half_life=h_to_s(3.54), daughter='Zr92')\n",
    "\n",
    "Sr92 = Nuclide(92, 38, 'Sr', 'strontium', 91.911038, half_life=h_to_s(2.66), daughter='Y92')\n",
    "\n",
    "Rb92 = Nuclide(92, 37, 'Rb', 'rubidium', 91.919729, half_life=4.492, daughter='Sr92')\n",
    "\n",
    "Kr92 = Nuclide(92, 36, 'Kr', 'kryptonium', 91.926156, half_life=1.840, daughter='Rb92')\n",
    "\n",
    "Fe56 = Nuclide(56, 26, 'Fe', 'iron', 55.9349375)"
   ]
  },
  {
   "cell_type": "markdown",
   "source": [
    "These are to demonstrate the impact that ignoring an electron has by using the\n",
    "proton, instead of hydrogen, when calculating on the mass defect calculation.\n",
    "To demonstrate, we define a few functions that are analogue to the correct\n",
    "functions defined in the beginning. These wrong functions are the _noe (as in\n",
    "\"no electron\") below, where we use a proton instead of hydrogen."
   ],
   "metadata": {
    "collapsed": false,
    "pycharm": {
     "name": "#%% md\n"
    }
   }
  },
  {
   "cell_type": "code",
   "execution_count": 14,
   "outputs": [],
   "source": [
    "def predicted_mass_noe(nuc):\n",
    "    return nuc.Z*proton.mass + nuc.N*neutron.mass\n",
    "\n",
    "\n",
    "def mass_defect_noe(nuc):\n",
    "    return predicted_mass_noe(nuc) - nuc.mass\n",
    "\n",
    "\n",
    "def mass_defect_nucleon_noe(nuc):\n",
    "    return mass_defect_noe(nuc)/nuc.A\n",
    "\n",
    "\n",
    "def binding_energy_nucleon_noe(nuc):\n",
    "    return mass_defect_nucleon_noe(nuc)*MeV_per_Da\n",
    "\n",
    "\n",
    "def report_data_wrong(nuc):\n",
    "    print(f\"{nuc.name.capitalize()} data (WRONG!):\")\n",
    "    print(\"Predicted mass:\", predicted_mass_noe(nuc))\n",
    "    print(\"Mass defect:\", mass_defect_noe(nuc))\n",
    "    print(\"MDN:\", mass_defect_nucleon_noe(nuc))\n",
    "    print(\"BEN:\", binding_energy_nucleon_noe(nuc), '\\n')"
   ],
   "metadata": {
    "collapsed": false,
    "pycharm": {
     "name": "#%%\n"
    }
   }
  },
  {
   "cell_type": "code",
   "execution_count": 15,
   "outputs": [
    {
     "name": "stdout",
     "output_type": "stream",
     "text": [
      "Uranium data (WRONG!):\n",
      "Predicted mass: 236.908517899972\n",
      "Mass defect: 1.8645879999720023\n",
      "MDN: 0.007934417021157457\n",
      "BEN: 7.390862661349035 \n",
      "\n",
      "Uranium data:\n",
      "Predicted mass: 236.958985936\n",
      "Mass defect: 1.91505603600001\n",
      "MDN: 0.008149174621276638\n",
      "BEN: 7.590908099309925\n",
      "Mass excess: 0.04392989999999486 \n",
      "\n",
      "The correct value, given by NuDat3, is 7.5909155 MeV\n",
      "\n",
      "Iron data:\n",
      "Predicted mass: 56.46339831438\n",
      "Mass defect: 0.5284608143800043\n",
      "MDN: 0.009436800256785791\n",
      "BEN: 8.790323784911505\n",
      "Mass excess: -0.06506250000000335 \n",
      "\n"
     ]
    }
   ],
   "source": [
    "report_data_wrong(U235)\n",
    "U235.report_data()\n",
    "\n",
    "print(\"The correct value, given by NuDat3, is 7.5909155 MeV\\n\")\n",
    "\n",
    "Fe56.report_data()"
   ],
   "metadata": {
    "collapsed": false,
    "pycharm": {
     "name": "#%%\n"
    }
   }
  },
  {
   "cell_type": "markdown",
   "source": [
    "Reaction data"
   ],
   "metadata": {
    "collapsed": false,
    "pycharm": {
     "name": "#%% md\n"
    }
   }
  },
  {
   "cell_type": "code",
   "execution_count": 16,
   "outputs": [],
   "source": [
    "def capture_mass(capturing, captured):\n",
    "    return (capturing.mass_excess() + neutron.mass_excess()) - captured.mass_excess()\n",
    "\n",
    "\n",
    "def Q_capture(capturing, captured):\n",
    "    return capture_mass(capturing, captured)*MeV_per_Da\n",
    "\n",
    "\n",
    "def fission_multiplicity(fissile, product1, product2):\n",
    "    return (fissile.A + 1) - (product1.A + product2.A)\n",
    "\n",
    "\n",
    "def fission_mass(fissile, product1, product2):\n",
    "    \"\"\"\n",
    "    Excess mass can be used because a nuclear reaction conserves nucleons, so\n",
    "    M = Au + deltaMass, but Au is the same in both sides, so only deltas are left\n",
    "\n",
    "    Using mass excess, we deal with smaller values\n",
    "    \"\"\"\n",
    "    n_released = fission_multiplicity(fissile, product1, product2)\n",
    "\n",
    "    mass_released = (fissile.mass_excess() + neutron.mass_excess()) \\\n",
    "                   - (product1.mass_excess() + product2.mass_excess() + n_released*neutron.mass_excess())\n",
    "\n",
    "    return mass_released\n",
    "\n",
    "\n",
    "def Q_fission(fissile, product1, product2):\n",
    "    return fission_mass(fissile, product1, product2)*MeV_per_Da"
   ],
   "metadata": {
    "collapsed": false,
    "pycharm": {
     "name": "#%%\n"
    }
   }
  },
  {
   "cell_type": "code",
   "execution_count": 17,
   "outputs": [
    {
     "name": "stdout",
     "output_type": "stream",
     "text": [
      "U235 (n,f) Mo99 + I135\n",
      "Neutrons released:  2\n",
      "Mass converted:  0.21750508412001035\n",
      "fission Q:  202.60470310415565 \n",
      "\n",
      "U235 (n,f) Rb92 + Ba141\n",
      "Neutrons released:  3\n",
      "Mass converted:  0.19246006823998973\n",
      "fission Q:  179.2754185169012 \n",
      "\n",
      "U235 (n,gamma) U236\n",
      "Mass converted:  0.007026815879991988\n",
      "capture Q:  6.545437551003739 \n",
      "\n",
      "Kr92 beta decay\n",
      "Mass converted:  0.006427000000002181\n",
      "Q beta:  5.986712596255371 \n",
      "\n",
      "Rb92 decay\n",
      "Mass converted:  0.008690999999998894\n",
      "Q beta:  8.09561524413119 \n",
      "\n",
      "Sr92 decay\n",
      "Mass converted:  0.002088999999998009\n",
      "Energy released:  1.9458911799535255 \n",
      "\n",
      "Y92 decay\n",
      "Mass converted:  0.00390820000001213\n",
      "Energy released:  3.6404652510891427 \n",
      "\n"
     ]
    }
   ],
   "source": [
    "print('U235 (n,f) Mo99 + I135')\n",
    "print('Neutrons released: ', fission_multiplicity(U235, Mo99, I135))\n",
    "print('Mass converted: ', fission_mass(U235, Mo99, I135))\n",
    "print('fission Q: ', Q_fission(U235, Mo99, I135), '\\n')\n",
    "\n",
    "print('U235 (n,f) Rb92 + Ba141')\n",
    "print('Neutrons released: ', fission_multiplicity(U235, Rb92, Ba141))\n",
    "print('Mass converted: ', fission_mass(U235, Rb92, Ba141))\n",
    "print('fission Q: ', Q_fission(U235, Rb92, Ba141), '\\n')\n",
    "\n",
    "print('U235 (n,gamma) U236')\n",
    "print('Mass converted: ', capture_mass(U235, U236))\n",
    "print('capture Q: ', Q_capture(U235, U236), '\\n')\n",
    "\n",
    "print('Kr92 beta decay')\n",
    "print('Mass converted: ', Kr92.decay_mass())\n",
    "print('Q beta: ', Kr92.Q_beta(), '\\n')\n",
    "\n",
    "print('Rb92 decay')\n",
    "print('Mass converted: ', Rb92.decay_mass())\n",
    "print('Q beta: ', Rb92.Q_beta(), '\\n')\n",
    "\n",
    "print('Sr92 decay')\n",
    "print('Mass converted: ', Sr92.decay_mass())\n",
    "print('Energy released: ', Sr92.Q_beta(), '\\n')\n",
    "\n",
    "print('Y92 decay')\n",
    "print('Mass converted: ', Y92.decay_mass())\n",
    "print('Energy released: ', Y92.Q_beta(), '\\n')"
   ],
   "metadata": {
    "collapsed": false,
    "pycharm": {
     "name": "#%%\n"
    }
   }
  },
  {
   "cell_type": "markdown",
   "source": [
    "3 GW reactor example"
   ],
   "metadata": {
    "collapsed": false,
    "pycharm": {
     "name": "#%% md\n"
    }
   }
  },
  {
   "cell_type": "code",
   "execution_count": 18,
   "outputs": [
    {
     "name": "stdout",
     "output_type": "stream",
     "text": [
      "Produces:  9.362263611691144e+19  fissions/second\n",
      "Converts:  2.010160576949792e+19  Da/second\n",
      "Converts:  3.337950168164325e-08  kg/second\n",
      "Converts:  1.0526559650323015  kg/year\n"
     ]
    }
   ],
   "source": [
    "power = 3E9  # W\n",
    "average_fission_energy = 200  # MeV\n",
    "fission_rate = power / (average_fission_energy * J_per_MeV)\n",
    "print('Produces: ', fission_rate, ' fissions/second')\n",
    "\n",
    "Da_per_second = power / J_per_Da\n",
    "kg_per_second = Da_per_second * kg_per_Da\n",
    "print('Converts: ', Da_per_second, ' Da/second')\n",
    "print('Converts: ', kg_per_second, ' kg/second')\n",
    "seconds_per_year = d_to_s(365)\n",
    "kg_per_year = kg_per_second * seconds_per_year\n",
    "print('Converts: ', kg_per_year, ' kg/year')"
   ],
   "metadata": {
    "collapsed": false,
    "pycharm": {
     "name": "#%%\n"
    }
   }
  }
 ],
 "metadata": {
  "kernelspec": {
   "name": "pycharm-43c23681",
   "language": "python",
   "display_name": "PyCharm (course_reactor_physics)"
  },
  "language_info": {
   "codemirror_mode": {
    "name": "ipython",
    "version": 3
   },
   "file_extension": ".py",
   "mimetype": "text/x-python",
   "name": "python",
   "nbconvert_exporter": "python",
   "pygments_lexer": "ipython3",
   "version": "3.7.4"
  }
 },
 "nbformat": 4,
 "nbformat_minor": 2
}