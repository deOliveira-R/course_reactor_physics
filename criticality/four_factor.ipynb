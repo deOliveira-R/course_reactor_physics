{
 "cells": [
  {
   "cell_type": "markdown",
   "metadata": {
    "collapsed": true,
    "pycharm": {
     "name": "#%% md\n"
    }
   },
   "source": [
    "Four-factor formula\n",
    "======================="
   ]
  },
  {
   "cell_type": "code",
   "execution_count": 350,
   "metadata": {
    "pycharm": {
     "name": "#%%\n"
    }
   },
   "outputs": [],
   "source": [
    "from math import pi\n",
    "import matplotlib as mpl\n",
    "import matplotlib.pyplot as plt\n",
    "from matplotlib.ticker import MaxNLocator\n",
    "import numpy as np\n",
    "\n",
    "mpl.style.use('seaborn')\n",
    "\n",
    "N_a = 6.02E23 # atoms/mol"
   ]
  },
  {
   "cell_type": "markdown",
   "source": [
    "Fuel"
   ],
   "metadata": {
    "collapsed": false,
    "pycharm": {
     "name": "#%% md\n"
    }
   }
  },
  {
   "cell_type": "code",
   "execution_count": 351,
   "outputs": [],
   "source": [
    "fuel_rho = 11000  # kg/m3\n",
    "fuel_mm = 0.270  # kg/mol\n",
    "\n",
    "N_fuel = fuel_rho/fuel_mm*N_a  # atoms/m3\n",
    "\n",
    "enrichment = 0.03\n",
    "\n",
    "U235_xs_f = 580\n",
    "U235_xs_c = 107\n",
    "U235_xs_a = U235_xs_f + U235_xs_c\n",
    "U235_nu = 2.43\n",
    "U235_eta = U235_nu*U235_xs_f/U235_xs_a\n",
    "\n",
    "U238_xs_c = 2.75\n",
    "\n",
    "xs_a_fuel = (enrichment * U235_xs_a) + (1 - enrichment)*U238_xs_c"
   ],
   "metadata": {
    "collapsed": false,
    "pycharm": {
     "name": "#%%\n"
    }
   }
  },
  {
   "cell_type": "markdown",
   "source": [
    "Moderator"
   ],
   "metadata": {
    "collapsed": false,
    "pycharm": {
     "name": "#%% md\n"
    }
   }
  },
  {
   "cell_type": "code",
   "execution_count": 352,
   "outputs": [],
   "source": [
    "water_rho = 1000\n",
    "water_mm = 0.018\n",
    "\n",
    "N_mod = water_rho/water_mm*N_a\n",
    "\n",
    "# xs_s_mod = 99.52\n",
    "xs_s_mod = 99.52\n",
    "xs_a_mod = 0.5896\n",
    "\n",
    "led_mod = 0.93\n",
    "# led_mod = 0.4"
   ],
   "metadata": {
    "collapsed": false,
    "pycharm": {
     "name": "#%%\n"
    }
   }
  },
  {
   "cell_type": "markdown",
   "source": [
    "Geometry"
   ],
   "metadata": {
    "collapsed": false,
    "pycharm": {
     "name": "#%% md\n"
    }
   }
  },
  {
   "cell_type": "code",
   "execution_count": 353,
   "outputs": [],
   "source": [
    "fuel_D = 0.01\n",
    "V_m2f = 2/1\n",
    "\n",
    "# This is to try and get geometrical variables later\n",
    "# pin_pitch = 1.25984\n",
    "# fuel = 0.39218\n",
    "# pin = 0.45720\n",
    "\n",
    "# fuel_area = (pi * fuel ** 2)\n",
    "# pin_area = (pi * pin ** 2)\n",
    "# mod_area = (pin_pitch ** 2) - pin_area\n",
    "\n",
    "# fuel_D = 2*fuel /100\n",
    "# V_m2f = mod_area/fuel_area"
   ],
   "metadata": {
    "collapsed": false,
    "pycharm": {
     "name": "#%%\n"
    }
   }
  },
  {
   "cell_type": "markdown",
   "metadata": {
    "pycharm": {
     "name": "#%% md\n"
    }
   },
   "source": [
    "Fast fission $\\epsilon$\n",
    "\n",
    "This is the ratio of total fissions neutrons produced by the neutrons produced\n",
    "just by thermal fission. So if only thermal fissions occur, $\\epsilon = 1$, and\n",
    "increases as the number of fissions happening at high energies increase.\n",
    "\n",
    "Any neutron that does not cause a fission at high energies might survive to\n",
    "cause fission at thermal energies."
   ]
  },
  {
   "cell_type": "code",
   "execution_count": 354,
   "metadata": {
    "pycharm": {
     "name": "#%%\n"
    }
   },
   "outputs": [],
   "source": [
    "eps = 1.024"
   ]
  },
  {
   "cell_type": "markdown",
   "metadata": {
    "pycharm": {
     "name": "#%% md\n"
    }
   },
   "source": [
    "Resonance Escape Probability p\n",
    "\n",
    "The likelihood of the neutron avoiding capture in the fuel resonances by\n",
    "losing energy through scattering in the moderator.\n",
    "\n",
    "$ p = 1 - \\frac{(1 - e)}{\\frac{V_m}{V_f} \\frac{N_m}{N_f} \\xi_m \\sigma_{s, m}}I $\n",
    "\n",
    "Any neutron that did not cause fission at high energy and managed to lose\n",
    "energy through scatter without being absorbed by the fuel resonances might\n",
    "cause fission at thermal energies.\n",
    "\n",
    "To-do:\n",
    "\n",
    "This data comes from data used in homework at Cambridge University. It should\n",
    "be revised to better represent a reactor, which most books indicate a practical\n",
    "value of p $\\approx$ 0.7. We are quite far from that.\n",
    "\n",
    "Add a discussion on homogeneous vs heterogenous reactors and how heterogeneous\n",
    "reactors have higher p due to self-shielding of the fuel."
   ]
  },
  {
   "cell_type": "code",
   "execution_count": 355,
   "outputs": [
    {
     "name": "stdout",
     "output_type": "stream",
     "text": [
      "Method 1, off by 0.025463411851557538\n",
      "Method 2, off by 0.0075661428649773654\n",
      "Method 3, off by 0.08349347630579373\n",
      "0.05236671003668292\n",
      "20.56351775825051\n",
      "0.9209781379004408\n",
      "0.9240197232130833\n"
     ]
    }
   ],
   "source": [
    "def area_over_mass_rod(rho, D):\n",
    "    \"\"\"\n",
    "    For a cylindrical rod, calculates the ratio of the surface area over its mass\n",
    "    Ignores the circles on top and bottom.\n",
    "    Valid for relatively long or thin rod.\n",
    "\n",
    "    2 pi r H / rho pi r2 H = 2 / rho r = 4 / rho D\n",
    "    \"\"\"\n",
    "    return 4/(rho*D)\n",
    "\n",
    "def I_rod_300(mat, AoM):\n",
    "    \"\"\"\n",
    "    Source:\n",
    "     - Glasstone and Sesonske - Nuclear Reactor Engineering, Vol1 Reactor Design Basics, p.180\n",
    "     - E.E. Lewis - Fundamentals of Nuclear Reactor Physics, p.105\n",
    "     - Bell & Gasstone - Nuclear Reactor Theory, p.455\n",
    "\n",
    "    AoM inside of the square root is in m2/kg.\n",
    "    For AoM in cm2/g:\n",
    "     - metal: a, b = 2.95, 25.8\n",
    "     - oxide: a, b = 4.45, 26.6\n",
    "    \"\"\"\n",
    "    coeff =  {'metal': (2.95, 81.5),\n",
    "              'oxide': (4.45, 84.5)}\n",
    "\n",
    "    if isinstance(mat, str):\n",
    "        a, b = coeff[mat]\n",
    "    else:\n",
    "        a, b = mat\n",
    "\n",
    "    return a + b*np.sqrt(AoM)\n",
    "\n",
    "# We are trying to verify here against data given in Bell & Glasstone\n",
    "expected_ver1 = 21.10\n",
    "I_ver11 = I_rod_300((4.45, 26.6), 0.393)\n",
    "print('Method 1, off by', I_ver11 - expected_ver1)\n",
    "# This next method seems closed, so calculating A/M seems better\n",
    "I_ver12 = I_rod_300((4.45, 26.6), area_over_mass_rod(10.2, 1.0))\n",
    "print('Method 2, off by', I_ver12 - expected_ver1)\n",
    "# If we use the values and coefficients in SI, it seems like all the conversion\n",
    "# made it worse\n",
    "I_ver13 = I_rod_300('oxide', area_over_mass_rod(10200, 0.01))\n",
    "print('Method 3, off by', I_ver13 - expected_ver1)\n",
    "\n",
    "expected_ver2 = 16.23\n",
    "I_ver21 = I_rod_300('oxide', area_over_mass_rod(10200, 0.02))\n",
    "print(I_ver21 - expected_ver2)\n",
    "\n",
    "def I_T(I_300, T, beta=6E-3):\n",
    "    \"\"\"\n",
    "    Correlation from both Glasstone books. Default beta from Glasstone and Sesonske.\n",
    "    \"\"\"\n",
    "    return I_300*(1 + beta*(np.sqrt(T) - np.sqrt(300)))\n",
    "\n",
    "\n",
    "def resonance_escape(enrichment, V_m2f, N_mod, N_fuel, led_mod, xs_s_mod, I):\n",
    "    return 1 - (1 - enrichment)/((V_m2f) * (N_mod/N_fuel) * led_mod * xs_s_mod) * I\n",
    "\n",
    "def resonance_escape2(enrichment, V_m2f, N_mod, N_fuel, led_mod, xs_s_mod, I):\n",
    "    return np.exp( - (1 - enrichment)/((V_m2f) * (N_mod/N_fuel) * led_mod * xs_s_mod) * I)\n",
    "\n",
    "I = I_rod_300('oxide',  area_over_mass_rod(fuel_rho, fuel_D))\n",
    "print(I)\n",
    "\n",
    "p = resonance_escape(enrichment, V_m2f, N_mod, N_fuel, led_mod, xs_s_mod, I)\n",
    "print(p)\n",
    "\n",
    "p2 = resonance_escape2(enrichment, V_m2f, N_mod, N_fuel, led_mod, xs_s_mod, I)\n",
    "print(p2)"
   ],
   "metadata": {
    "collapsed": false,
    "pycharm": {
     "name": "#%%\n"
    }
   }
  },
  {
   "cell_type": "markdown",
   "source": [
    "Thermal Utilization Factor f\n",
    "\n",
    "Represents the fraction of thermal neutrons that are absorbed in the fuel.\n",
    "So these are neutrons whose absorption can result in fission, as compared with\n",
    "neutrons absorbed in the moderator that are essentially \"lost neutrons\".\n",
    "\n",
    "$ f = \\frac{1}{1 + \\zeta \\frac{V_m}{V_f} \\frac{N_m}{N_f} \\frac{\\sigma_{a, m}}{\\sigma_{a,f}}} $\n",
    "\n",
    "The thermal disadvantage $ \\zeta $ is the ratio of thermal flux in the\n",
    "moderator to the thermal flux in the fuel. The \"disadvantage\" is that a high\n",
    "flux in the moderator can cause neutrons to be absorbed there instead of being\n",
    "absorbed in the fuel, potentially causing fission.\n",
    "\n",
    "Any neutron that managed to avoid all fuel resonances through scatter in the\n",
    "moderator and managed to avoid capture in the moderator so that it could be\n",
    "absorbed by the fuel might cause thermal fission."
   ],
   "metadata": {
    "collapsed": false,
    "pycharm": {
     "name": "#%% md\n"
    }
   }
  },
  {
   "cell_type": "code",
   "execution_count": 356,
   "outputs": [
    {
     "name": "stdout",
     "output_type": "stream",
     "text": [
      "0.9258124996519875\n"
     ]
    }
   ],
   "source": [
    "thermal_disadvantage = 1.16\n",
    "\n",
    "def thermal_utilization(thermal_disadvantage, V_m2f, N_mod, N_fuel, xs_a_mod, xs_a_fuel):\n",
    "    return 1/(1 + (thermal_disadvantage * (V_m2f) * (N_mod/N_fuel) * (xs_a_mod / xs_a_fuel)))\n",
    "\n",
    "f = thermal_utilization(thermal_disadvantage, V_m2f, N_mod, N_fuel, xs_a_mod, xs_a_fuel)\n",
    "print(f)"
   ],
   "metadata": {
    "collapsed": false,
    "pycharm": {
     "name": "#%%\n"
    }
   }
  },
  {
   "cell_type": "markdown",
   "source": [
    "Eta $\\eta$\n",
    "\n",
    "The number of neutrons produced per neutron absorbed. This factor has been\n",
    "introduced already before, but here we use it in a quantitative way.\n",
    "\n",
    "$ \\eta = \\frac{\\nu_f}{1 + \\frac{\\sigma_{a,fer}}{\\sigma_{a,fis}}} I $\n",
    "\n",
    "Any number of neutron that avoided being absorbed by the moderator and returned\n",
    "to the fuel to be absorbed might cause thermal fission in the fuel."
   ],
   "metadata": {
    "collapsed": false,
    "pycharm": {
     "name": "#%% md\n"
    }
   }
  },
  {
   "cell_type": "code",
   "execution_count": 357,
   "outputs": [
    {
     "name": "stdout",
     "output_type": "stream",
     "text": [
      "1.8164321769949523\n"
     ]
    }
   ],
   "source": [
    "def eta(enrichment, eta_fissile, xs_a_fissile, xs_a_fertile):\n",
    "    return eta_fissile/(1 + ((1 - enrichment)*xs_a_fertile) / (enrichment*xs_a_fissile))\n",
    "\n",
    "eta = eta(enrichment, U235_eta, U235_xs_a, U238_xs_c)\n",
    "print(eta)"
   ],
   "metadata": {
    "collapsed": false,
    "pycharm": {
     "name": "#%%\n"
    }
   }
  },
  {
   "cell_type": "markdown",
   "source": [
    "# k$_\\infty$\n",
    "\n",
    "Finally, we arrived at the multiplication factor for an infinite reactor.\n",
    "If we started the generation with $N_0$ neutrons, after a single generation\n",
    "we will have k$_\\infty$$* N_0$ neutrons in the next generation."
   ],
   "metadata": {
    "collapsed": false,
    "pycharm": {
     "name": "#%% md\n"
    }
   }
  },
  {
   "cell_type": "code",
   "execution_count": 358,
   "outputs": [
    {
     "name": "stdout",
     "output_type": "stream",
     "text": [
      "1.585957351165917\n"
     ]
    }
   ],
   "source": [
    "kinf = eps * p * f * eta\n",
    "print(kinf)"
   ],
   "metadata": {
    "collapsed": false,
    "pycharm": {
     "name": "#%%\n"
    }
   }
  },
  {
   "cell_type": "markdown",
   "source": [
    "Geometrical studies\n",
    "\n",
    "By varying the moderator to fuel ratio in a heterogeneous lattice, such as a\n",
    "LWR assembly, we can imagine that we are increasing the distance between rods\n",
    "for example."
   ],
   "metadata": {
    "collapsed": false,
    "pycharm": {
     "name": "#%% md\n"
    }
   }
  },
  {
   "cell_type": "code",
   "execution_count": 359,
   "outputs": [
    {
     "name": "stdout",
     "output_type": "stream",
     "text": [
      "[0.84195628 0.84352417 0.84506126 0.84656845 0.84804659 0.84949653\n",
      " 0.85091906 0.85231495 0.85368494 0.85502975 0.85635006 0.85764654\n",
      " 0.85891982 0.86017053 0.86139926 0.86260659 0.86379306 0.86495922\n",
      " 0.86610557 0.86723263 0.86834087 0.86943076 0.87050276 0.8715573\n",
      " 0.8725948  0.87361568 0.87462032 0.87560912 0.87658244 0.87754065\n",
      " 0.8784841  0.87941312 0.88032804 0.88122919 0.88211686 0.88299137\n",
      " 0.88385299 0.88470202 0.88553873 0.88636337 0.88717623 0.88797753\n",
      " 0.88876753 0.88954647 0.89031458 0.89107207 0.89181918 0.89255611\n",
      " 0.89328306 0.89400024 0.89470785 0.89540608 0.8960951  0.89677511\n",
      " 0.89744627 0.89810876 0.89876275 0.89940839 0.90004586 0.90067529\n",
      " 0.90129685 0.90191067 0.90251691 0.9031157  0.90370718 0.90429148\n",
      " 0.90486874 0.90543907 0.9060026  0.90655946 0.90710975 0.90765361\n",
      " 0.90819113 0.90872243 0.90924762 0.9097668  0.91028007 0.91078754\n",
      " 0.91128929 0.91178544 0.91227606 0.91276126 0.91324112 0.91371573\n",
      " 0.91418518 0.91464955 0.91510891 0.91556336 0.91601297 0.91645782\n",
      " 0.91689798 0.91733352 0.91776453 0.91819106 0.91861319 0.91903099\n",
      " 0.91944452 0.91985384 0.92025903 0.92066014 0.92105724 0.92145038\n",
      " 0.92183962 0.92222503 0.92260666 0.92298455 0.92335878 0.92372938\n",
      " 0.92409642 0.92445994 0.92482    0.92517664 0.92552992 0.92587987\n",
      " 0.92622655 0.92657    0.92691027 0.9272474  0.92758143 0.92791241\n",
      " 0.92824038 0.92856538 0.92888745 0.92920663 0.92952295 0.92983646\n",
      " 0.93014719 0.93045519 0.93076048 0.9310631  0.93136308 0.93166047\n",
      " 0.93195529 0.93224758 0.93253737 0.93282469 0.93310957 0.93339205\n",
      " 0.93367215 0.9339499  0.93422534 0.93449849 0.93476938 0.93503804\n",
      " 0.9353045  0.93556878 0.9358309  0.93609091 0.93634881 0.93660465\n",
      " 0.93685843 0.93711019 0.93735995 0.93760774 0.93785357 0.93809747\n",
      " 0.93833947 0.93857958 0.93881783 0.93905424 0.93928882 0.93952161\n",
      " 0.93975262 0.93998187 0.94020939 0.94043518 0.94065928 0.9408817\n",
      " 0.94110245 0.94132156 0.94153905 0.94175493 0.94196923 0.94218195\n",
      " 0.94239312 0.94260275 0.94281086 0.94301747 0.94322259 0.94342624\n",
      " 0.94362844 0.94382919 0.94402852 0.94422644 0.94442296 0.94461811\n",
      " 0.94481188 0.94500431 0.9451954  0.94538517 0.94557362 0.94576079\n",
      " 0.94594666 0.94613127 0.94631462 0.94649673 0.94667761 0.94685727\n",
      " 0.94703572 0.94721297 0.94738905 0.94756395 0.94773769 0.94791029\n",
      " 0.94808175 0.94825209 0.94842131 0.94858943 0.94875645 0.9489224\n",
      " 0.94908727 0.94925108 0.94941384 0.94957556 0.94973625 0.94989592\n",
      " 0.95005458 0.95021224 0.9503689  0.95052458 0.95067929 0.95083303\n",
      " 0.95098582 0.95113766 0.95128856 0.95143854 0.95158759 0.95173573\n",
      " 0.95188297 0.95202931 0.95217476 0.95231934 0.95246304 0.95260588\n",
      " 0.95274786 0.952889   0.95302929 0.95316875 0.95330739 0.95344521\n",
      " 0.95358221 0.95371842 0.95385382 0.95398844 0.95412227 0.95425533\n",
      " 0.95438761 0.95451914 0.9546499  0.95477992 0.95490919 0.95503773\n",
      " 0.95516554 0.95529262 0.95541898 0.95554463 0.95566958 0.95579382\n",
      " 0.95591737 0.95604024 0.95616241 0.95628391 0.95640474 0.95652491\n",
      " 0.95664441 0.95676326 0.95688146 0.95699901 0.95711592 0.9572322\n",
      " 0.95734785 0.95746288 0.95757729 0.95769108 0.95780427 0.95791685\n",
      " 0.95802884 0.95814022 0.95825102 0.95836124 0.95847087 0.95857993\n",
      " 0.95868841 0.95879633 0.95890369 0.95901049 0.95911673 0.95922243\n",
      " 0.95932758 0.95943219 0.95953627 0.95963981 0.95974282 0.95984531\n",
      " 0.95994727 0.96004872 0.96014966 0.96025009 0.96035002 0.96044944\n",
      " 0.96054836 0.9606468  0.96074474 0.9608422  0.96093917 0.96103566\n",
      " 0.96113168 0.96122723 0.96132231 0.96141692 0.96151107 0.96160476\n",
      " 0.961698   0.96179079 0.96188312 0.96197502 0.96206647 0.96215748\n",
      " 0.96224805 0.9623382  0.96242791 0.9625172  0.96260606 0.9626945\n",
      " 0.96278253 0.96287014 0.96295734 0.96304413 0.96313052 0.9632165\n",
      " 0.96330209 0.96338727 0.96347206 0.96355646 0.96364047 0.96372409\n",
      " 0.96380733 0.96389019 0.96397267 0.96405478 0.96413651 0.96421787\n",
      " 0.96429886 0.96437949 0.96445975 0.96453965 0.96461919 0.96469838\n",
      " 0.96477721 0.9648557  0.96493383 0.96501162 0.96508906 0.96516616\n",
      " 0.96524292 0.96531934 0.96539543 0.96547118 0.96554661 0.9656217\n",
      " 0.96569647 0.96577091 0.96584503 0.96591883 0.96599232 0.96606548\n",
      " 0.96613833 0.96621087 0.9662831  0.96635503 0.96642664 0.96649795\n",
      " 0.96656896 0.96663967 0.96671008 0.96678019 0.96685001 0.96691954\n",
      " 0.96698877 0.96705772 0.96712638 0.96719475 0.96726284 0.96733065\n",
      " 0.96739817 0.96746542 0.96753239 0.96759909 0.96766551 0.96773166\n",
      " 0.96779754 0.96786315 0.9679285  0.96799358 0.9680584  0.96812295\n",
      " 0.96818725 0.96825128 0.96831506 0.96837858 0.96844185 0.96850486\n",
      " 0.96856763 0.96863014 0.96869241 0.96875443 0.9688162  0.96887774\n",
      " 0.96893902 0.96900007 0.96906088 0.96912145 0.96918178 0.96924188\n",
      " 0.96930174 0.96936138 0.96942078 0.96947995 0.96953889 0.9695976\n",
      " 0.96965609 0.96971436 0.9697724  0.96983021 0.96988781 0.96994519\n",
      " 0.97000235 0.97005929 0.97011602 0.97017253 0.97022883 0.97028492\n",
      " 0.9703408  0.97039646 0.97045192 0.97050717 0.97056222 0.97061706\n",
      " 0.97067169 0.97072613 0.97078036 0.97083439 0.97088822 0.97094185\n",
      " 0.97099529 0.97104852 0.97110157 0.97115442 0.97120708 0.97125954\n",
      " 0.97131182 0.9713639  0.9714158  0.9714675  0.97151903 0.97157036\n",
      " 0.97162151 0.97167248 0.97172326 0.97177387 0.97182429 0.97187453\n",
      " 0.97192459 0.97197448 0.97202419 0.97207372 0.97212308 0.97217226\n",
      " 0.97222127 0.97227011 0.97231877 0.97236727 0.97241559 0.97246375\n",
      " 0.97251174 0.97255956 0.97260722 0.97265471 0.97270204 0.9727492\n",
      " 0.9727962  0.97284304 0.97288972 0.97293623 0.97298259 0.97302879\n",
      " 0.97307483 0.97312072 0.97316644 0.97321202 0.97325744 0.9733027\n",
      " 0.97334781 0.97339277 0.97343758 0.97348224 0.97352675 0.97357111\n",
      " 0.97361532 0.97365938]\n",
      "[0.9614773  0.96110631 0.96073561 0.9603652  0.95999507 0.95962523\n",
      " 0.95925567 0.95888639 0.9585174  0.9581487  0.95778028 0.95741214\n",
      " 0.95704428 0.95667671 0.95630942 0.95594241 0.95557568 0.95520923\n",
      " 0.95484307 0.95447718 0.95411158 0.95374625 0.95338121 0.95301644\n",
      " 0.95265195 0.95228775 0.95192382 0.95156016 0.95119679 0.95083369\n",
      " 0.95047087 0.95010833 0.94974606 0.94938407 0.94902236 0.94866092\n",
      " 0.94829976 0.94793887 0.94757826 0.94721792 0.94685785 0.94649806\n",
      " 0.94613854 0.94577929 0.94542032 0.94506162 0.94470319 0.94434503\n",
      " 0.94398715 0.94362953 0.94327219 0.94291512 0.94255832 0.94220178\n",
      " 0.94184552 0.94148953 0.9411338  0.94077835 0.94042316 0.94006824\n",
      " 0.93971359 0.9393592  0.93900509 0.93865124 0.93829765 0.93794434\n",
      " 0.93759128 0.9372385  0.93688598 0.93653372 0.93618173 0.93583001\n",
      " 0.93547855 0.93512735 0.93477641 0.93442574 0.93407533 0.93372519\n",
      " 0.93337531 0.93302569 0.93267633 0.93232723 0.93197839 0.93162982\n",
      " 0.9312815  0.93093345 0.93058566 0.93023812 0.92989085 0.92954383\n",
      " 0.92919707 0.92885058 0.92850434 0.92815835 0.92781263 0.92746716\n",
      " 0.92712195 0.926777   0.92643231 0.92608787 0.92574368 0.92539976\n",
      " 0.92505608 0.92471267 0.9243695  0.9240266  0.92368394 0.92334154\n",
      " 0.9229994  0.92265751 0.92231587 0.92197448 0.92163335 0.92129247\n",
      " 0.92095184 0.92061146 0.92027133 0.91993146 0.91959184 0.91925246\n",
      " 0.91891334 0.91857447 0.91823585 0.91789747 0.91755935 0.91722148\n",
      " 0.91688385 0.91654647 0.91620934 0.91587246 0.91553583 0.91519944\n",
      " 0.9148633  0.91452741 0.91419176 0.91385636 0.91352121 0.9131863\n",
      " 0.91285164 0.91251722 0.91218305 0.91184912 0.91151544 0.911182\n",
      " 0.91084881 0.91051586 0.91018315 0.90985068 0.90951846 0.90918648\n",
      " 0.90885474 0.90852325 0.90819199 0.90786098 0.90753021 0.90719968\n",
      " 0.90686939 0.90653934 0.90620953 0.90587996 0.90555063 0.90522154\n",
      " 0.90489269 0.90456408 0.90423571 0.90390757 0.90357967 0.90325202\n",
      " 0.90292459 0.90259741 0.90227046 0.90194375 0.90161728 0.90129104\n",
      " 0.90096504 0.90063927 0.90031374 0.89998844 0.89966338 0.89933856\n",
      " 0.89901397 0.89868961 0.89836549 0.8980416  0.89771794 0.89739452\n",
      " 0.89707133 0.89674837 0.89642565 0.89610316 0.8957809  0.89545887\n",
      " 0.89513707 0.8948155  0.89449417 0.89417306 0.89385219 0.89353155\n",
      " 0.89321113 0.89289095 0.89257099 0.89225127 0.89193177 0.8916125\n",
      " 0.89129346 0.89097465 0.89065607 0.89033772 0.89001959 0.88970169\n",
      " 0.88938401 0.88906657 0.88874935 0.88843235 0.88811559 0.88779904\n",
      " 0.88748273 0.88716664 0.88685077 0.88653513 0.88621971 0.88590452\n",
      " 0.88558955 0.88527481 0.88496029 0.88464599 0.88433192 0.88401807\n",
      " 0.88370444 0.88339103 0.88307785 0.88276489 0.88245215 0.88213963\n",
      " 0.88182733 0.88151525 0.8812034  0.88089176 0.88058035 0.88026916\n",
      " 0.87995818 0.87964743 0.87933689 0.87902657 0.87871648 0.8784066\n",
      " 0.87809694 0.8777875  0.87747827 0.87716927 0.87686048 0.87655191\n",
      " 0.87624355 0.87593542 0.8756275  0.87531979 0.8750123  0.87470503\n",
      " 0.87439798 0.87409113 0.87378451 0.8734781  0.8731719  0.87286592\n",
      " 0.87256016 0.8722546  0.87194926 0.87164414 0.87133923 0.87103453\n",
      " 0.87073004 0.87042577 0.87012171 0.86981787 0.86951423 0.86921081\n",
      " 0.8689076  0.86860459 0.86830181 0.86799923 0.86769686 0.8673947\n",
      " 0.86709276 0.86679102 0.8664895  0.86618818 0.86588707 0.86558618\n",
      " 0.86528549 0.86498501 0.86468474 0.86438467 0.86408482 0.86378517\n",
      " 0.86348573 0.8631865  0.86288748 0.86258866 0.86229005 0.86199165\n",
      " 0.86169345 0.86139546 0.86109768 0.8608001  0.86050272 0.86020556\n",
      " 0.85990859 0.85961184 0.85931528 0.85901894 0.85872279 0.85842685\n",
      " 0.85813112 0.85783558 0.85754025 0.85724513 0.85695021 0.85665549\n",
      " 0.85636097 0.85606666 0.85577254 0.85547863 0.85518493 0.85489142\n",
      " 0.85459811 0.85430501 0.85401211 0.8537194  0.8534269  0.8531346\n",
      " 0.8528425  0.8525506  0.8522589  0.85196739 0.85167609 0.85138499\n",
      " 0.85109408 0.85080338 0.85051287 0.85022256 0.84993245 0.84964254\n",
      " 0.84935282 0.8490633  0.84877398 0.84848486 0.84819593 0.8479072\n",
      " 0.84761867 0.84733033 0.84704219 0.84675425 0.8464665  0.84617894\n",
      " 0.84589158 0.84560442 0.84531745 0.84503068 0.8447441  0.84445771\n",
      " 0.84417152 0.84388553 0.84359972 0.84331411 0.8430287  0.84274347\n",
      " 0.84245844 0.84217361 0.84188896 0.84160451 0.84132025 0.84103618\n",
      " 0.8407523  0.84046862 0.84018512 0.83990182 0.83961871 0.83933579\n",
      " 0.83905306 0.83877052 0.83848817 0.83820601 0.83792404 0.83764226\n",
      " 0.83736067 0.83707927 0.83679805 0.83651703 0.8362362  0.83595555\n",
      " 0.83567509 0.83539482 0.83511474 0.83483485 0.83455514 0.83427562\n",
      " 0.83399629 0.83371714 0.83343818 0.83315941 0.83288083 0.83260243\n",
      " 0.83232422 0.83204619 0.83176835 0.83149069 0.83121322 0.83093593\n",
      " 0.83065883 0.83038192 0.83010519 0.82982864 0.82955228 0.8292761\n",
      " 0.8290001  0.82872429 0.82844867 0.82817322 0.82789796 0.82762288\n",
      " 0.82734799 0.82707327 0.82679874 0.82652439 0.82625023 0.82597624\n",
      " 0.82570244 0.82542882 0.82515538 0.82488212 0.82460904 0.82433614\n",
      " 0.82406342 0.82379089 0.82351853 0.82324636 0.82297436 0.82270254\n",
      " 0.82243091 0.82215945 0.82188817 0.82161707 0.82134615 0.8210754\n",
      " 0.82080484 0.82053445 0.82026425 0.81999422 0.81972437 0.81945469\n",
      " 0.81918519 0.81891587 0.81864673 0.81837776 0.81810898 0.81784036\n",
      " 0.81757193 0.81730367 0.81703558 0.81676767 0.81649994 0.81623238\n",
      " 0.815965   0.81569779 0.81543076 0.8151639  0.81489722 0.81463071\n",
      " 0.81436438 0.81409822 0.81383223 0.81356642 0.81330078 0.81303532\n",
      " 0.81277002 0.8125049  0.81223996 0.81197519 0.81171058 0.81144616\n",
      " 0.8111819  0.81091782 0.8106539  0.81039016 0.81012659 0.8098632\n",
      " 0.80959997 0.80933691 0.80907403 0.80881132 0.80854877 0.8082864\n",
      " 0.8080242  0.80776217 0.8075003  0.80723861 0.80697709 0.80671573\n",
      " 0.80645455 0.80619353]\n"
     ]
    },
    {
     "data": {
      "text/plain": "<Figure size 576x396 with 1 Axes>",
      "image/png": "[encoded data removed]"
     },
     "metadata": {},
     "output_type": "display_data"
    }
   ],
   "source": [
    "V_m2f_study = np.linspace(1, 6, 500)\n",
    "\n",
    "p = resonance_escape(enrichment, V_m2f_study, N_mod, N_fuel, led_mod, xs_s_mod, I)\n",
    "print(p)\n",
    "\n",
    "f = thermal_utilization(thermal_disadvantage, V_m2f_study, N_mod, N_fuel, xs_a_mod, xs_a_fuel)\n",
    "print(f)\n",
    "\n",
    "pf = p*f\n",
    "\n",
    "fig, ax = plt.subplots()\n",
    "ax.plot(V_m2f_study, p, linewidth=0.5, label='p')\n",
    "ax.plot(V_m2f_study, f, linewidth=0.5, label='f')\n",
    "ax.plot(V_m2f_study, pf, linewidth=0.5, label='pf')\n",
    "ax.set(xlabel='Moderator to Fuel ratio',ylabel='Factor',\n",
    "       title='Optimum moderation')\n",
    "ax.legend()\n",
    "plt.savefig('pf_geometry_optimization.pdf', bbox_inches='tight')"
   ],
   "metadata": {
    "collapsed": false,
    "pycharm": {
     "name": "#%%\n"
    }
   }
  },
  {
   "cell_type": "markdown",
   "source": [
    "As we can see, as the moderator to fuel ratio increases, the resonance escape\n",
    "probability also increases, since the neutron can go through more collisions on\n",
    "average, avoiding fuel resonances and decreasing absorption.\n",
    "At the same time, with the increase in moderator to fuel ratio, the thermal\n",
    "utilization factor decreases, since the chance of the neutron being absorbed in\n",
    "the moderator increases.\n",
    "\n",
    "Since both effects have opposite consequences, there must be an optimum point\n",
    "where the neutron is scattered the most it can but goes on to cause fission in\n",
    "the fuel without staying unnecessarily long in the moderator. This happens to\n",
    "be at approximately 2/1 moderator to fuel ratio.\n",
    "\n",
    "Ironically, no water reactor is designed to have optimum moderation for at\n",
    "least 2 reasons:\n",
    "- The impact of moderator feedbacks is minimum, which is not interesting for reactor dynamics\n",
    "- As soluble boron is added to the moderator, the curve shifts to the left, causing the system to become unsafe due to over-moderation\n",
    "\n",
    "For these reasons, every LWR is designed to be under-moderated. This causes the\n",
    "reactor to have negative feedbacks, which is good for reactor control and load\n",
    "following, while allowing the addition of soluble boron with little impact to safety."
   ],
   "metadata": {
    "collapsed": false,
    "pycharm": {
     "name": "#%% md\n"
    }
   }
  }
 ],
 "metadata": {
  "kernelspec": {
   "display_name": "PyCharm (course_reactor_physics)",
   "language": "python",
   "name": "pycharm-43c23681"
  },
  "language_info": {
   "codemirror_mode": {
    "name": "ipython",
    "version": 3
   },
   "file_extension": ".py",
   "mimetype": "text/x-python",
   "name": "python",
   "nbconvert_exporter": "python",
   "pygments_lexer": "ipython3",
   "version": "3.7.12"
  }
 },
 "nbformat": 4,
 "nbformat_minor": 1
}