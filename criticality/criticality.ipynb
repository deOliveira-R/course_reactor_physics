{
 "cells": [
  {
   "cell_type": "markdown",
   "metadata": {
    "collapsed": true,
    "pycharm": {
     "name": "#%% md\n"
    }
   },
   "source": [
    "Energy Spectrum of Prompt Fission Neutrons\n",
    "=======================\n",
    "\n",
    "The energy spectrum of the prompt fission neutrons, which we'll call as the\n",
    "prompt fission spectrum for simplicity, represents the probability of neutrons\n",
    "of different energies to be born in a fission event &mdash; a very important\n",
    "parameter.\n",
    "\n",
    "This quantity, usually denoted by $\\chi_p$, is a probability distribution.\n",
    "So let's check some simple approaches to it."
   ]
  },
  {
   "cell_type": "code",
   "execution_count": 1,
   "metadata": {
    "pycharm": {
     "name": "#%%\n"
    }
   },
   "outputs": [],
   "source": [
    "import matplotlib as mpl\n",
    "import matplotlib.pyplot as plt\n",
    "from matplotlib.ticker import MaxNLocator\n",
    "import sympy as sym\n",
    "from sympy.plotting import plot\n",
    "\n",
    "mpl.style.use('seaborn')"
   ]
  },
  {
   "cell_type": "code",
   "execution_count": 2,
   "metadata": {
    "pycharm": {
     "name": "#%%\n"
    }
   },
   "outputs": [],
   "source": [
    "def neutron_pop(k):\n",
    "    \"\"\"\n",
    "    Gived the ratio of neutron pupulation in generation i, N_i, by the initial neutron population N_0 given the number of generations.\n",
    "    \"\"\"\n",
    "    ni_by_n0 = k**i\n",
    "    return ni_by_n0\n"
   ]
  },
  {
   "cell_type": "code",
   "execution_count": 3,
   "metadata": {
    "pycharm": {
     "name": "#%%\n"
    }
   },
   "outputs": [],
   "source": [
    "i = sym.symbols('i')\n",
    "crit_pop = neutron_pop(1.0)\n",
    "super_pop = neutron_pop(1.18)\n",
    "sub_pop = neutron_pop(0.9)\n",
    "\n",
    "gen = 10\n",
    "\n",
    "population = plot(sub_pop, crit_pop, super_pop, (i, 0, gen),\n",
    "                  adaptive = False,\n",
    "                  nb_of_points = 500,\n",
    "                  size=(5,3),\n",
    "                  xlabel='generation (-)',\n",
    "                  ylabel='$N_i/N_0$ (-)',\n",
    "                  axis_center=(-0.1,0.7),\n",
    "                  show=False)"
   ]
  },
  {
   "cell_type": "code",
   "execution_count": 4,
   "metadata": {
    "pycharm": {
     "name": "#%%\n"
    }
   },
   "outputs": [
    {
     "data": {
      "text/plain": "<Figure size 360x216 with 1 Axes>",
      "image/png": "[encoded data removed]"
     },
     "metadata": {},
     "output_type": "display_data"
    }
   ],
   "source": [
    "x0, y0 = population._series[0].get_points()\n",
    "x1, y1 = population._series[1].get_points()\n",
    "x2, y2 = population._series[2].get_points()\n",
    "\n",
    "fig, ax = plt.subplots(figsize=(5,3))\n",
    "ax.plot(x0, y0, label='k=0.90')\n",
    "ax.plot(x1, y1, label='k=1.00')\n",
    "ax.plot(x2, y2, label='k=1.18')\n",
    "ax.set_xlabel('generation')\n",
    "ax.set_ylabel('$N_i/N_0$')\n",
    "ax.xaxis.set_major_locator(MaxNLocator(integer=True))\n",
    "\n",
    "ax.legend()\n",
    "\n",
    "plt.savefig(f'k_pop_i{gen}.pdf', bbox_inches='tight')"
   ]
  },
  {
   "cell_type": "code",
   "execution_count": 4,
   "metadata": {
    "pycharm": {
     "name": "#%%\n"
    }
   },
   "outputs": [],
   "source": []
  }
 ],
 "metadata": {
  "kernelspec": {
   "display_name": "PyCharm (course_reactor_physics)",
   "language": "python",
   "name": "pycharm-43c23681"
  },
  "language_info": {
   "codemirror_mode": {
    "name": "ipython",
    "version": 3
   },
   "file_extension": ".py",
   "mimetype": "text/x-python",
   "name": "python",
   "nbconvert_exporter": "python",
   "pygments_lexer": "ipython3",
   "version": "3.7.12"
  }
 },
 "nbformat": 4,
 "nbformat_minor": 1
}